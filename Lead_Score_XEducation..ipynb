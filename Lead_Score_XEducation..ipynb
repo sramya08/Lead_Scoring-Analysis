{
 "cells": [
  {
   "cell_type": "markdown",
   "id": "cbc95cdf",
   "metadata": {},
   "source": [
    "# X Education"
   ]
  },
  {
   "cell_type": "markdown",
   "id": "1c615b5b",
   "metadata": {},
   "source": [
    "## Problem Statement"
   ]
  },
  {
   "cell_type": "markdown",
   "id": "f280c805",
   "metadata": {},
   "source": [
    "An education company named X Education sells online courses to industry professionals. On any given day, many professionals who are interested in the courses land on their website and browse for courses. \n",
    "\n",
    " \n",
    "\n",
    "The company markets its courses on several websites and search engines like Google. Once these people land on the website, they might browse the courses or fill up a form for the course or watch some videos. When these people fill up a form providing their email address or phone number, they are classified to be a lead. Moreover, the company also gets leads through past referrals. Once these leads are acquired, employees from the sales team start making calls, writing emails, etc. Through this process, some of the leads get converted while most do not. The typical lead conversion rate at X education is around 30%. \n",
    "\n",
    "X Education has appointed you to help them select the most promising leads, i.e. the leads that are most likely to convert into paying customers. The company requires you to build a model wherein you need to assign a lead score to each of the leads such that the customers with higher lead score have a higher conversion chance and the customers with lower lead score have a lower conversion chance. The CEO, in particular, has given a ballpark of the target lead conversion rate to be around 80%."
   ]
  },
  {
   "cell_type": "markdown",
   "id": "6e32fe7e",
   "metadata": {},
   "source": [
    "### Step 1- Loading Libraries and Importing Data"
   ]
  },
  {
   "cell_type": "code",
   "execution_count": 1,
   "id": "40c7889d",
   "metadata": {},
   "outputs": [],
   "source": [
    "# Suppressing Warnings\n",
    "import warnings\n",
    "warnings.filterwarnings('ignore')"
   ]
  },
  {
   "cell_type": "code",
   "execution_count": 2,
   "id": "2393bc17",
   "metadata": {},
   "outputs": [],
   "source": [
    "# Importing Pandas,Matplotlib and sklearn libraries\n",
    "import pandas as pd\n",
    "import numpy as np\n",
    "import matplotlib.pyplot as plt\n",
    "import seaborn as sns\n",
    "\n",
    "from sklearn.model_selection import train_test_split\n",
    "from sklearn.preprocessing import MinMaxScaler\n",
    "from sklearn.linear_model import LogisticRegression\n"
   ]
  },
  {
   "cell_type": "code",
   "execution_count": 3,
   "id": "d78f7bb2",
   "metadata": {},
   "outputs": [
    {
     "data": {
      "text/html": [
       "<div>\n",
       "<style scoped>\n",
       "    .dataframe tbody tr th:only-of-type {\n",
       "        vertical-align: middle;\n",
       "    }\n",
       "\n",
       "    .dataframe tbody tr th {\n",
       "        vertical-align: top;\n",
       "    }\n",
       "\n",
       "    .dataframe thead th {\n",
       "        text-align: right;\n",
       "    }\n",
       "</style>\n",
       "<table border=\"1\" class=\"dataframe\">\n",
       "  <thead>\n",
       "    <tr style=\"text-align: right;\">\n",
       "      <th></th>\n",
       "      <th>Prospect ID</th>\n",
       "      <th>Lead Number</th>\n",
       "      <th>Lead Origin</th>\n",
       "      <th>Lead Source</th>\n",
       "      <th>Do Not Email</th>\n",
       "      <th>Do Not Call</th>\n",
       "      <th>Converted</th>\n",
       "      <th>TotalVisits</th>\n",
       "      <th>Total Time Spent on Website</th>\n",
       "      <th>Page Views Per Visit</th>\n",
       "      <th>...</th>\n",
       "      <th>Get updates on DM Content</th>\n",
       "      <th>Lead Profile</th>\n",
       "      <th>City</th>\n",
       "      <th>Asymmetrique Activity Index</th>\n",
       "      <th>Asymmetrique Profile Index</th>\n",
       "      <th>Asymmetrique Activity Score</th>\n",
       "      <th>Asymmetrique Profile Score</th>\n",
       "      <th>I agree to pay the amount through cheque</th>\n",
       "      <th>A free copy of Mastering The Interview</th>\n",
       "      <th>Last Notable Activity</th>\n",
       "    </tr>\n",
       "  </thead>\n",
       "  <tbody>\n",
       "    <tr>\n",
       "      <th>0</th>\n",
       "      <td>7927b2df-8bba-4d29-b9a2-b6e0beafe620</td>\n",
       "      <td>660737</td>\n",
       "      <td>API</td>\n",
       "      <td>Olark Chat</td>\n",
       "      <td>No</td>\n",
       "      <td>No</td>\n",
       "      <td>0</td>\n",
       "      <td>0.0</td>\n",
       "      <td>0</td>\n",
       "      <td>0.0</td>\n",
       "      <td>...</td>\n",
       "      <td>No</td>\n",
       "      <td>Select</td>\n",
       "      <td>Select</td>\n",
       "      <td>02.Medium</td>\n",
       "      <td>02.Medium</td>\n",
       "      <td>15.0</td>\n",
       "      <td>15.0</td>\n",
       "      <td>No</td>\n",
       "      <td>No</td>\n",
       "      <td>Modified</td>\n",
       "    </tr>\n",
       "    <tr>\n",
       "      <th>1</th>\n",
       "      <td>2a272436-5132-4136-86fa-dcc88c88f482</td>\n",
       "      <td>660728</td>\n",
       "      <td>API</td>\n",
       "      <td>Organic Search</td>\n",
       "      <td>No</td>\n",
       "      <td>No</td>\n",
       "      <td>0</td>\n",
       "      <td>5.0</td>\n",
       "      <td>674</td>\n",
       "      <td>2.5</td>\n",
       "      <td>...</td>\n",
       "      <td>No</td>\n",
       "      <td>Select</td>\n",
       "      <td>Select</td>\n",
       "      <td>02.Medium</td>\n",
       "      <td>02.Medium</td>\n",
       "      <td>15.0</td>\n",
       "      <td>15.0</td>\n",
       "      <td>No</td>\n",
       "      <td>No</td>\n",
       "      <td>Email Opened</td>\n",
       "    </tr>\n",
       "    <tr>\n",
       "      <th>2</th>\n",
       "      <td>8cc8c611-a219-4f35-ad23-fdfd2656bd8a</td>\n",
       "      <td>660727</td>\n",
       "      <td>Landing Page Submission</td>\n",
       "      <td>Direct Traffic</td>\n",
       "      <td>No</td>\n",
       "      <td>No</td>\n",
       "      <td>1</td>\n",
       "      <td>2.0</td>\n",
       "      <td>1532</td>\n",
       "      <td>2.0</td>\n",
       "      <td>...</td>\n",
       "      <td>No</td>\n",
       "      <td>Potential Lead</td>\n",
       "      <td>Mumbai</td>\n",
       "      <td>02.Medium</td>\n",
       "      <td>01.High</td>\n",
       "      <td>14.0</td>\n",
       "      <td>20.0</td>\n",
       "      <td>No</td>\n",
       "      <td>Yes</td>\n",
       "      <td>Email Opened</td>\n",
       "    </tr>\n",
       "    <tr>\n",
       "      <th>3</th>\n",
       "      <td>0cc2df48-7cf4-4e39-9de9-19797f9b38cc</td>\n",
       "      <td>660719</td>\n",
       "      <td>Landing Page Submission</td>\n",
       "      <td>Direct Traffic</td>\n",
       "      <td>No</td>\n",
       "      <td>No</td>\n",
       "      <td>0</td>\n",
       "      <td>1.0</td>\n",
       "      <td>305</td>\n",
       "      <td>1.0</td>\n",
       "      <td>...</td>\n",
       "      <td>No</td>\n",
       "      <td>Select</td>\n",
       "      <td>Mumbai</td>\n",
       "      <td>02.Medium</td>\n",
       "      <td>01.High</td>\n",
       "      <td>13.0</td>\n",
       "      <td>17.0</td>\n",
       "      <td>No</td>\n",
       "      <td>No</td>\n",
       "      <td>Modified</td>\n",
       "    </tr>\n",
       "    <tr>\n",
       "      <th>4</th>\n",
       "      <td>3256f628-e534-4826-9d63-4a8b88782852</td>\n",
       "      <td>660681</td>\n",
       "      <td>Landing Page Submission</td>\n",
       "      <td>Google</td>\n",
       "      <td>No</td>\n",
       "      <td>No</td>\n",
       "      <td>1</td>\n",
       "      <td>2.0</td>\n",
       "      <td>1428</td>\n",
       "      <td>1.0</td>\n",
       "      <td>...</td>\n",
       "      <td>No</td>\n",
       "      <td>Select</td>\n",
       "      <td>Mumbai</td>\n",
       "      <td>02.Medium</td>\n",
       "      <td>01.High</td>\n",
       "      <td>15.0</td>\n",
       "      <td>18.0</td>\n",
       "      <td>No</td>\n",
       "      <td>No</td>\n",
       "      <td>Modified</td>\n",
       "    </tr>\n",
       "  </tbody>\n",
       "</table>\n",
       "<p>5 rows × 37 columns</p>\n",
       "</div>"
      ],
      "text/plain": [
       "                            Prospect ID  Lead Number              Lead Origin  \\\n",
       "0  7927b2df-8bba-4d29-b9a2-b6e0beafe620       660737                      API   \n",
       "1  2a272436-5132-4136-86fa-dcc88c88f482       660728                      API   \n",
       "2  8cc8c611-a219-4f35-ad23-fdfd2656bd8a       660727  Landing Page Submission   \n",
       "3  0cc2df48-7cf4-4e39-9de9-19797f9b38cc       660719  Landing Page Submission   \n",
       "4  3256f628-e534-4826-9d63-4a8b88782852       660681  Landing Page Submission   \n",
       "\n",
       "      Lead Source Do Not Email Do Not Call  Converted  TotalVisits  \\\n",
       "0      Olark Chat           No          No          0          0.0   \n",
       "1  Organic Search           No          No          0          5.0   \n",
       "2  Direct Traffic           No          No          1          2.0   \n",
       "3  Direct Traffic           No          No          0          1.0   \n",
       "4          Google           No          No          1          2.0   \n",
       "\n",
       "   Total Time Spent on Website  Page Views Per Visit  ...  \\\n",
       "0                            0                   0.0  ...   \n",
       "1                          674                   2.5  ...   \n",
       "2                         1532                   2.0  ...   \n",
       "3                          305                   1.0  ...   \n",
       "4                         1428                   1.0  ...   \n",
       "\n",
       "  Get updates on DM Content    Lead Profile    City  \\\n",
       "0                        No          Select  Select   \n",
       "1                        No          Select  Select   \n",
       "2                        No  Potential Lead  Mumbai   \n",
       "3                        No          Select  Mumbai   \n",
       "4                        No          Select  Mumbai   \n",
       "\n",
       "  Asymmetrique Activity Index Asymmetrique Profile Index  \\\n",
       "0                   02.Medium                  02.Medium   \n",
       "1                   02.Medium                  02.Medium   \n",
       "2                   02.Medium                    01.High   \n",
       "3                   02.Medium                    01.High   \n",
       "4                   02.Medium                    01.High   \n",
       "\n",
       "  Asymmetrique Activity Score Asymmetrique Profile Score  \\\n",
       "0                        15.0                       15.0   \n",
       "1                        15.0                       15.0   \n",
       "2                        14.0                       20.0   \n",
       "3                        13.0                       17.0   \n",
       "4                        15.0                       18.0   \n",
       "\n",
       "  I agree to pay the amount through cheque  \\\n",
       "0                                       No   \n",
       "1                                       No   \n",
       "2                                       No   \n",
       "3                                       No   \n",
       "4                                       No   \n",
       "\n",
       "  A free copy of Mastering The Interview Last Notable Activity  \n",
       "0                                     No              Modified  \n",
       "1                                     No          Email Opened  \n",
       "2                                    Yes          Email Opened  \n",
       "3                                     No              Modified  \n",
       "4                                     No              Modified  \n",
       "\n",
       "[5 rows x 37 columns]"
      ]
     },
     "execution_count": 3,
     "metadata": {},
     "output_type": "execute_result"
    }
   ],
   "source": [
    "#Reading data\n",
    "Lead_data=pd.read_csv(\"Leads.csv\")\n",
    "Lead_data.head()"
   ]
  },
  {
   "cell_type": "code",
   "execution_count": 4,
   "id": "0a89216a",
   "metadata": {},
   "outputs": [
    {
     "data": {
      "text/plain": [
       "(9240, 37)"
      ]
     },
     "execution_count": 4,
     "metadata": {},
     "output_type": "execute_result"
    }
   ],
   "source": [
    "# Checking dimensions of the dataframe\n",
    "Lead_data.shape"
   ]
  },
  {
   "cell_type": "code",
   "execution_count": 5,
   "id": "2244d0e4",
   "metadata": {},
   "outputs": [
    {
     "data": {
      "text/html": [
       "<div>\n",
       "<style scoped>\n",
       "    .dataframe tbody tr th:only-of-type {\n",
       "        vertical-align: middle;\n",
       "    }\n",
       "\n",
       "    .dataframe tbody tr th {\n",
       "        vertical-align: top;\n",
       "    }\n",
       "\n",
       "    .dataframe thead th {\n",
       "        text-align: right;\n",
       "    }\n",
       "</style>\n",
       "<table border=\"1\" class=\"dataframe\">\n",
       "  <thead>\n",
       "    <tr style=\"text-align: right;\">\n",
       "      <th></th>\n",
       "      <th>Lead Number</th>\n",
       "      <th>Converted</th>\n",
       "      <th>TotalVisits</th>\n",
       "      <th>Total Time Spent on Website</th>\n",
       "      <th>Page Views Per Visit</th>\n",
       "      <th>Asymmetrique Activity Score</th>\n",
       "      <th>Asymmetrique Profile Score</th>\n",
       "    </tr>\n",
       "  </thead>\n",
       "  <tbody>\n",
       "    <tr>\n",
       "      <th>count</th>\n",
       "      <td>9240.000000</td>\n",
       "      <td>9240.000000</td>\n",
       "      <td>9103.000000</td>\n",
       "      <td>9240.000000</td>\n",
       "      <td>9103.000000</td>\n",
       "      <td>5022.000000</td>\n",
       "      <td>5022.000000</td>\n",
       "    </tr>\n",
       "    <tr>\n",
       "      <th>mean</th>\n",
       "      <td>617188.435606</td>\n",
       "      <td>0.385390</td>\n",
       "      <td>3.445238</td>\n",
       "      <td>487.698268</td>\n",
       "      <td>2.362820</td>\n",
       "      <td>14.306252</td>\n",
       "      <td>16.344883</td>\n",
       "    </tr>\n",
       "    <tr>\n",
       "      <th>std</th>\n",
       "      <td>23405.995698</td>\n",
       "      <td>0.486714</td>\n",
       "      <td>4.854853</td>\n",
       "      <td>548.021466</td>\n",
       "      <td>2.161418</td>\n",
       "      <td>1.386694</td>\n",
       "      <td>1.811395</td>\n",
       "    </tr>\n",
       "    <tr>\n",
       "      <th>min</th>\n",
       "      <td>579533.000000</td>\n",
       "      <td>0.000000</td>\n",
       "      <td>0.000000</td>\n",
       "      <td>0.000000</td>\n",
       "      <td>0.000000</td>\n",
       "      <td>7.000000</td>\n",
       "      <td>11.000000</td>\n",
       "    </tr>\n",
       "    <tr>\n",
       "      <th>25%</th>\n",
       "      <td>596484.500000</td>\n",
       "      <td>0.000000</td>\n",
       "      <td>1.000000</td>\n",
       "      <td>12.000000</td>\n",
       "      <td>1.000000</td>\n",
       "      <td>14.000000</td>\n",
       "      <td>15.000000</td>\n",
       "    </tr>\n",
       "    <tr>\n",
       "      <th>50%</th>\n",
       "      <td>615479.000000</td>\n",
       "      <td>0.000000</td>\n",
       "      <td>3.000000</td>\n",
       "      <td>248.000000</td>\n",
       "      <td>2.000000</td>\n",
       "      <td>14.000000</td>\n",
       "      <td>16.000000</td>\n",
       "    </tr>\n",
       "    <tr>\n",
       "      <th>75%</th>\n",
       "      <td>637387.250000</td>\n",
       "      <td>1.000000</td>\n",
       "      <td>5.000000</td>\n",
       "      <td>936.000000</td>\n",
       "      <td>3.000000</td>\n",
       "      <td>15.000000</td>\n",
       "      <td>18.000000</td>\n",
       "    </tr>\n",
       "    <tr>\n",
       "      <th>max</th>\n",
       "      <td>660737.000000</td>\n",
       "      <td>1.000000</td>\n",
       "      <td>251.000000</td>\n",
       "      <td>2272.000000</td>\n",
       "      <td>55.000000</td>\n",
       "      <td>18.000000</td>\n",
       "      <td>20.000000</td>\n",
       "    </tr>\n",
       "  </tbody>\n",
       "</table>\n",
       "</div>"
      ],
      "text/plain": [
       "         Lead Number    Converted  TotalVisits  Total Time Spent on Website  \\\n",
       "count    9240.000000  9240.000000  9103.000000                  9240.000000   \n",
       "mean   617188.435606     0.385390     3.445238                   487.698268   \n",
       "std     23405.995698     0.486714     4.854853                   548.021466   \n",
       "min    579533.000000     0.000000     0.000000                     0.000000   \n",
       "25%    596484.500000     0.000000     1.000000                    12.000000   \n",
       "50%    615479.000000     0.000000     3.000000                   248.000000   \n",
       "75%    637387.250000     1.000000     5.000000                   936.000000   \n",
       "max    660737.000000     1.000000   251.000000                  2272.000000   \n",
       "\n",
       "       Page Views Per Visit  Asymmetrique Activity Score  \\\n",
       "count           9103.000000                  5022.000000   \n",
       "mean               2.362820                    14.306252   \n",
       "std                2.161418                     1.386694   \n",
       "min                0.000000                     7.000000   \n",
       "25%                1.000000                    14.000000   \n",
       "50%                2.000000                    14.000000   \n",
       "75%                3.000000                    15.000000   \n",
       "max               55.000000                    18.000000   \n",
       "\n",
       "       Asymmetrique Profile Score  \n",
       "count                 5022.000000  \n",
       "mean                    16.344883  \n",
       "std                      1.811395  \n",
       "min                     11.000000  \n",
       "25%                     15.000000  \n",
       "50%                     16.000000  \n",
       "75%                     18.000000  \n",
       "max                     20.000000  "
      ]
     },
     "execution_count": 5,
     "metadata": {},
     "output_type": "execute_result"
    }
   ],
   "source": [
    "#Looking ata the statistical aspect of data frame\n",
    "Lead_data.describe()"
   ]
  },
  {
   "cell_type": "code",
   "execution_count": 6,
   "id": "a011b217",
   "metadata": {},
   "outputs": [
    {
     "name": "stdout",
     "output_type": "stream",
     "text": [
      "<class 'pandas.core.frame.DataFrame'>\n",
      "RangeIndex: 9240 entries, 0 to 9239\n",
      "Data columns (total 37 columns):\n",
      " #   Column                                         Non-Null Count  Dtype  \n",
      "---  ------                                         --------------  -----  \n",
      " 0   Prospect ID                                    9240 non-null   object \n",
      " 1   Lead Number                                    9240 non-null   int64  \n",
      " 2   Lead Origin                                    9240 non-null   object \n",
      " 3   Lead Source                                    9204 non-null   object \n",
      " 4   Do Not Email                                   9240 non-null   object \n",
      " 5   Do Not Call                                    9240 non-null   object \n",
      " 6   Converted                                      9240 non-null   int64  \n",
      " 7   TotalVisits                                    9103 non-null   float64\n",
      " 8   Total Time Spent on Website                    9240 non-null   int64  \n",
      " 9   Page Views Per Visit                           9103 non-null   float64\n",
      " 10  Last Activity                                  9137 non-null   object \n",
      " 11  Country                                        6779 non-null   object \n",
      " 12  Specialization                                 7802 non-null   object \n",
      " 13  How did you hear about X Education             7033 non-null   object \n",
      " 14  What is your current occupation                6550 non-null   object \n",
      " 15  What matters most to you in choosing a course  6531 non-null   object \n",
      " 16  Search                                         9240 non-null   object \n",
      " 17  Magazine                                       9240 non-null   object \n",
      " 18  Newspaper Article                              9240 non-null   object \n",
      " 19  X Education Forums                             9240 non-null   object \n",
      " 20  Newspaper                                      9240 non-null   object \n",
      " 21  Digital Advertisement                          9240 non-null   object \n",
      " 22  Through Recommendations                        9240 non-null   object \n",
      " 23  Receive More Updates About Our Courses         9240 non-null   object \n",
      " 24  Tags                                           5887 non-null   object \n",
      " 25  Lead Quality                                   4473 non-null   object \n",
      " 26  Update me on Supply Chain Content              9240 non-null   object \n",
      " 27  Get updates on DM Content                      9240 non-null   object \n",
      " 28  Lead Profile                                   6531 non-null   object \n",
      " 29  City                                           7820 non-null   object \n",
      " 30  Asymmetrique Activity Index                    5022 non-null   object \n",
      " 31  Asymmetrique Profile Index                     5022 non-null   object \n",
      " 32  Asymmetrique Activity Score                    5022 non-null   float64\n",
      " 33  Asymmetrique Profile Score                     5022 non-null   float64\n",
      " 34  I agree to pay the amount through cheque       9240 non-null   object \n",
      " 35  A free copy of Mastering The Interview         9240 non-null   object \n",
      " 36  Last Notable Activity                          9240 non-null   object \n",
      "dtypes: float64(4), int64(3), object(30)\n",
      "memory usage: 2.6+ MB\n"
     ]
    }
   ],
   "source": [
    "# Let's see the type of each column\n",
    "Lead_data.info()"
   ]
  },
  {
   "cell_type": "markdown",
   "id": "53ba3d29",
   "metadata": {},
   "source": [
    "### Step 2 - Data Preparation"
   ]
  },
  {
   "cell_type": "markdown",
   "id": "e1136f24",
   "metadata": {},
   "source": [
    "#### Converting some binary variables (Yes/No) to 0/1-As Most of the data is in yes or no convereting then into binary form.¶"
   ]
  },
  {
   "cell_type": "code",
   "execution_count": 7,
   "id": "72ae53ba",
   "metadata": {},
   "outputs": [],
   "source": [
    "# List of variables to map\n",
    "\n",
    "varlist =  ['Do Not Email', 'Do Not Call','Search', 'Magazine','Newspaper Article','X Education Forums','Newspaper','Digital Advertisement','Through Recommendations','A free copy of Mastering The Interview']\n",
    "\n",
    "# Defining the map function\n",
    "def binary_map(x):\n",
    "    return x.map({'Yes': 1, \"No\": 0})\n",
    "\n",
    "# Applying the function to the housing list\n",
    "Lead_data[varlist] = Lead_data[varlist].apply(binary_map)"
   ]
  },
  {
   "cell_type": "code",
   "execution_count": 8,
   "id": "c38b4a61",
   "metadata": {},
   "outputs": [
    {
     "data": {
      "text/html": [
       "<div>\n",
       "<style scoped>\n",
       "    .dataframe tbody tr th:only-of-type {\n",
       "        vertical-align: middle;\n",
       "    }\n",
       "\n",
       "    .dataframe tbody tr th {\n",
       "        vertical-align: top;\n",
       "    }\n",
       "\n",
       "    .dataframe thead th {\n",
       "        text-align: right;\n",
       "    }\n",
       "</style>\n",
       "<table border=\"1\" class=\"dataframe\">\n",
       "  <thead>\n",
       "    <tr style=\"text-align: right;\">\n",
       "      <th></th>\n",
       "      <th>Prospect ID</th>\n",
       "      <th>Lead Number</th>\n",
       "      <th>Lead Origin</th>\n",
       "      <th>Lead Source</th>\n",
       "      <th>Do Not Email</th>\n",
       "      <th>Do Not Call</th>\n",
       "      <th>Converted</th>\n",
       "      <th>TotalVisits</th>\n",
       "      <th>Total Time Spent on Website</th>\n",
       "      <th>Page Views Per Visit</th>\n",
       "      <th>...</th>\n",
       "      <th>Get updates on DM Content</th>\n",
       "      <th>Lead Profile</th>\n",
       "      <th>City</th>\n",
       "      <th>Asymmetrique Activity Index</th>\n",
       "      <th>Asymmetrique Profile Index</th>\n",
       "      <th>Asymmetrique Activity Score</th>\n",
       "      <th>Asymmetrique Profile Score</th>\n",
       "      <th>I agree to pay the amount through cheque</th>\n",
       "      <th>A free copy of Mastering The Interview</th>\n",
       "      <th>Last Notable Activity</th>\n",
       "    </tr>\n",
       "  </thead>\n",
       "  <tbody>\n",
       "    <tr>\n",
       "      <th>0</th>\n",
       "      <td>7927b2df-8bba-4d29-b9a2-b6e0beafe620</td>\n",
       "      <td>660737</td>\n",
       "      <td>API</td>\n",
       "      <td>Olark Chat</td>\n",
       "      <td>0</td>\n",
       "      <td>0</td>\n",
       "      <td>0</td>\n",
       "      <td>0.0</td>\n",
       "      <td>0</td>\n",
       "      <td>0.0</td>\n",
       "      <td>...</td>\n",
       "      <td>No</td>\n",
       "      <td>Select</td>\n",
       "      <td>Select</td>\n",
       "      <td>02.Medium</td>\n",
       "      <td>02.Medium</td>\n",
       "      <td>15.0</td>\n",
       "      <td>15.0</td>\n",
       "      <td>No</td>\n",
       "      <td>0</td>\n",
       "      <td>Modified</td>\n",
       "    </tr>\n",
       "    <tr>\n",
       "      <th>1</th>\n",
       "      <td>2a272436-5132-4136-86fa-dcc88c88f482</td>\n",
       "      <td>660728</td>\n",
       "      <td>API</td>\n",
       "      <td>Organic Search</td>\n",
       "      <td>0</td>\n",
       "      <td>0</td>\n",
       "      <td>0</td>\n",
       "      <td>5.0</td>\n",
       "      <td>674</td>\n",
       "      <td>2.5</td>\n",
       "      <td>...</td>\n",
       "      <td>No</td>\n",
       "      <td>Select</td>\n",
       "      <td>Select</td>\n",
       "      <td>02.Medium</td>\n",
       "      <td>02.Medium</td>\n",
       "      <td>15.0</td>\n",
       "      <td>15.0</td>\n",
       "      <td>No</td>\n",
       "      <td>0</td>\n",
       "      <td>Email Opened</td>\n",
       "    </tr>\n",
       "    <tr>\n",
       "      <th>2</th>\n",
       "      <td>8cc8c611-a219-4f35-ad23-fdfd2656bd8a</td>\n",
       "      <td>660727</td>\n",
       "      <td>Landing Page Submission</td>\n",
       "      <td>Direct Traffic</td>\n",
       "      <td>0</td>\n",
       "      <td>0</td>\n",
       "      <td>1</td>\n",
       "      <td>2.0</td>\n",
       "      <td>1532</td>\n",
       "      <td>2.0</td>\n",
       "      <td>...</td>\n",
       "      <td>No</td>\n",
       "      <td>Potential Lead</td>\n",
       "      <td>Mumbai</td>\n",
       "      <td>02.Medium</td>\n",
       "      <td>01.High</td>\n",
       "      <td>14.0</td>\n",
       "      <td>20.0</td>\n",
       "      <td>No</td>\n",
       "      <td>1</td>\n",
       "      <td>Email Opened</td>\n",
       "    </tr>\n",
       "    <tr>\n",
       "      <th>3</th>\n",
       "      <td>0cc2df48-7cf4-4e39-9de9-19797f9b38cc</td>\n",
       "      <td>660719</td>\n",
       "      <td>Landing Page Submission</td>\n",
       "      <td>Direct Traffic</td>\n",
       "      <td>0</td>\n",
       "      <td>0</td>\n",
       "      <td>0</td>\n",
       "      <td>1.0</td>\n",
       "      <td>305</td>\n",
       "      <td>1.0</td>\n",
       "      <td>...</td>\n",
       "      <td>No</td>\n",
       "      <td>Select</td>\n",
       "      <td>Mumbai</td>\n",
       "      <td>02.Medium</td>\n",
       "      <td>01.High</td>\n",
       "      <td>13.0</td>\n",
       "      <td>17.0</td>\n",
       "      <td>No</td>\n",
       "      <td>0</td>\n",
       "      <td>Modified</td>\n",
       "    </tr>\n",
       "    <tr>\n",
       "      <th>4</th>\n",
       "      <td>3256f628-e534-4826-9d63-4a8b88782852</td>\n",
       "      <td>660681</td>\n",
       "      <td>Landing Page Submission</td>\n",
       "      <td>Google</td>\n",
       "      <td>0</td>\n",
       "      <td>0</td>\n",
       "      <td>1</td>\n",
       "      <td>2.0</td>\n",
       "      <td>1428</td>\n",
       "      <td>1.0</td>\n",
       "      <td>...</td>\n",
       "      <td>No</td>\n",
       "      <td>Select</td>\n",
       "      <td>Mumbai</td>\n",
       "      <td>02.Medium</td>\n",
       "      <td>01.High</td>\n",
       "      <td>15.0</td>\n",
       "      <td>18.0</td>\n",
       "      <td>No</td>\n",
       "      <td>0</td>\n",
       "      <td>Modified</td>\n",
       "    </tr>\n",
       "  </tbody>\n",
       "</table>\n",
       "<p>5 rows × 37 columns</p>\n",
       "</div>"
      ],
      "text/plain": [
       "                            Prospect ID  Lead Number              Lead Origin  \\\n",
       "0  7927b2df-8bba-4d29-b9a2-b6e0beafe620       660737                      API   \n",
       "1  2a272436-5132-4136-86fa-dcc88c88f482       660728                      API   \n",
       "2  8cc8c611-a219-4f35-ad23-fdfd2656bd8a       660727  Landing Page Submission   \n",
       "3  0cc2df48-7cf4-4e39-9de9-19797f9b38cc       660719  Landing Page Submission   \n",
       "4  3256f628-e534-4826-9d63-4a8b88782852       660681  Landing Page Submission   \n",
       "\n",
       "      Lead Source  Do Not Email  Do Not Call  Converted  TotalVisits  \\\n",
       "0      Olark Chat             0            0          0          0.0   \n",
       "1  Organic Search             0            0          0          5.0   \n",
       "2  Direct Traffic             0            0          1          2.0   \n",
       "3  Direct Traffic             0            0          0          1.0   \n",
       "4          Google             0            0          1          2.0   \n",
       "\n",
       "   Total Time Spent on Website  Page Views Per Visit  ...  \\\n",
       "0                            0                   0.0  ...   \n",
       "1                          674                   2.5  ...   \n",
       "2                         1532                   2.0  ...   \n",
       "3                          305                   1.0  ...   \n",
       "4                         1428                   1.0  ...   \n",
       "\n",
       "  Get updates on DM Content    Lead Profile    City  \\\n",
       "0                        No          Select  Select   \n",
       "1                        No          Select  Select   \n",
       "2                        No  Potential Lead  Mumbai   \n",
       "3                        No          Select  Mumbai   \n",
       "4                        No          Select  Mumbai   \n",
       "\n",
       "  Asymmetrique Activity Index Asymmetrique Profile Index  \\\n",
       "0                   02.Medium                  02.Medium   \n",
       "1                   02.Medium                  02.Medium   \n",
       "2                   02.Medium                    01.High   \n",
       "3                   02.Medium                    01.High   \n",
       "4                   02.Medium                    01.High   \n",
       "\n",
       "  Asymmetrique Activity Score  Asymmetrique Profile Score  \\\n",
       "0                        15.0                        15.0   \n",
       "1                        15.0                        15.0   \n",
       "2                        14.0                        20.0   \n",
       "3                        13.0                        17.0   \n",
       "4                        15.0                        18.0   \n",
       "\n",
       "   I agree to pay the amount through cheque  \\\n",
       "0                                        No   \n",
       "1                                        No   \n",
       "2                                        No   \n",
       "3                                        No   \n",
       "4                                        No   \n",
       "\n",
       "   A free copy of Mastering The Interview  Last Notable Activity  \n",
       "0                                       0               Modified  \n",
       "1                                       0           Email Opened  \n",
       "2                                       1           Email Opened  \n",
       "3                                       0               Modified  \n",
       "4                                       0               Modified  \n",
       "\n",
       "[5 rows x 37 columns]"
      ]
     },
     "execution_count": 8,
     "metadata": {},
     "output_type": "execute_result"
    }
   ],
   "source": [
    "Lead_data.head()"
   ]
  },
  {
   "cell_type": "code",
   "execution_count": 9,
   "id": "19daecd3",
   "metadata": {},
   "outputs": [
    {
     "data": {
      "text/plain": [
       "Prospect ID                                         0\n",
       "Lead Number                                         0\n",
       "Lead Origin                                         0\n",
       "Lead Source                                        36\n",
       "Do Not Email                                        0\n",
       "Do Not Call                                         0\n",
       "Converted                                           0\n",
       "TotalVisits                                       137\n",
       "Total Time Spent on Website                         0\n",
       "Page Views Per Visit                              137\n",
       "Last Activity                                     103\n",
       "Country                                          2461\n",
       "Specialization                                   1438\n",
       "How did you hear about X Education               2207\n",
       "What is your current occupation                  2690\n",
       "What matters most to you in choosing a course    2709\n",
       "Search                                              0\n",
       "Magazine                                            0\n",
       "Newspaper Article                                   0\n",
       "X Education Forums                                  0\n",
       "Newspaper                                           0\n",
       "Digital Advertisement                               0\n",
       "Through Recommendations                             0\n",
       "Receive More Updates About Our Courses              0\n",
       "Tags                                             3353\n",
       "Lead Quality                                     4767\n",
       "Update me on Supply Chain Content                   0\n",
       "Get updates on DM Content                           0\n",
       "Lead Profile                                     2709\n",
       "City                                             1420\n",
       "Asymmetrique Activity Index                      4218\n",
       "Asymmetrique Profile Index                       4218\n",
       "Asymmetrique Activity Score                      4218\n",
       "Asymmetrique Profile Score                       4218\n",
       "I agree to pay the amount through cheque            0\n",
       "A free copy of Mastering The Interview              0\n",
       "Last Notable Activity                               0\n",
       "dtype: int64"
      ]
     },
     "execution_count": 9,
     "metadata": {},
     "output_type": "execute_result"
    }
   ],
   "source": [
    "# Checking for null values\n",
    "Lead_data.isnull().sum()"
   ]
  },
  {
   "cell_type": "code",
   "execution_count": 10,
   "id": "d37a8514",
   "metadata": {},
   "outputs": [],
   "source": [
    "#Dropping Unnecesssary columns\n",
    "un_nec_col=['Prospect ID','Last Activity','Last Notable Activity','Tags','Receive More Updates About Our Courses','How did you hear about X Education',\n",
    "              'Update me on Supply Chain Content', 'Get updates on DM Content','What matters most to you in choosing a course',\n",
    "              'I agree to pay the amount through cheque']\n",
    "Lead_data.drop(un_nec_col,axis=1,inplace=True)"
   ]
  },
  {
   "cell_type": "markdown",
   "id": "f249afc7",
   "metadata": {},
   "source": [
    "#### Looking at every column and handling missing values"
   ]
  },
  {
   "cell_type": "markdown",
   "id": "2e8386e2",
   "metadata": {},
   "source": [
    "Column: Lead Source\n",
    "    \n",
    "    \n",
    "    \n",
    "    Lead Source: The source of the lead. Includes Google, Organic Search, Olark Chat, etc.\n"
   ]
  },
  {
   "cell_type": "code",
   "execution_count": 11,
   "id": "f56c9abe",
   "metadata": {},
   "outputs": [
    {
     "data": {
      "text/plain": [
       "<AxesSubplot:>"
      ]
     },
     "execution_count": 11,
     "metadata": {},
     "output_type": "execute_result"
    },
    {
     "data": {
      "image/png": "[encoded data removed]",
      "text/plain": [
       "<Figure size 432x288 with 1 Axes>"
      ]
     },
     "metadata": {
      "needs_background": "light"
     },
     "output_type": "display_data"
    }
   ],
   "source": [
    "#Plot distribution of Lead Source\n",
    "\n",
    "Lead_data['Lead Source'].value_counts().plot.bar()"
   ]
  },
  {
   "cell_type": "markdown",
   "id": "aaf9f9dc",
   "metadata": {},
   "source": [
    "Here the distribution shows that majorly its divided among goggle,direct traffic,olark chat so we cannot take only one for handling null values. As a result, imputing nulls with a new value \"Unknown\" would be the preferred null imputation method."
   ]
  },
  {
   "cell_type": "code",
   "execution_count": 12,
   "id": "529a1445",
   "metadata": {},
   "outputs": [],
   "source": [
    "#Impute nulls with \"Unknown\"\n",
    "Lead_data['Lead Source'] = Lead_data['Lead Source'].fillna('Unknown')"
   ]
  },
  {
   "cell_type": "code",
   "execution_count": 13,
   "id": "f1374f37",
   "metadata": {},
   "outputs": [
    {
     "data": {
      "text/plain": [
       "Google               2868\n",
       "Direct Traffic       2543\n",
       "Olark Chat           1755\n",
       "Organic Search       1154\n",
       "Reference             534\n",
       "Welingak Website      142\n",
       "Referral Sites        125\n",
       "Facebook               55\n",
       "Unknown                36\n",
       "bing                    6\n",
       "google                  5\n",
       "Click2call              4\n",
       "Press_Release           2\n",
       "Social Media            2\n",
       "Live Chat               2\n",
       "youtubechannel          1\n",
       "testone                 1\n",
       "Pay per Click Ads       1\n",
       "welearnblog_Home        1\n",
       "WeLearn                 1\n",
       "blog                    1\n",
       "NC_EDM                  1\n",
       "Name: Lead Source, dtype: int64"
      ]
     },
     "execution_count": 13,
     "metadata": {},
     "output_type": "execute_result"
    }
   ],
   "source": [
    "Lead_data['Lead Source'].value_counts()"
   ]
  },
  {
   "cell_type": "markdown",
   "id": "c49ca97e",
   "metadata": {},
   "source": [
    "#### Column: TotalVisits & Page Views Per Visit"
   ]
  },
  {
   "cell_type": "code",
   "execution_count": 14,
   "id": "07605e87",
   "metadata": {},
   "outputs": [
    {
     "data": {
      "text/plain": [
       "<AxesSubplot:ylabel='Frequency'>"
      ]
     },
     "execution_count": 14,
     "metadata": {},
     "output_type": "execute_result"
    },
    {
     "data": {
      "image/png": "[encoded data removed]",
      "text/plain": [
       "<Figure size 432x288 with 1 Axes>"
      ]
     },
     "metadata": {
      "needs_background": "light"
     },
     "output_type": "display_data"
    }
   ],
   "source": [
    "Lead_data['TotalVisits'].plot.hist()"
   ]
  },
  {
   "cell_type": "code",
   "execution_count": 15,
   "id": "6b7513b3",
   "metadata": {},
   "outputs": [
    {
     "data": {
      "text/plain": [
       "Text(0.5, 1.0, 'Distribution of Page Views Per Visit')"
      ]
     },
     "execution_count": 15,
     "metadata": {},
     "output_type": "execute_result"
    },
    {
     "data": {
      "image/png": "[encoded data removed]",
      "text/plain": [
       "<Figure size 432x288 with 1 Axes>"
      ]
     },
     "metadata": {
      "needs_background": "light"
     },
     "output_type": "display_data"
    }
   ],
   "source": [
    "sns.histplot(x='Page Views Per Visit', data=Lead_data, bins=50)\n",
    "plt.title(\"Distribution of Page Views Per Visit\")"
   ]
  },
  {
   "cell_type": "code",
   "execution_count": 16,
   "id": "59bee20f",
   "metadata": {},
   "outputs": [],
   "source": [
    "#The distributions for both these features is severely left-skewed, suggesting that median imputation would be best suited to handle nulls."
   ]
  },
  {
   "cell_type": "code",
   "execution_count": 17,
   "id": "23140860",
   "metadata": {},
   "outputs": [],
   "source": [
    "Lead_data[\"TotalVisits\"]=Lead_data[\"TotalVisits\"].fillna(Lead_data[\"TotalVisits\"].median())\n",
    "\n",
    "Lead_data[\"Page Views Per Visit\"]=Lead_data[\"Page Views Per Visit\"].fillna(Lead_data[\"Page Views Per Visit\"].median())"
   ]
  },
  {
   "cell_type": "code",
   "execution_count": 18,
   "id": "0d26630a",
   "metadata": {},
   "outputs": [
    {
     "data": {
      "text/plain": [
       "0"
      ]
     },
     "execution_count": 18,
     "metadata": {},
     "output_type": "execute_result"
    }
   ],
   "source": [
    "Lead_data[\"Page Views Per Visit\"].isnull().sum()"
   ]
  },
  {
   "cell_type": "markdown",
   "id": "a8c9d7ba",
   "metadata": {},
   "source": [
    "#### Column: Country"
   ]
  },
  {
   "cell_type": "code",
   "execution_count": 19,
   "id": "caad4b21",
   "metadata": {},
   "outputs": [
    {
     "data": {
      "text/plain": [
       "India                   0.957663\n",
       "United States           0.010178\n",
       "United Arab Emirates    0.007818\n",
       "Singapore               0.003540\n",
       "Saudi Arabia            0.003098\n",
       "United Kingdom          0.002213\n",
       "Australia               0.001918\n",
       "Qatar                   0.001475\n",
       "Hong Kong               0.001033\n",
       "Bahrain                 0.001033\n",
       "Oman                    0.000885\n",
       "France                  0.000885\n",
       "unknown                 0.000738\n",
       "South Africa            0.000590\n",
       "Nigeria                 0.000590\n",
       "Germany                 0.000590\n",
       "Kuwait                  0.000590\n",
       "Canada                  0.000590\n",
       "Sweden                  0.000443\n",
       "China                   0.000295\n",
       "Asia/Pacific Region     0.000295\n",
       "Uganda                  0.000295\n",
       "Bangladesh              0.000295\n",
       "Italy                   0.000295\n",
       "Belgium                 0.000295\n",
       "Netherlands             0.000295\n",
       "Ghana                   0.000295\n",
       "Philippines             0.000295\n",
       "Russia                  0.000148\n",
       "Switzerland             0.000148\n",
       "Vietnam                 0.000148\n",
       "Denmark                 0.000148\n",
       "Tanzania                0.000148\n",
       "Liberia                 0.000148\n",
       "Malaysia                0.000148\n",
       "Kenya                   0.000148\n",
       "Sri Lanka               0.000148\n",
       "Indonesia               0.000148\n",
       "Name: Country, dtype: float64"
      ]
     },
     "execution_count": 19,
     "metadata": {},
     "output_type": "execute_result"
    }
   ],
   "source": [
    "Lead_data['Country'].value_counts(normalize=True)"
   ]
  },
  {
   "cell_type": "code",
   "execution_count": 20,
   "id": "df95b954",
   "metadata": {},
   "outputs": [
    {
     "data": {
      "text/plain": [
       "(array([ 0,  1,  2,  3,  4,  5,  6,  7,  8,  9, 10, 11, 12, 13, 14, 15, 16,\n",
       "        17, 18, 19, 20, 21, 22, 23, 24, 25, 26, 27, 28, 29, 30, 31, 32, 33,\n",
       "        34, 35, 36, 37]),\n",
       " [Text(0, 0, 'India'),\n",
       "  Text(1, 0, 'Russia'),\n",
       "  Text(2, 0, 'Kuwait'),\n",
       "  Text(3, 0, 'Oman'),\n",
       "  Text(4, 0, 'United Arab Emirates'),\n",
       "  Text(5, 0, 'United States'),\n",
       "  Text(6, 0, 'Australia'),\n",
       "  Text(7, 0, 'United Kingdom'),\n",
       "  Text(8, 0, 'Bahrain'),\n",
       "  Text(9, 0, 'Ghana'),\n",
       "  Text(10, 0, 'Singapore'),\n",
       "  Text(11, 0, 'Qatar'),\n",
       "  Text(12, 0, 'Saudi Arabia'),\n",
       "  Text(13, 0, 'Belgium'),\n",
       "  Text(14, 0, 'France'),\n",
       "  Text(15, 0, 'Sri Lanka'),\n",
       "  Text(16, 0, 'China'),\n",
       "  Text(17, 0, 'Canada'),\n",
       "  Text(18, 0, 'Netherlands'),\n",
       "  Text(19, 0, 'Sweden'),\n",
       "  Text(20, 0, 'Nigeria'),\n",
       "  Text(21, 0, 'Hong Kong'),\n",
       "  Text(22, 0, 'Germany'),\n",
       "  Text(23, 0, 'Asia/Pacific Region'),\n",
       "  Text(24, 0, 'Uganda'),\n",
       "  Text(25, 0, 'Kenya'),\n",
       "  Text(26, 0, 'Italy'),\n",
       "  Text(27, 0, 'South Africa'),\n",
       "  Text(28, 0, 'Tanzania'),\n",
       "  Text(29, 0, 'unknown'),\n",
       "  Text(30, 0, 'Malaysia'),\n",
       "  Text(31, 0, 'Liberia'),\n",
       "  Text(32, 0, 'Switzerland'),\n",
       "  Text(33, 0, 'Denmark'),\n",
       "  Text(34, 0, 'Philippines'),\n",
       "  Text(35, 0, 'Bangladesh'),\n",
       "  Text(36, 0, 'Vietnam'),\n",
       "  Text(37, 0, 'Indonesia')])"
      ]
     },
     "execution_count": 20,
     "metadata": {},
     "output_type": "execute_result"
    },
    {
     "data": {
      "image/png": "[encoded data removed]",
      "text/plain": [
       "<Figure size 432x288 with 1 Axes>"
      ]
     },
     "metadata": {
      "needs_background": "light"
     },
     "output_type": "display_data"
    }
   ],
   "source": [
    "sns.countplot(x='Country', data=Lead_data)\n",
    "plt.title('Distribution of Lead Source')\n",
    "plt.xticks(rotation=90)"
   ]
  },
  {
   "cell_type": "code",
   "execution_count": 21,
   "id": "1a2bfdc0",
   "metadata": {},
   "outputs": [
    {
     "name": "stdout",
     "output_type": "stream",
     "text": [
      "26.63 % of values in Country are null.\n"
     ]
    }
   ],
   "source": [
    "#Print the percentage of values that are null in the Country feature\n",
    "print(round(Lead_data['Country'].isna().sum()*100/len(Lead_data['Country']),2),'% of values in Country are null.')"
   ]
  },
  {
   "cell_type": "code",
   "execution_count": 22,
   "id": "474b02a6",
   "metadata": {},
   "outputs": [
    {
     "data": {
      "text/plain": [
       "Text(0.5, 1.0, 'Distribution of Leads by City where Country is null')"
      ]
     },
     "execution_count": 22,
     "metadata": {},
     "output_type": "execute_result"
    },
    {
     "data": {
      "image/png": "[encoded data removed]",
      "text/plain": [
       "<Figure size 432x288 with 1 Axes>"
      ]
     },
     "metadata": {
      "needs_background": "light"
     },
     "output_type": "display_data"
    }
   ],
   "source": [
    "#Plot distribution of City where Country is null\n",
    "sns.countplot(y='City', data=Lead_data[Lead_data['Country'].isna()], order = Lead_data['City'].value_counts().index)\n",
    "plt.title('Distribution of Leads by City where Country is null')"
   ]
  },
  {
   "cell_type": "code",
   "execution_count": 23,
   "id": "9ffde9c5",
   "metadata": {},
   "outputs": [],
   "source": [
    "#Impute nulls in Country based on Country\n",
    "india_cities = ['Mumbai','Other Cities of Maharashtra','Thane & Outskirts']\n",
    "\n",
    "for i in Lead_data[Lead_data['Country'].isnull()].index:\n",
    "    if Lead_data.loc[i,'City'] in india_cities:\n",
    "        Lead_data.loc[i,'Country'] = 'India'\n",
    "    else:\n",
    "        Lead_data.loc[i,'Country'] = 'Unknown'"
   ]
  },
  {
   "cell_type": "code",
   "execution_count": 24,
   "id": "9db35005",
   "metadata": {},
   "outputs": [],
   "source": [
    "#As 70 % of data is of country \"India\",and26 % has null values ,so Droping Country column\n",
    "#In city data  more than 70% is of unknown data droping  both columns\n",
    "Lead_data.drop(columns=['Country','City'], axis=1, inplace=True)"
   ]
  },
  {
   "cell_type": "markdown",
   "id": "9f01aa03",
   "metadata": {},
   "source": [
    "#### Column: Specialization,occupation"
   ]
  },
  {
   "cell_type": "code",
   "execution_count": 25,
   "id": "9503dd51",
   "metadata": {},
   "outputs": [
    {
     "data": {
      "image/png": "[encoded data removed]",
      "text/plain": [
       "<Figure size 1728x288 with 2 Axes>"
      ]
     },
     "metadata": {
      "needs_background": "light"
     },
     "output_type": "display_data"
    }
   ],
   "source": [
    "dropdown_fields = ['Specialization','What is your current occupation']\n",
    "\n",
    "fig, axes = plt.subplots(nrows=1, ncols=len(dropdown_fields), figsize=(24, 4))\n",
    "\n",
    "for i in range(len(dropdown_fields)):\n",
    "    sns.countplot(x=dropdown_fields[i], data=Lead_data.head(), ax=axes[i])\n",
    "    plt.sca(axes[i])\n",
    "    plt.title(\"Distribution of \" + dropdown_fields[i])\n",
    "    plt.xticks(rotation=90)"
   ]
  },
  {
   "cell_type": "code",
   "execution_count": 26,
   "id": "9093efd4",
   "metadata": {},
   "outputs": [],
   "source": [
    "for c in dropdown_fields:\n",
    "    Lead_data[c].fillna('Unknown', inplace=True)"
   ]
  },
  {
   "cell_type": "code",
   "execution_count": 27,
   "id": "14140b63",
   "metadata": {},
   "outputs": [
    {
     "data": {
      "text/html": [
       "<div>\n",
       "<style scoped>\n",
       "    .dataframe tbody tr th:only-of-type {\n",
       "        vertical-align: middle;\n",
       "    }\n",
       "\n",
       "    .dataframe tbody tr th {\n",
       "        vertical-align: top;\n",
       "    }\n",
       "\n",
       "    .dataframe thead th {\n",
       "        text-align: right;\n",
       "    }\n",
       "</style>\n",
       "<table border=\"1\" class=\"dataframe\">\n",
       "  <thead>\n",
       "    <tr style=\"text-align: right;\">\n",
       "      <th></th>\n",
       "      <th>Asymmetrique Activity Score</th>\n",
       "      <th>Asymmetrique Profile Score</th>\n",
       "    </tr>\n",
       "  </thead>\n",
       "  <tbody>\n",
       "    <tr>\n",
       "      <th>count</th>\n",
       "      <td>5022.000000</td>\n",
       "      <td>5022.000000</td>\n",
       "    </tr>\n",
       "    <tr>\n",
       "      <th>mean</th>\n",
       "      <td>14.306252</td>\n",
       "      <td>16.344883</td>\n",
       "    </tr>\n",
       "    <tr>\n",
       "      <th>std</th>\n",
       "      <td>1.386694</td>\n",
       "      <td>1.811395</td>\n",
       "    </tr>\n",
       "    <tr>\n",
       "      <th>min</th>\n",
       "      <td>7.000000</td>\n",
       "      <td>11.000000</td>\n",
       "    </tr>\n",
       "    <tr>\n",
       "      <th>25%</th>\n",
       "      <td>14.000000</td>\n",
       "      <td>15.000000</td>\n",
       "    </tr>\n",
       "    <tr>\n",
       "      <th>50%</th>\n",
       "      <td>14.000000</td>\n",
       "      <td>16.000000</td>\n",
       "    </tr>\n",
       "    <tr>\n",
       "      <th>75%</th>\n",
       "      <td>15.000000</td>\n",
       "      <td>18.000000</td>\n",
       "    </tr>\n",
       "    <tr>\n",
       "      <th>max</th>\n",
       "      <td>18.000000</td>\n",
       "      <td>20.000000</td>\n",
       "    </tr>\n",
       "  </tbody>\n",
       "</table>\n",
       "</div>"
      ],
      "text/plain": [
       "       Asymmetrique Activity Score  Asymmetrique Profile Score\n",
       "count                  5022.000000                 5022.000000\n",
       "mean                     14.306252                   16.344883\n",
       "std                       1.386694                    1.811395\n",
       "min                       7.000000                   11.000000\n",
       "25%                      14.000000                   15.000000\n",
       "50%                      14.000000                   16.000000\n",
       "75%                      15.000000                   18.000000\n",
       "max                      18.000000                   20.000000"
      ]
     },
     "execution_count": 27,
     "metadata": {},
     "output_type": "execute_result"
    }
   ],
   "source": [
    "stats_AS = pd.DataFrame(\n",
    "    {'Asymmetrique Activity Score':Lead_data['Asymmetrique Activity Score'].describe(),\n",
    "    'Asymmetrique Profile Score':Lead_data['Asymmetrique Profile Score'].describe()})\n",
    "stats_AS"
   ]
  },
  {
   "cell_type": "code",
   "execution_count": 28,
   "id": "dd305870",
   "metadata": {},
   "outputs": [
    {
     "data": {
      "image/png": "[encoded data removed]",
      "text/plain": [
       "<Figure size 864x288 with 2 Axes>"
      ]
     },
     "metadata": {
      "needs_background": "light"
     },
     "output_type": "display_data"
    }
   ],
   "source": [
    "#Plot distribution of Asymmetrique Activity Score & Asymmetrique Profile Score\n",
    "score_fields = ['Asymmetrique Activity Score','Asymmetrique Profile Score']\n",
    "\n",
    "fig, axes = plt.subplots(nrows=1, ncols=len(score_fields), figsize=(12, 4))\n",
    "\n",
    "for i in range(len(score_fields)):\n",
    "    sns.histplot(x=score_fields[i], data=Lead_data, ax=axes[i])       \n",
    "    plt.sca(axes[i])\n",
    "    plt.title(\"Distribution of \" + score_fields[i])"
   ]
  },
  {
   "cell_type": "code",
   "execution_count": 29,
   "id": "2f0d5eb4",
   "metadata": {},
   "outputs": [],
   "source": [
    "#Impute nulls with median\n",
    "for f in score_fields:\n",
    "    Lead_data[f].fillna(Lead_data[f].median(), inplace=True)"
   ]
  },
  {
   "cell_type": "code",
   "execution_count": 30,
   "id": "ed775c82",
   "metadata": {},
   "outputs": [
    {
     "data": {
      "image/png": "[encoded data removed]",
      "text/plain": [
       "<Figure size 864x288 with 2 Axes>"
      ]
     },
     "metadata": {
      "needs_background": "light"
     },
     "output_type": "display_data"
    }
   ],
   "source": [
    "#Plot distribution of Asymmetrique Activity Index & Asymmetrique Profile Index\n",
    "index_fields = ['Asymmetrique Activity Index','Asymmetrique Profile Index']\n",
    "\n",
    "fig, axes = plt.subplots(nrows=1, ncols=len(index_fields), figsize=(12, 4))\n",
    "\n",
    "for i in range(len(index_fields)):\n",
    "    sns.countplot(x=index_fields[i], data=Lead_data, ax=axes[i], order=['03.Low','02.Medium','01.High'])       \n",
    "    plt.sca(axes[i])\n",
    "    plt.title(\"Distribution of \" + index_fields[i])"
   ]
  },
  {
   "cell_type": "code",
   "execution_count": 31,
   "id": "3e083b6e",
   "metadata": {},
   "outputs": [
    {
     "data": {
      "text/html": [
       "<div>\n",
       "<style scoped>\n",
       "    .dataframe tbody tr th:only-of-type {\n",
       "        vertical-align: middle;\n",
       "    }\n",
       "\n",
       "    .dataframe tbody tr th {\n",
       "        vertical-align: top;\n",
       "    }\n",
       "\n",
       "    .dataframe thead th {\n",
       "        text-align: right;\n",
       "    }\n",
       "</style>\n",
       "<table border=\"1\" class=\"dataframe\">\n",
       "  <thead>\n",
       "    <tr style=\"text-align: right;\">\n",
       "      <th></th>\n",
       "      <th>Asymmetrique Activity Score</th>\n",
       "    </tr>\n",
       "    <tr>\n",
       "      <th>Asymmetrique Activity Index</th>\n",
       "      <th></th>\n",
       "    </tr>\n",
       "  </thead>\n",
       "  <tbody>\n",
       "    <tr>\n",
       "      <th>01.High</th>\n",
       "      <td>16.437272</td>\n",
       "    </tr>\n",
       "    <tr>\n",
       "      <th>02.Medium</th>\n",
       "      <td>14.134931</td>\n",
       "    </tr>\n",
       "    <tr>\n",
       "      <th>03.Low</th>\n",
       "      <td>11.290055</td>\n",
       "    </tr>\n",
       "  </tbody>\n",
       "</table>\n",
       "</div>"
      ],
      "text/plain": [
       "                             Asymmetrique Activity Score\n",
       "Asymmetrique Activity Index                             \n",
       "01.High                                        16.437272\n",
       "02.Medium                                      14.134931\n",
       "03.Low                                         11.290055"
      ]
     },
     "execution_count": 31,
     "metadata": {},
     "output_type": "execute_result"
    }
   ],
   "source": [
    "#Group by Asymmetrique Activity Index\n",
    "grouped_by_activity_index = Lead_data.groupby('Asymmetrique Activity Index').agg({'Asymmetrique Activity Score':'mean'})\n",
    "grouped_by_activity_index"
   ]
  },
  {
   "cell_type": "code",
   "execution_count": 32,
   "id": "1fcf5fac",
   "metadata": {},
   "outputs": [
    {
     "data": {
      "text/html": [
       "<div>\n",
       "<style scoped>\n",
       "    .dataframe tbody tr th:only-of-type {\n",
       "        vertical-align: middle;\n",
       "    }\n",
       "\n",
       "    .dataframe tbody tr th {\n",
       "        vertical-align: top;\n",
       "    }\n",
       "\n",
       "    .dataframe thead th {\n",
       "        text-align: right;\n",
       "    }\n",
       "</style>\n",
       "<table border=\"1\" class=\"dataframe\">\n",
       "  <thead>\n",
       "    <tr style=\"text-align: right;\">\n",
       "      <th></th>\n",
       "      <th>Asymmetrique Profile Score</th>\n",
       "    </tr>\n",
       "    <tr>\n",
       "      <th>Asymmetrique Profile Index</th>\n",
       "      <th></th>\n",
       "    </tr>\n",
       "  </thead>\n",
       "  <tbody>\n",
       "    <tr>\n",
       "      <th>01.High</th>\n",
       "      <td>18.128007</td>\n",
       "    </tr>\n",
       "    <tr>\n",
       "      <th>02.Medium</th>\n",
       "      <td>14.987446</td>\n",
       "    </tr>\n",
       "    <tr>\n",
       "      <th>03.Low</th>\n",
       "      <td>11.709677</td>\n",
       "    </tr>\n",
       "  </tbody>\n",
       "</table>\n",
       "</div>"
      ],
      "text/plain": [
       "                            Asymmetrique Profile Score\n",
       "Asymmetrique Profile Index                            \n",
       "01.High                                      18.128007\n",
       "02.Medium                                    14.987446\n",
       "03.Low                                       11.709677"
      ]
     },
     "execution_count": 32,
     "metadata": {},
     "output_type": "execute_result"
    }
   ],
   "source": [
    "#Group by Asymmetrique Profile Index\n",
    "grouped_by_profile_index = Lead_data.groupby('Asymmetrique Profile Index').agg({'Asymmetrique Profile Score':'mean'})\n",
    "grouped_by_profile_index"
   ]
  },
  {
   "cell_type": "code",
   "execution_count": 33,
   "id": "d173735a",
   "metadata": {},
   "outputs": [],
   "source": [
    "#Drop Asymmetrique Index columns\n",
    "Lead_data.drop(columns=['Asymmetrique Activity Index','Asymmetrique Profile Index'], axis=1, inplace=True)"
   ]
  },
  {
   "cell_type": "code",
   "execution_count": 34,
   "id": "b5f18264",
   "metadata": {},
   "outputs": [
    {
     "data": {
      "text/plain": [
       "Select                         4146\n",
       "Potential Lead                 1613\n",
       "Other Leads                     487\n",
       "Student of SomeSchool           241\n",
       "Lateral Student                  24\n",
       "Dual Specialization Student      20\n",
       "Name: Lead Profile, dtype: int64"
      ]
     },
     "execution_count": 34,
     "metadata": {},
     "output_type": "execute_result"
    }
   ],
   "source": [
    "Lead_data[\"Lead Profile\"].value_counts()"
   ]
  },
  {
   "cell_type": "code",
   "execution_count": 35,
   "id": "0f96f69c",
   "metadata": {},
   "outputs": [],
   "source": [
    "Lead_data[\"Lead Profile\"].fillna('Select', inplace=True)"
   ]
  },
  {
   "cell_type": "code",
   "execution_count": 36,
   "id": "c5d0de75",
   "metadata": {},
   "outputs": [
    {
     "data": {
      "text/plain": [
       "Might be             1560\n",
       "Not Sure             1092\n",
       "High in Relevance     637\n",
       "Worst                 601\n",
       "Low in Relevance      583\n",
       "Name: Lead Quality, dtype: int64"
      ]
     },
     "execution_count": 36,
     "metadata": {},
     "output_type": "execute_result"
    }
   ],
   "source": [
    "Lead_data[\"Lead Quality\"].value_counts()"
   ]
  },
  {
   "cell_type": "code",
   "execution_count": 37,
   "id": "19c81d73",
   "metadata": {},
   "outputs": [],
   "source": [
    "Lead_data[\"Lead Quality\"].fillna('Select', inplace=True)"
   ]
  },
  {
   "cell_type": "code",
   "execution_count": 38,
   "id": "456d070b",
   "metadata": {},
   "outputs": [
    {
     "name": "stdout",
     "output_type": "stream",
     "text": [
      "<class 'pandas.core.frame.DataFrame'>\n",
      "RangeIndex: 9240 entries, 0 to 9239\n",
      "Data columns (total 23 columns):\n",
      " #   Column                                  Non-Null Count  Dtype  \n",
      "---  ------                                  --------------  -----  \n",
      " 0   Lead Number                             9240 non-null   int64  \n",
      " 1   Lead Origin                             9240 non-null   object \n",
      " 2   Lead Source                             9240 non-null   object \n",
      " 3   Do Not Email                            9240 non-null   int64  \n",
      " 4   Do Not Call                             9240 non-null   int64  \n",
      " 5   Converted                               9240 non-null   int64  \n",
      " 6   TotalVisits                             9240 non-null   float64\n",
      " 7   Total Time Spent on Website             9240 non-null   int64  \n",
      " 8   Page Views Per Visit                    9240 non-null   float64\n",
      " 9   Specialization                          9240 non-null   object \n",
      " 10  What is your current occupation         9240 non-null   object \n",
      " 11  Search                                  9240 non-null   int64  \n",
      " 12  Magazine                                9240 non-null   int64  \n",
      " 13  Newspaper Article                       9240 non-null   int64  \n",
      " 14  X Education Forums                      9240 non-null   int64  \n",
      " 15  Newspaper                               9240 non-null   int64  \n",
      " 16  Digital Advertisement                   9240 non-null   int64  \n",
      " 17  Through Recommendations                 9240 non-null   int64  \n",
      " 18  Lead Quality                            9240 non-null   object \n",
      " 19  Lead Profile                            9240 non-null   object \n",
      " 20  Asymmetrique Activity Score             9240 non-null   float64\n",
      " 21  Asymmetrique Profile Score              9240 non-null   float64\n",
      " 22  A free copy of Mastering The Interview  9240 non-null   int64  \n",
      "dtypes: float64(4), int64(13), object(6)\n",
      "memory usage: 1.6+ MB\n"
     ]
    }
   ],
   "source": [
    "Lead_data.info()"
   ]
  },
  {
   "cell_type": "markdown",
   "id": "5627bfde",
   "metadata": {},
   "source": [
    "# Step 2-EDA"
   ]
  },
  {
   "cell_type": "markdown",
   "id": "3090b251",
   "metadata": {},
   "source": [
    "At this step we are performing the Exploratory data analysis for the given lead data to understand data and get more usefull insights."
   ]
  },
  {
   "cell_type": "code",
   "execution_count": 39,
   "id": "1ea20b4d",
   "metadata": {},
   "outputs": [
    {
     "data": {
      "text/plain": [
       "<AxesSubplot:>"
      ]
     },
     "execution_count": 39,
     "metadata": {},
     "output_type": "execute_result"
    },
    {
     "data": {
      "image/png": "[encoded data removed]",
      "text/plain": [
       "<Figure size 432x288 with 1 Axes>"
      ]
     },
     "metadata": {
      "needs_background": "light"
     },
     "output_type": "display_data"
    }
   ],
   "source": [
    "Lead_data['Lead Origin'].value_counts().plot.bar()"
   ]
  },
  {
   "cell_type": "markdown",
   "id": "79680f5c",
   "metadata": {},
   "source": [
    "Lead origin refers to The origin identifier with which the customer was identified to be a lead. Includes API, Landing Page Submission, etc. The above visualisations shows that the leads are landed in page submission than other forms of origin"
   ]
  },
  {
   "cell_type": "code",
   "execution_count": 40,
   "id": "da6fdc7f",
   "metadata": {},
   "outputs": [
    {
     "data": {
      "text/plain": [
       "<AxesSubplot:>"
      ]
     },
     "execution_count": 40,
     "metadata": {},
     "output_type": "execute_result"
    },
    {
     "data": {
      "image/png": "[encoded data removed]",
      "text/plain": [
       "<Figure size 432x288 with 1 Axes>"
      ]
     },
     "metadata": {
      "needs_background": "light"
     },
     "output_type": "display_data"
    }
   ],
   "source": [
    "Lead_data['Lead Source'].value_counts().plot.barh()"
   ]
  },
  {
   "cell_type": "markdown",
   "id": "cb752745",
   "metadata": {},
   "source": [
    "Lead Scource refers to the source of leads comming in  the visualisations has that the Google to be the most form of source"
   ]
  },
  {
   "cell_type": "code",
   "execution_count": 41,
   "id": "388362a5",
   "metadata": {},
   "outputs": [
    {
     "data": {
      "text/plain": [
       "<AxesSubplot:>"
      ]
     },
     "execution_count": 41,
     "metadata": {},
     "output_type": "execute_result"
    },
    {
     "data": {
      "image/png": "[encoded data removed]",
      "text/plain": [
       "<Figure size 432x288 with 1 Axes>"
      ]
     },
     "metadata": {
      "needs_background": "light"
     },
     "output_type": "display_data"
    }
   ],
   "source": [
    "Lead_data['Lead Quality'].value_counts().plot.barh()"
   ]
  },
  {
   "cell_type": "markdown",
   "id": "6f2fe2bd",
   "metadata": {},
   "source": [
    "Lead qualityIndicates the quality of lead based on the data and intuition the the employee who has been assigned to the lead. here the quality of the leads are mostly unknon and not sure about it"
   ]
  },
  {
   "cell_type": "code",
   "execution_count": 42,
   "id": "6c926143",
   "metadata": {},
   "outputs": [
    {
     "data": {
      "text/plain": [
       "<AxesSubplot:>"
      ]
     },
     "execution_count": 42,
     "metadata": {},
     "output_type": "execute_result"
    },
    {
     "data": {
      "image/png": "[encoded data removed]",
      "text/plain": [
       "<Figure size 432x288 with 1 Axes>"
      ]
     },
     "metadata": {
      "needs_background": "light"
     },
     "output_type": "display_data"
    }
   ],
   "source": [
    "Lead_data['Do Not Email'].value_counts().plot.barh()"
   ]
  },
  {
   "cell_type": "code",
   "execution_count": 45,
   "id": "2d8ed7bd",
   "metadata": {},
   "outputs": [
    {
     "data": {
      "image/png": "[encoded data removed]",
      "text/plain": [
       "<Figure size 432x288 with 1 Axes>"
      ]
     },
     "metadata": {
      "needs_background": "light"
     },
     "output_type": "display_data"
    }
   ],
   "source": [
    "sns.barplot(x='Do Not Call',y='Converted',data =Lead_data)\n",
    "plt.show()"
   ]
  },
  {
   "cell_type": "code",
   "execution_count": 46,
   "id": "987a3779",
   "metadata": {},
   "outputs": [
    {
     "data": {
      "text/plain": [
       "<AxesSubplot:>"
      ]
     },
     "execution_count": 46,
     "metadata": {},
     "output_type": "execute_result"
    },
    {
     "data": {
      "image/png": "[encoded data removed]",
      "text/plain": [
       "<Figure size 432x288 with 1 Axes>"
      ]
     },
     "metadata": {
      "needs_background": "light"
     },
     "output_type": "display_data"
    }
   ],
   "source": [
    "Lead_data['Specialization'].value_counts().plot.barh()"
   ]
  },
  {
   "cell_type": "code",
   "execution_count": 47,
   "id": "f12c3949",
   "metadata": {},
   "outputs": [
    {
     "data": {
      "text/plain": [
       "<AxesSubplot:>"
      ]
     },
     "execution_count": 47,
     "metadata": {},
     "output_type": "execute_result"
    },
    {
     "data": {
      "image/png": "[encoded data removed]",
      "text/plain": [
       "<Figure size 432x288 with 1 Axes>"
      ]
     },
     "metadata": {
      "needs_background": "light"
     },
     "output_type": "display_data"
    }
   ],
   "source": [
    "Lead_data['What is your current occupation'].value_counts().plot.barh()"
   ]
  },
  {
   "cell_type": "code",
   "execution_count": 48,
   "id": "d9e9f77e",
   "metadata": {},
   "outputs": [
    {
     "data": {
      "text/plain": [
       "(array([0, 1, 2, 3, 4, 5, 6]),\n",
       " [Text(0, 0, 'Unemployed'),\n",
       "  Text(1, 0, 'Student'),\n",
       "  Text(2, 0, 'Unknown'),\n",
       "  Text(3, 0, 'Working Professional'),\n",
       "  Text(4, 0, 'Businessman'),\n",
       "  Text(5, 0, 'Other'),\n",
       "  Text(6, 0, 'Housewife')])"
      ]
     },
     "execution_count": 48,
     "metadata": {},
     "output_type": "execute_result"
    },
    {
     "data": {
      "image/png": "[encoded data removed]",
      "text/plain": [
       "<Figure size 720x360 with 1 Axes>"
      ]
     },
     "metadata": {
      "needs_background": "light"
     },
     "output_type": "display_data"
    }
   ],
   "source": [
    "fig, axs = plt.subplots(figsize = (10,5))\n",
    "sns.countplot(x = \"What is your current occupation\", hue = \"Converted\", data = Lead_data,color='b')\n",
    "plt.xticks(rotation = 90)"
   ]
  },
  {
   "cell_type": "markdown",
   "id": "0f8f10ce",
   "metadata": {},
   "source": [
    "The occupation wise leads are which are converted are from unemployed which indirectly mean the people who are unemployed they are taking the x education courses to improve skills,the above data also says the conversion rate of unemployed is more than compared to other professions."
   ]
  },
  {
   "cell_type": "code",
   "execution_count": 49,
   "id": "aaa42a04",
   "metadata": {},
   "outputs": [
    {
     "data": {
      "image/png": "[encoded data removed]",
      "text/plain": [
       "<Figure size 432x288 with 1 Axes>"
      ]
     },
     "metadata": {
      "needs_background": "light"
     },
     "output_type": "display_data"
    }
   ],
   "source": [
    "sns.distplot(Lead_data.TotalVisits,bins=20,color='g')\n",
    "plt.show()"
   ]
  },
  {
   "cell_type": "code",
   "execution_count": 50,
   "id": "468cf714",
   "metadata": {},
   "outputs": [
    {
     "data": {
      "image/png": "[encoded data removed]",
      "text/plain": [
       "<Figure size 432x288 with 1 Axes>"
      ]
     },
     "metadata": {
      "needs_background": "light"
     },
     "output_type": "display_data"
    }
   ],
   "source": [
    "sns.distplot(Lead_data['Total Time Spent on Website'],bins=20,color='g')\n",
    "plt.show()"
   ]
  },
  {
   "cell_type": "code",
   "execution_count": 137,
   "id": "3a0d625b",
   "metadata": {},
   "outputs": [
    {
     "data": {
      "image/png": "[encoded data removed]",
      "text/plain": [
       "<Figure size 432x288 with 1 Axes>"
      ]
     },
     "metadata": {
      "needs_background": "light"
     },
     "output_type": "display_data"
    }
   ],
   "source": [
    "sns.distplot(Lead_data['Page Views Per Visit'],bins=20,color='g')\n",
    "plt.show()"
   ]
  },
  {
   "cell_type": "markdown",
   "id": "7d0d9697",
   "metadata": {},
   "source": [
    "#### many columns are not adding any information to the model, hence we can drop them for frther analysis"
   ]
  },
  {
   "cell_type": "code",
   "execution_count": 51,
   "id": "438687ae",
   "metadata": {},
   "outputs": [],
   "source": [
    "Lead_data=Lead_data.drop(['Search','Magazine','Newspaper Article','X Education Forums','Newspaper',\n",
    "           'Digital Advertisement','Through Recommendations','A free copy of Mastering The Interview'],1)"
   ]
  },
  {
   "cell_type": "markdown",
   "id": "9bc2c121",
   "metadata": {},
   "source": [
    "## Step 3 -Creating Dummies"
   ]
  },
  {
   "cell_type": "code",
   "execution_count": 52,
   "id": "ab5aa8e3",
   "metadata": {},
   "outputs": [],
   "source": [
    "cols=['Lead Origin','Lead Source','Specialization','What is your current occupation','Lead Profile','Lead Quality']\n",
    "dummies=pd.get_dummies(Lead_data[cols],drop_first=True)\n",
    "leads_data1=pd.concat([Lead_data,dummies],axis=1)"
   ]
  },
  {
   "cell_type": "code",
   "execution_count": 53,
   "id": "f1a3f469",
   "metadata": {},
   "outputs": [],
   "source": [
    "leads_data1=leads_data1.drop(cols,axis=1)"
   ]
  },
  {
   "cell_type": "code",
   "execution_count": 54,
   "id": "5d7b91da",
   "metadata": {},
   "outputs": [
    {
     "data": {
      "text/html": [
       "<div>\n",
       "<style scoped>\n",
       "    .dataframe tbody tr th:only-of-type {\n",
       "        vertical-align: middle;\n",
       "    }\n",
       "\n",
       "    .dataframe tbody tr th {\n",
       "        vertical-align: top;\n",
       "    }\n",
       "\n",
       "    .dataframe thead th {\n",
       "        text-align: right;\n",
       "    }\n",
       "</style>\n",
       "<table border=\"1\" class=\"dataframe\">\n",
       "  <thead>\n",
       "    <tr style=\"text-align: right;\">\n",
       "      <th></th>\n",
       "      <th>Lead Number</th>\n",
       "      <th>Do Not Email</th>\n",
       "      <th>Do Not Call</th>\n",
       "      <th>Converted</th>\n",
       "      <th>TotalVisits</th>\n",
       "      <th>Total Time Spent on Website</th>\n",
       "      <th>Page Views Per Visit</th>\n",
       "      <th>Asymmetrique Activity Score</th>\n",
       "      <th>Asymmetrique Profile Score</th>\n",
       "      <th>Lead Origin_Landing Page Submission</th>\n",
       "      <th>...</th>\n",
       "      <th>Lead Profile_Lateral Student</th>\n",
       "      <th>Lead Profile_Other Leads</th>\n",
       "      <th>Lead Profile_Potential Lead</th>\n",
       "      <th>Lead Profile_Select</th>\n",
       "      <th>Lead Profile_Student of SomeSchool</th>\n",
       "      <th>Lead Quality_Low in Relevance</th>\n",
       "      <th>Lead Quality_Might be</th>\n",
       "      <th>Lead Quality_Not Sure</th>\n",
       "      <th>Lead Quality_Select</th>\n",
       "      <th>Lead Quality_Worst</th>\n",
       "    </tr>\n",
       "  </thead>\n",
       "  <tbody>\n",
       "    <tr>\n",
       "      <th>0</th>\n",
       "      <td>660737</td>\n",
       "      <td>0</td>\n",
       "      <td>0</td>\n",
       "      <td>0</td>\n",
       "      <td>0.0</td>\n",
       "      <td>0</td>\n",
       "      <td>0.0</td>\n",
       "      <td>15.0</td>\n",
       "      <td>15.0</td>\n",
       "      <td>0</td>\n",
       "      <td>...</td>\n",
       "      <td>0</td>\n",
       "      <td>0</td>\n",
       "      <td>0</td>\n",
       "      <td>1</td>\n",
       "      <td>0</td>\n",
       "      <td>1</td>\n",
       "      <td>0</td>\n",
       "      <td>0</td>\n",
       "      <td>0</td>\n",
       "      <td>0</td>\n",
       "    </tr>\n",
       "    <tr>\n",
       "      <th>1</th>\n",
       "      <td>660728</td>\n",
       "      <td>0</td>\n",
       "      <td>0</td>\n",
       "      <td>0</td>\n",
       "      <td>5.0</td>\n",
       "      <td>674</td>\n",
       "      <td>2.5</td>\n",
       "      <td>15.0</td>\n",
       "      <td>15.0</td>\n",
       "      <td>0</td>\n",
       "      <td>...</td>\n",
       "      <td>0</td>\n",
       "      <td>0</td>\n",
       "      <td>0</td>\n",
       "      <td>1</td>\n",
       "      <td>0</td>\n",
       "      <td>0</td>\n",
       "      <td>0</td>\n",
       "      <td>0</td>\n",
       "      <td>1</td>\n",
       "      <td>0</td>\n",
       "    </tr>\n",
       "    <tr>\n",
       "      <th>2</th>\n",
       "      <td>660727</td>\n",
       "      <td>0</td>\n",
       "      <td>0</td>\n",
       "      <td>1</td>\n",
       "      <td>2.0</td>\n",
       "      <td>1532</td>\n",
       "      <td>2.0</td>\n",
       "      <td>14.0</td>\n",
       "      <td>20.0</td>\n",
       "      <td>1</td>\n",
       "      <td>...</td>\n",
       "      <td>0</td>\n",
       "      <td>0</td>\n",
       "      <td>1</td>\n",
       "      <td>0</td>\n",
       "      <td>0</td>\n",
       "      <td>0</td>\n",
       "      <td>1</td>\n",
       "      <td>0</td>\n",
       "      <td>0</td>\n",
       "      <td>0</td>\n",
       "    </tr>\n",
       "    <tr>\n",
       "      <th>3</th>\n",
       "      <td>660719</td>\n",
       "      <td>0</td>\n",
       "      <td>0</td>\n",
       "      <td>0</td>\n",
       "      <td>1.0</td>\n",
       "      <td>305</td>\n",
       "      <td>1.0</td>\n",
       "      <td>13.0</td>\n",
       "      <td>17.0</td>\n",
       "      <td>1</td>\n",
       "      <td>...</td>\n",
       "      <td>0</td>\n",
       "      <td>0</td>\n",
       "      <td>0</td>\n",
       "      <td>1</td>\n",
       "      <td>0</td>\n",
       "      <td>0</td>\n",
       "      <td>0</td>\n",
       "      <td>1</td>\n",
       "      <td>0</td>\n",
       "      <td>0</td>\n",
       "    </tr>\n",
       "    <tr>\n",
       "      <th>4</th>\n",
       "      <td>660681</td>\n",
       "      <td>0</td>\n",
       "      <td>0</td>\n",
       "      <td>1</td>\n",
       "      <td>2.0</td>\n",
       "      <td>1428</td>\n",
       "      <td>1.0</td>\n",
       "      <td>15.0</td>\n",
       "      <td>18.0</td>\n",
       "      <td>1</td>\n",
       "      <td>...</td>\n",
       "      <td>0</td>\n",
       "      <td>0</td>\n",
       "      <td>0</td>\n",
       "      <td>1</td>\n",
       "      <td>0</td>\n",
       "      <td>0</td>\n",
       "      <td>1</td>\n",
       "      <td>0</td>\n",
       "      <td>0</td>\n",
       "      <td>0</td>\n",
       "    </tr>\n",
       "  </tbody>\n",
       "</table>\n",
       "<p>5 rows × 69 columns</p>\n",
       "</div>"
      ],
      "text/plain": [
       "   Lead Number  Do Not Email  Do Not Call  Converted  TotalVisits  \\\n",
       "0       660737             0            0          0          0.0   \n",
       "1       660728             0            0          0          5.0   \n",
       "2       660727             0            0          1          2.0   \n",
       "3       660719             0            0          0          1.0   \n",
       "4       660681             0            0          1          2.0   \n",
       "\n",
       "   Total Time Spent on Website  Page Views Per Visit  \\\n",
       "0                            0                   0.0   \n",
       "1                          674                   2.5   \n",
       "2                         1532                   2.0   \n",
       "3                          305                   1.0   \n",
       "4                         1428                   1.0   \n",
       "\n",
       "   Asymmetrique Activity Score  Asymmetrique Profile Score  \\\n",
       "0                         15.0                        15.0   \n",
       "1                         15.0                        15.0   \n",
       "2                         14.0                        20.0   \n",
       "3                         13.0                        17.0   \n",
       "4                         15.0                        18.0   \n",
       "\n",
       "   Lead Origin_Landing Page Submission  ...  Lead Profile_Lateral Student  \\\n",
       "0                                    0  ...                             0   \n",
       "1                                    0  ...                             0   \n",
       "2                                    1  ...                             0   \n",
       "3                                    1  ...                             0   \n",
       "4                                    1  ...                             0   \n",
       "\n",
       "   Lead Profile_Other Leads  Lead Profile_Potential Lead  Lead Profile_Select  \\\n",
       "0                         0                            0                    1   \n",
       "1                         0                            0                    1   \n",
       "2                         0                            1                    0   \n",
       "3                         0                            0                    1   \n",
       "4                         0                            0                    1   \n",
       "\n",
       "   Lead Profile_Student of SomeSchool  Lead Quality_Low in Relevance  \\\n",
       "0                                   0                              1   \n",
       "1                                   0                              0   \n",
       "2                                   0                              0   \n",
       "3                                   0                              0   \n",
       "4                                   0                              0   \n",
       "\n",
       "   Lead Quality_Might be  Lead Quality_Not Sure  Lead Quality_Select  \\\n",
       "0                      0                      0                    0   \n",
       "1                      0                      0                    1   \n",
       "2                      1                      0                    0   \n",
       "3                      0                      1                    0   \n",
       "4                      1                      0                    0   \n",
       "\n",
       "   Lead Quality_Worst  \n",
       "0                   0  \n",
       "1                   0  \n",
       "2                   0  \n",
       "3                   0  \n",
       "4                   0  \n",
       "\n",
       "[5 rows x 69 columns]"
      ]
     },
     "execution_count": 54,
     "metadata": {},
     "output_type": "execute_result"
    }
   ],
   "source": [
    "leads_data1.head()"
   ]
  },
  {
   "cell_type": "code",
   "execution_count": 55,
   "id": "2f486b87",
   "metadata": {},
   "outputs": [
    {
     "data": {
      "text/html": [
       "<div>\n",
       "<style scoped>\n",
       "    .dataframe tbody tr th:only-of-type {\n",
       "        vertical-align: middle;\n",
       "    }\n",
       "\n",
       "    .dataframe tbody tr th {\n",
       "        vertical-align: top;\n",
       "    }\n",
       "\n",
       "    .dataframe thead th {\n",
       "        text-align: right;\n",
       "    }\n",
       "</style>\n",
       "<table border=\"1\" class=\"dataframe\">\n",
       "  <thead>\n",
       "    <tr style=\"text-align: right;\">\n",
       "      <th></th>\n",
       "      <th>Lead Number</th>\n",
       "      <th>Do Not Email</th>\n",
       "      <th>Do Not Call</th>\n",
       "      <th>Converted</th>\n",
       "      <th>TotalVisits</th>\n",
       "      <th>Total Time Spent on Website</th>\n",
       "      <th>Page Views Per Visit</th>\n",
       "      <th>Asymmetrique Activity Score</th>\n",
       "      <th>Asymmetrique Profile Score</th>\n",
       "      <th>Lead Origin_Landing Page Submission</th>\n",
       "      <th>...</th>\n",
       "      <th>Lead Profile_Lateral Student</th>\n",
       "      <th>Lead Profile_Other Leads</th>\n",
       "      <th>Lead Profile_Potential Lead</th>\n",
       "      <th>Lead Profile_Select</th>\n",
       "      <th>Lead Profile_Student of SomeSchool</th>\n",
       "      <th>Lead Quality_Low in Relevance</th>\n",
       "      <th>Lead Quality_Might be</th>\n",
       "      <th>Lead Quality_Not Sure</th>\n",
       "      <th>Lead Quality_Select</th>\n",
       "      <th>Lead Quality_Worst</th>\n",
       "    </tr>\n",
       "  </thead>\n",
       "  <tbody>\n",
       "    <tr>\n",
       "      <th>0</th>\n",
       "      <td>660737</td>\n",
       "      <td>0</td>\n",
       "      <td>0</td>\n",
       "      <td>0</td>\n",
       "      <td>0.0</td>\n",
       "      <td>0</td>\n",
       "      <td>0.0</td>\n",
       "      <td>15.0</td>\n",
       "      <td>15.0</td>\n",
       "      <td>0</td>\n",
       "      <td>...</td>\n",
       "      <td>0</td>\n",
       "      <td>0</td>\n",
       "      <td>0</td>\n",
       "      <td>1</td>\n",
       "      <td>0</td>\n",
       "      <td>1</td>\n",
       "      <td>0</td>\n",
       "      <td>0</td>\n",
       "      <td>0</td>\n",
       "      <td>0</td>\n",
       "    </tr>\n",
       "    <tr>\n",
       "      <th>1</th>\n",
       "      <td>660728</td>\n",
       "      <td>0</td>\n",
       "      <td>0</td>\n",
       "      <td>0</td>\n",
       "      <td>5.0</td>\n",
       "      <td>674</td>\n",
       "      <td>2.5</td>\n",
       "      <td>15.0</td>\n",
       "      <td>15.0</td>\n",
       "      <td>0</td>\n",
       "      <td>...</td>\n",
       "      <td>0</td>\n",
       "      <td>0</td>\n",
       "      <td>0</td>\n",
       "      <td>1</td>\n",
       "      <td>0</td>\n",
       "      <td>0</td>\n",
       "      <td>0</td>\n",
       "      <td>0</td>\n",
       "      <td>1</td>\n",
       "      <td>0</td>\n",
       "    </tr>\n",
       "    <tr>\n",
       "      <th>2</th>\n",
       "      <td>660727</td>\n",
       "      <td>0</td>\n",
       "      <td>0</td>\n",
       "      <td>1</td>\n",
       "      <td>2.0</td>\n",
       "      <td>1532</td>\n",
       "      <td>2.0</td>\n",
       "      <td>14.0</td>\n",
       "      <td>20.0</td>\n",
       "      <td>1</td>\n",
       "      <td>...</td>\n",
       "      <td>0</td>\n",
       "      <td>0</td>\n",
       "      <td>1</td>\n",
       "      <td>0</td>\n",
       "      <td>0</td>\n",
       "      <td>0</td>\n",
       "      <td>1</td>\n",
       "      <td>0</td>\n",
       "      <td>0</td>\n",
       "      <td>0</td>\n",
       "    </tr>\n",
       "    <tr>\n",
       "      <th>3</th>\n",
       "      <td>660719</td>\n",
       "      <td>0</td>\n",
       "      <td>0</td>\n",
       "      <td>0</td>\n",
       "      <td>1.0</td>\n",
       "      <td>305</td>\n",
       "      <td>1.0</td>\n",
       "      <td>13.0</td>\n",
       "      <td>17.0</td>\n",
       "      <td>1</td>\n",
       "      <td>...</td>\n",
       "      <td>0</td>\n",
       "      <td>0</td>\n",
       "      <td>0</td>\n",
       "      <td>1</td>\n",
       "      <td>0</td>\n",
       "      <td>0</td>\n",
       "      <td>0</td>\n",
       "      <td>1</td>\n",
       "      <td>0</td>\n",
       "      <td>0</td>\n",
       "    </tr>\n",
       "    <tr>\n",
       "      <th>4</th>\n",
       "      <td>660681</td>\n",
       "      <td>0</td>\n",
       "      <td>0</td>\n",
       "      <td>1</td>\n",
       "      <td>2.0</td>\n",
       "      <td>1428</td>\n",
       "      <td>1.0</td>\n",
       "      <td>15.0</td>\n",
       "      <td>18.0</td>\n",
       "      <td>1</td>\n",
       "      <td>...</td>\n",
       "      <td>0</td>\n",
       "      <td>0</td>\n",
       "      <td>0</td>\n",
       "      <td>1</td>\n",
       "      <td>0</td>\n",
       "      <td>0</td>\n",
       "      <td>1</td>\n",
       "      <td>0</td>\n",
       "      <td>0</td>\n",
       "      <td>0</td>\n",
       "    </tr>\n",
       "  </tbody>\n",
       "</table>\n",
       "<p>5 rows × 69 columns</p>\n",
       "</div>"
      ],
      "text/plain": [
       "   Lead Number  Do Not Email  Do Not Call  Converted  TotalVisits  \\\n",
       "0       660737             0            0          0          0.0   \n",
       "1       660728             0            0          0          5.0   \n",
       "2       660727             0            0          1          2.0   \n",
       "3       660719             0            0          0          1.0   \n",
       "4       660681             0            0          1          2.0   \n",
       "\n",
       "   Total Time Spent on Website  Page Views Per Visit  \\\n",
       "0                            0                   0.0   \n",
       "1                          674                   2.5   \n",
       "2                         1532                   2.0   \n",
       "3                          305                   1.0   \n",
       "4                         1428                   1.0   \n",
       "\n",
       "   Asymmetrique Activity Score  Asymmetrique Profile Score  \\\n",
       "0                         15.0                        15.0   \n",
       "1                         15.0                        15.0   \n",
       "2                         14.0                        20.0   \n",
       "3                         13.0                        17.0   \n",
       "4                         15.0                        18.0   \n",
       "\n",
       "   Lead Origin_Landing Page Submission  ...  Lead Profile_Lateral Student  \\\n",
       "0                                    0  ...                             0   \n",
       "1                                    0  ...                             0   \n",
       "2                                    1  ...                             0   \n",
       "3                                    1  ...                             0   \n",
       "4                                    1  ...                             0   \n",
       "\n",
       "   Lead Profile_Other Leads  Lead Profile_Potential Lead  Lead Profile_Select  \\\n",
       "0                         0                            0                    1   \n",
       "1                         0                            0                    1   \n",
       "2                         0                            1                    0   \n",
       "3                         0                            0                    1   \n",
       "4                         0                            0                    1   \n",
       "\n",
       "   Lead Profile_Student of SomeSchool  Lead Quality_Low in Relevance  \\\n",
       "0                                   0                              1   \n",
       "1                                   0                              0   \n",
       "2                                   0                              0   \n",
       "3                                   0                              0   \n",
       "4                                   0                              0   \n",
       "\n",
       "   Lead Quality_Might be  Lead Quality_Not Sure  Lead Quality_Select  \\\n",
       "0                      0                      0                    0   \n",
       "1                      0                      0                    1   \n",
       "2                      1                      0                    0   \n",
       "3                      0                      1                    0   \n",
       "4                      1                      0                    0   \n",
       "\n",
       "   Lead Quality_Worst  \n",
       "0                   0  \n",
       "1                   0  \n",
       "2                   0  \n",
       "3                   0  \n",
       "4                   0  \n",
       "\n",
       "[5 rows x 69 columns]"
      ]
     },
     "execution_count": 55,
     "metadata": {},
     "output_type": "execute_result"
    }
   ],
   "source": [
    "leads_data1.head()"
   ]
  },
  {
   "cell_type": "markdown",
   "id": "54592300",
   "metadata": {},
   "source": [
    "## Step 4 -Test-Train Split"
   ]
  },
  {
   "cell_type": "code",
   "execution_count": 56,
   "id": "3490511d",
   "metadata": {},
   "outputs": [],
   "source": [
    "from sklearn.model_selection import train_test_split"
   ]
  },
  {
   "cell_type": "code",
   "execution_count": 57,
   "id": "55adda70",
   "metadata": {},
   "outputs": [
    {
     "data": {
      "text/html": [
       "<div>\n",
       "<style scoped>\n",
       "    .dataframe tbody tr th:only-of-type {\n",
       "        vertical-align: middle;\n",
       "    }\n",
       "\n",
       "    .dataframe tbody tr th {\n",
       "        vertical-align: top;\n",
       "    }\n",
       "\n",
       "    .dataframe thead th {\n",
       "        text-align: right;\n",
       "    }\n",
       "</style>\n",
       "<table border=\"1\" class=\"dataframe\">\n",
       "  <thead>\n",
       "    <tr style=\"text-align: right;\">\n",
       "      <th></th>\n",
       "      <th>Do Not Email</th>\n",
       "      <th>Do Not Call</th>\n",
       "      <th>TotalVisits</th>\n",
       "      <th>Total Time Spent on Website</th>\n",
       "      <th>Page Views Per Visit</th>\n",
       "      <th>Asymmetrique Activity Score</th>\n",
       "      <th>Asymmetrique Profile Score</th>\n",
       "      <th>Lead Origin_Landing Page Submission</th>\n",
       "      <th>Lead Origin_Lead Add Form</th>\n",
       "      <th>Lead Origin_Lead Import</th>\n",
       "      <th>...</th>\n",
       "      <th>Lead Profile_Lateral Student</th>\n",
       "      <th>Lead Profile_Other Leads</th>\n",
       "      <th>Lead Profile_Potential Lead</th>\n",
       "      <th>Lead Profile_Select</th>\n",
       "      <th>Lead Profile_Student of SomeSchool</th>\n",
       "      <th>Lead Quality_Low in Relevance</th>\n",
       "      <th>Lead Quality_Might be</th>\n",
       "      <th>Lead Quality_Not Sure</th>\n",
       "      <th>Lead Quality_Select</th>\n",
       "      <th>Lead Quality_Worst</th>\n",
       "    </tr>\n",
       "  </thead>\n",
       "  <tbody>\n",
       "    <tr>\n",
       "      <th>0</th>\n",
       "      <td>0</td>\n",
       "      <td>0</td>\n",
       "      <td>0.0</td>\n",
       "      <td>0</td>\n",
       "      <td>0.0</td>\n",
       "      <td>15.0</td>\n",
       "      <td>15.0</td>\n",
       "      <td>0</td>\n",
       "      <td>0</td>\n",
       "      <td>0</td>\n",
       "      <td>...</td>\n",
       "      <td>0</td>\n",
       "      <td>0</td>\n",
       "      <td>0</td>\n",
       "      <td>1</td>\n",
       "      <td>0</td>\n",
       "      <td>1</td>\n",
       "      <td>0</td>\n",
       "      <td>0</td>\n",
       "      <td>0</td>\n",
       "      <td>0</td>\n",
       "    </tr>\n",
       "    <tr>\n",
       "      <th>1</th>\n",
       "      <td>0</td>\n",
       "      <td>0</td>\n",
       "      <td>5.0</td>\n",
       "      <td>674</td>\n",
       "      <td>2.5</td>\n",
       "      <td>15.0</td>\n",
       "      <td>15.0</td>\n",
       "      <td>0</td>\n",
       "      <td>0</td>\n",
       "      <td>0</td>\n",
       "      <td>...</td>\n",
       "      <td>0</td>\n",
       "      <td>0</td>\n",
       "      <td>0</td>\n",
       "      <td>1</td>\n",
       "      <td>0</td>\n",
       "      <td>0</td>\n",
       "      <td>0</td>\n",
       "      <td>0</td>\n",
       "      <td>1</td>\n",
       "      <td>0</td>\n",
       "    </tr>\n",
       "    <tr>\n",
       "      <th>2</th>\n",
       "      <td>0</td>\n",
       "      <td>0</td>\n",
       "      <td>2.0</td>\n",
       "      <td>1532</td>\n",
       "      <td>2.0</td>\n",
       "      <td>14.0</td>\n",
       "      <td>20.0</td>\n",
       "      <td>1</td>\n",
       "      <td>0</td>\n",
       "      <td>0</td>\n",
       "      <td>...</td>\n",
       "      <td>0</td>\n",
       "      <td>0</td>\n",
       "      <td>1</td>\n",
       "      <td>0</td>\n",
       "      <td>0</td>\n",
       "      <td>0</td>\n",
       "      <td>1</td>\n",
       "      <td>0</td>\n",
       "      <td>0</td>\n",
       "      <td>0</td>\n",
       "    </tr>\n",
       "    <tr>\n",
       "      <th>3</th>\n",
       "      <td>0</td>\n",
       "      <td>0</td>\n",
       "      <td>1.0</td>\n",
       "      <td>305</td>\n",
       "      <td>1.0</td>\n",
       "      <td>13.0</td>\n",
       "      <td>17.0</td>\n",
       "      <td>1</td>\n",
       "      <td>0</td>\n",
       "      <td>0</td>\n",
       "      <td>...</td>\n",
       "      <td>0</td>\n",
       "      <td>0</td>\n",
       "      <td>0</td>\n",
       "      <td>1</td>\n",
       "      <td>0</td>\n",
       "      <td>0</td>\n",
       "      <td>0</td>\n",
       "      <td>1</td>\n",
       "      <td>0</td>\n",
       "      <td>0</td>\n",
       "    </tr>\n",
       "    <tr>\n",
       "      <th>4</th>\n",
       "      <td>0</td>\n",
       "      <td>0</td>\n",
       "      <td>2.0</td>\n",
       "      <td>1428</td>\n",
       "      <td>1.0</td>\n",
       "      <td>15.0</td>\n",
       "      <td>18.0</td>\n",
       "      <td>1</td>\n",
       "      <td>0</td>\n",
       "      <td>0</td>\n",
       "      <td>...</td>\n",
       "      <td>0</td>\n",
       "      <td>0</td>\n",
       "      <td>0</td>\n",
       "      <td>1</td>\n",
       "      <td>0</td>\n",
       "      <td>0</td>\n",
       "      <td>1</td>\n",
       "      <td>0</td>\n",
       "      <td>0</td>\n",
       "      <td>0</td>\n",
       "    </tr>\n",
       "  </tbody>\n",
       "</table>\n",
       "<p>5 rows × 67 columns</p>\n",
       "</div>"
      ],
      "text/plain": [
       "   Do Not Email  Do Not Call  TotalVisits  Total Time Spent on Website  \\\n",
       "0             0            0          0.0                            0   \n",
       "1             0            0          5.0                          674   \n",
       "2             0            0          2.0                         1532   \n",
       "3             0            0          1.0                          305   \n",
       "4             0            0          2.0                         1428   \n",
       "\n",
       "   Page Views Per Visit  Asymmetrique Activity Score  \\\n",
       "0                   0.0                         15.0   \n",
       "1                   2.5                         15.0   \n",
       "2                   2.0                         14.0   \n",
       "3                   1.0                         13.0   \n",
       "4                   1.0                         15.0   \n",
       "\n",
       "   Asymmetrique Profile Score  Lead Origin_Landing Page Submission  \\\n",
       "0                        15.0                                    0   \n",
       "1                        15.0                                    0   \n",
       "2                        20.0                                    1   \n",
       "3                        17.0                                    1   \n",
       "4                        18.0                                    1   \n",
       "\n",
       "   Lead Origin_Lead Add Form  Lead Origin_Lead Import  ...  \\\n",
       "0                          0                        0  ...   \n",
       "1                          0                        0  ...   \n",
       "2                          0                        0  ...   \n",
       "3                          0                        0  ...   \n",
       "4                          0                        0  ...   \n",
       "\n",
       "   Lead Profile_Lateral Student  Lead Profile_Other Leads  \\\n",
       "0                             0                         0   \n",
       "1                             0                         0   \n",
       "2                             0                         0   \n",
       "3                             0                         0   \n",
       "4                             0                         0   \n",
       "\n",
       "   Lead Profile_Potential Lead  Lead Profile_Select  \\\n",
       "0                            0                    1   \n",
       "1                            0                    1   \n",
       "2                            1                    0   \n",
       "3                            0                    1   \n",
       "4                            0                    1   \n",
       "\n",
       "   Lead Profile_Student of SomeSchool  Lead Quality_Low in Relevance  \\\n",
       "0                                   0                              1   \n",
       "1                                   0                              0   \n",
       "2                                   0                              0   \n",
       "3                                   0                              0   \n",
       "4                                   0                              0   \n",
       "\n",
       "   Lead Quality_Might be  Lead Quality_Not Sure  Lead Quality_Select  \\\n",
       "0                      0                      0                    0   \n",
       "1                      0                      0                    1   \n",
       "2                      1                      0                    0   \n",
       "3                      0                      1                    0   \n",
       "4                      1                      0                    0   \n",
       "\n",
       "   Lead Quality_Worst  \n",
       "0                   0  \n",
       "1                   0  \n",
       "2                   0  \n",
       "3                   0  \n",
       "4                   0  \n",
       "\n",
       "[5 rows x 67 columns]"
      ]
     },
     "execution_count": 57,
     "metadata": {},
     "output_type": "execute_result"
    }
   ],
   "source": [
    "# Putting feature variable to X\n",
    "X = leads_data1.drop(['Lead Number','Converted'], axis=1)\n",
    "\n",
    "X.head()"
   ]
  },
  {
   "cell_type": "code",
   "execution_count": 58,
   "id": "9fb883dc",
   "metadata": {},
   "outputs": [
    {
     "data": {
      "text/plain": [
       "0    0\n",
       "1    0\n",
       "2    1\n",
       "3    0\n",
       "4    1\n",
       "Name: Converted, dtype: int64"
      ]
     },
     "execution_count": 58,
     "metadata": {},
     "output_type": "execute_result"
    }
   ],
   "source": [
    "# Putting response variable to y\n",
    "y =leads_data1 ['Converted']\n",
    "\n",
    "y.head()"
   ]
  },
  {
   "cell_type": "code",
   "execution_count": 59,
   "id": "e015a3e4",
   "metadata": {},
   "outputs": [],
   "source": [
    "# Splitting the data into train and test\n",
    "X_train, X_test, y_train, y_test = train_test_split(X, y, train_size=0.7, test_size=0.3, random_state=100)"
   ]
  },
  {
   "cell_type": "markdown",
   "id": "c24093b7",
   "metadata": {},
   "source": [
    "### Step 5: Feature Scaling"
   ]
  },
  {
   "cell_type": "code",
   "execution_count": 60,
   "id": "3a31fb85",
   "metadata": {},
   "outputs": [
    {
     "data": {
      "text/html": [
       "<div>\n",
       "<style scoped>\n",
       "    .dataframe tbody tr th:only-of-type {\n",
       "        vertical-align: middle;\n",
       "    }\n",
       "\n",
       "    .dataframe tbody tr th {\n",
       "        vertical-align: top;\n",
       "    }\n",
       "\n",
       "    .dataframe thead th {\n",
       "        text-align: right;\n",
       "    }\n",
       "</style>\n",
       "<table border=\"1\" class=\"dataframe\">\n",
       "  <thead>\n",
       "    <tr style=\"text-align: right;\">\n",
       "      <th></th>\n",
       "      <th>Do Not Email</th>\n",
       "      <th>Do Not Call</th>\n",
       "      <th>TotalVisits</th>\n",
       "      <th>Total Time Spent on Website</th>\n",
       "      <th>Page Views Per Visit</th>\n",
       "      <th>Asymmetrique Activity Score</th>\n",
       "      <th>Asymmetrique Profile Score</th>\n",
       "      <th>Lead Origin_Landing Page Submission</th>\n",
       "      <th>Lead Origin_Lead Add Form</th>\n",
       "      <th>Lead Origin_Lead Import</th>\n",
       "      <th>...</th>\n",
       "      <th>Lead Profile_Lateral Student</th>\n",
       "      <th>Lead Profile_Other Leads</th>\n",
       "      <th>Lead Profile_Potential Lead</th>\n",
       "      <th>Lead Profile_Select</th>\n",
       "      <th>Lead Profile_Student of SomeSchool</th>\n",
       "      <th>Lead Quality_Low in Relevance</th>\n",
       "      <th>Lead Quality_Might be</th>\n",
       "      <th>Lead Quality_Not Sure</th>\n",
       "      <th>Lead Quality_Select</th>\n",
       "      <th>Lead Quality_Worst</th>\n",
       "    </tr>\n",
       "  </thead>\n",
       "  <tbody>\n",
       "    <tr>\n",
       "      <th>1871</th>\n",
       "      <td>0</td>\n",
       "      <td>0</td>\n",
       "      <td>-0.656434</td>\n",
       "      <td>-0.885371</td>\n",
       "      <td>-1.085519</td>\n",
       "      <td>15.0</td>\n",
       "      <td>15.0</td>\n",
       "      <td>0</td>\n",
       "      <td>0</td>\n",
       "      <td>0</td>\n",
       "      <td>...</td>\n",
       "      <td>0</td>\n",
       "      <td>0</td>\n",
       "      <td>0</td>\n",
       "      <td>1</td>\n",
       "      <td>0</td>\n",
       "      <td>0</td>\n",
       "      <td>0</td>\n",
       "      <td>1</td>\n",
       "      <td>0</td>\n",
       "      <td>0</td>\n",
       "    </tr>\n",
       "    <tr>\n",
       "      <th>6795</th>\n",
       "      <td>0</td>\n",
       "      <td>0</td>\n",
       "      <td>0.100767</td>\n",
       "      <td>0.005716</td>\n",
       "      <td>-0.470569</td>\n",
       "      <td>14.0</td>\n",
       "      <td>16.0</td>\n",
       "      <td>1</td>\n",
       "      <td>0</td>\n",
       "      <td>0</td>\n",
       "      <td>...</td>\n",
       "      <td>0</td>\n",
       "      <td>0</td>\n",
       "      <td>0</td>\n",
       "      <td>1</td>\n",
       "      <td>0</td>\n",
       "      <td>0</td>\n",
       "      <td>0</td>\n",
       "      <td>0</td>\n",
       "      <td>1</td>\n",
       "      <td>0</td>\n",
       "    </tr>\n",
       "    <tr>\n",
       "      <th>3516</th>\n",
       "      <td>0</td>\n",
       "      <td>0</td>\n",
       "      <td>0.290067</td>\n",
       "      <td>-0.691418</td>\n",
       "      <td>0.070401</td>\n",
       "      <td>14.0</td>\n",
       "      <td>16.0</td>\n",
       "      <td>0</td>\n",
       "      <td>0</td>\n",
       "      <td>0</td>\n",
       "      <td>...</td>\n",
       "      <td>0</td>\n",
       "      <td>0</td>\n",
       "      <td>0</td>\n",
       "      <td>1</td>\n",
       "      <td>0</td>\n",
       "      <td>0</td>\n",
       "      <td>0</td>\n",
       "      <td>0</td>\n",
       "      <td>1</td>\n",
       "      <td>0</td>\n",
       "    </tr>\n",
       "    <tr>\n",
       "      <th>8105</th>\n",
       "      <td>0</td>\n",
       "      <td>0</td>\n",
       "      <td>0.290067</td>\n",
       "      <td>1.365219</td>\n",
       "      <td>1.226321</td>\n",
       "      <td>14.0</td>\n",
       "      <td>15.0</td>\n",
       "      <td>1</td>\n",
       "      <td>0</td>\n",
       "      <td>0</td>\n",
       "      <td>...</td>\n",
       "      <td>0</td>\n",
       "      <td>0</td>\n",
       "      <td>0</td>\n",
       "      <td>1</td>\n",
       "      <td>0</td>\n",
       "      <td>0</td>\n",
       "      <td>1</td>\n",
       "      <td>0</td>\n",
       "      <td>0</td>\n",
       "      <td>0</td>\n",
       "    </tr>\n",
       "    <tr>\n",
       "      <th>3934</th>\n",
       "      <td>0</td>\n",
       "      <td>0</td>\n",
       "      <td>-0.656434</td>\n",
       "      <td>-0.885371</td>\n",
       "      <td>-1.085519</td>\n",
       "      <td>14.0</td>\n",
       "      <td>16.0</td>\n",
       "      <td>0</td>\n",
       "      <td>0</td>\n",
       "      <td>0</td>\n",
       "      <td>...</td>\n",
       "      <td>0</td>\n",
       "      <td>0</td>\n",
       "      <td>0</td>\n",
       "      <td>1</td>\n",
       "      <td>0</td>\n",
       "      <td>0</td>\n",
       "      <td>0</td>\n",
       "      <td>0</td>\n",
       "      <td>1</td>\n",
       "      <td>0</td>\n",
       "    </tr>\n",
       "  </tbody>\n",
       "</table>\n",
       "<p>5 rows × 67 columns</p>\n",
       "</div>"
      ],
      "text/plain": [
       "      Do Not Email  Do Not Call  TotalVisits  Total Time Spent on Website  \\\n",
       "1871             0            0    -0.656434                    -0.885371   \n",
       "6795             0            0     0.100767                     0.005716   \n",
       "3516             0            0     0.290067                    -0.691418   \n",
       "8105             0            0     0.290067                     1.365219   \n",
       "3934             0            0    -0.656434                    -0.885371   \n",
       "\n",
       "      Page Views Per Visit  Asymmetrique Activity Score  \\\n",
       "1871             -1.085519                         15.0   \n",
       "6795             -0.470569                         14.0   \n",
       "3516              0.070401                         14.0   \n",
       "8105              1.226321                         14.0   \n",
       "3934             -1.085519                         14.0   \n",
       "\n",
       "      Asymmetrique Profile Score  Lead Origin_Landing Page Submission  \\\n",
       "1871                        15.0                                    0   \n",
       "6795                        16.0                                    1   \n",
       "3516                        16.0                                    0   \n",
       "8105                        15.0                                    1   \n",
       "3934                        16.0                                    0   \n",
       "\n",
       "      Lead Origin_Lead Add Form  Lead Origin_Lead Import  ...  \\\n",
       "1871                          0                        0  ...   \n",
       "6795                          0                        0  ...   \n",
       "3516                          0                        0  ...   \n",
       "8105                          0                        0  ...   \n",
       "3934                          0                        0  ...   \n",
       "\n",
       "      Lead Profile_Lateral Student  Lead Profile_Other Leads  \\\n",
       "1871                             0                         0   \n",
       "6795                             0                         0   \n",
       "3516                             0                         0   \n",
       "8105                             0                         0   \n",
       "3934                             0                         0   \n",
       "\n",
       "      Lead Profile_Potential Lead  Lead Profile_Select  \\\n",
       "1871                            0                    1   \n",
       "6795                            0                    1   \n",
       "3516                            0                    1   \n",
       "8105                            0                    1   \n",
       "3934                            0                    1   \n",
       "\n",
       "      Lead Profile_Student of SomeSchool  Lead Quality_Low in Relevance  \\\n",
       "1871                                   0                              0   \n",
       "6795                                   0                              0   \n",
       "3516                                   0                              0   \n",
       "8105                                   0                              0   \n",
       "3934                                   0                              0   \n",
       "\n",
       "      Lead Quality_Might be  Lead Quality_Not Sure  Lead Quality_Select  \\\n",
       "1871                      0                      1                    0   \n",
       "6795                      0                      0                    1   \n",
       "3516                      0                      0                    1   \n",
       "8105                      1                      0                    0   \n",
       "3934                      0                      0                    1   \n",
       "\n",
       "      Lead Quality_Worst  \n",
       "1871                   0  \n",
       "6795                   0  \n",
       "3516                   0  \n",
       "8105                   0  \n",
       "3934                   0  \n",
       "\n",
       "[5 rows x 67 columns]"
      ]
     },
     "execution_count": 60,
     "metadata": {},
     "output_type": "execute_result"
    }
   ],
   "source": [
    "from sklearn.preprocessing import StandardScaler\n",
    "\n",
    "scaler = StandardScaler()\n",
    "\n",
    "X_train[['TotalVisits','Total Time Spent on Website','Page Views Per Visit']] = scaler.fit_transform(X_train[['TotalVisits','Total Time Spent on Website','Page Views Per Visit']])\n",
    "\n",
    "X_train.head()"
   ]
  },
  {
   "cell_type": "code",
   "execution_count": 61,
   "id": "70af6ece",
   "metadata": {},
   "outputs": [
    {
     "data": {
      "text/plain": [
       "38.53896103896104"
      ]
     },
     "execution_count": 61,
     "metadata": {},
     "output_type": "execute_result"
    }
   ],
   "source": [
    "# Checking the Churn Rate\n",
    "Converted = (sum(leads_data1['Converted'])/len(leads_data1['Converted'].index))*100\n",
    "Converted"
   ]
  },
  {
   "cell_type": "markdown",
   "id": "47648ffe",
   "metadata": {},
   "source": [
    "## Step 6 - Model Building"
   ]
  },
  {
   "cell_type": "markdown",
   "id": "7586d91b",
   "metadata": {},
   "source": [
    "##### Running Your First Training Model"
   ]
  },
  {
   "cell_type": "code",
   "execution_count": 62,
   "id": "4d22de0f",
   "metadata": {},
   "outputs": [],
   "source": [
    "import statsmodels.api as sm"
   ]
  },
  {
   "cell_type": "code",
   "execution_count": 63,
   "id": "44712621",
   "metadata": {},
   "outputs": [
    {
     "data": {
      "text/html": [
       "<table class=\"simpletable\">\n",
       "<caption>Generalized Linear Model Regression Results</caption>\n",
       "<tr>\n",
       "  <th>Dep. Variable:</th>       <td>Converted</td>    <th>  No. Observations:  </th>  <td>  6468</td> \n",
       "</tr>\n",
       "<tr>\n",
       "  <th>Model:</th>                  <td>GLM</td>       <th>  Df Residuals:      </th>  <td>  6401</td> \n",
       "</tr>\n",
       "<tr>\n",
       "  <th>Model Family:</th>        <td>Binomial</td>     <th>  Df Model:          </th>  <td>    66</td> \n",
       "</tr>\n",
       "<tr>\n",
       "  <th>Link Function:</th>         <td>Logit</td>      <th>  Scale:             </th> <td>  1.0000</td>\n",
       "</tr>\n",
       "<tr>\n",
       "  <th>Method:</th>                <td>IRLS</td>       <th>  Log-Likelihood:    </th> <td> -2287.0</td>\n",
       "</tr>\n",
       "<tr>\n",
       "  <th>Date:</th>            <td>Sat, 25 Feb 2023</td> <th>  Deviance:          </th> <td>  4574.0</td>\n",
       "</tr>\n",
       "<tr>\n",
       "  <th>Time:</th>                <td>18:30:27</td>     <th>  Pearson chi2:      </th> <td>6.88e+03</td>\n",
       "</tr>\n",
       "<tr>\n",
       "  <th>No. Iterations:</th>         <td>23</td>        <th>  Pseudo R-squ. (CS):</th>  <td>0.4632</td> \n",
       "</tr>\n",
       "<tr>\n",
       "  <th>Covariance Type:</th>     <td>nonrobust</td>    <th>                     </th>     <td> </td>   \n",
       "</tr>\n",
       "</table>\n",
       "<table class=\"simpletable\">\n",
       "<tr>\n",
       "                            <td></td>                              <th>coef</th>     <th>std err</th>      <th>z</th>      <th>P>|z|</th>  <th>[0.025</th>    <th>0.975]</th>  \n",
       "</tr>\n",
       "<tr>\n",
       "  <th>const</th>                                                <td>   14.2147</td> <td> 2.67e+04</td> <td>    0.001</td> <td> 1.000</td> <td>-5.24e+04</td> <td> 5.24e+04</td>\n",
       "</tr>\n",
       "<tr>\n",
       "  <th>Do Not Email</th>                                         <td>   -1.0461</td> <td>    0.181</td> <td>   -5.766</td> <td> 0.000</td> <td>   -1.402</td> <td>   -0.691</td>\n",
       "</tr>\n",
       "<tr>\n",
       "  <th>Do Not Call</th>                                          <td>   22.6183</td> <td> 8.56e+04</td> <td>    0.000</td> <td> 1.000</td> <td>-1.68e+05</td> <td> 1.68e+05</td>\n",
       "</tr>\n",
       "<tr>\n",
       "  <th>TotalVisits</th>                                          <td>    0.0857</td> <td>    0.037</td> <td>    2.348</td> <td> 0.019</td> <td>    0.014</td> <td>    0.157</td>\n",
       "</tr>\n",
       "<tr>\n",
       "  <th>Total Time Spent on Website</th>                          <td>    1.0612</td> <td>    0.044</td> <td>   24.279</td> <td> 0.000</td> <td>    0.976</td> <td>    1.147</td>\n",
       "</tr>\n",
       "<tr>\n",
       "  <th>Page Views Per Visit</th>                                 <td>   -0.1003</td> <td>    0.054</td> <td>   -1.872</td> <td> 0.061</td> <td>   -0.205</td> <td>    0.005</td>\n",
       "</tr>\n",
       "<tr>\n",
       "  <th>Asymmetrique Activity Score</th>                          <td>    0.4863</td> <td>    0.042</td> <td>   11.599</td> <td> 0.000</td> <td>    0.404</td> <td>    0.568</td>\n",
       "</tr>\n",
       "<tr>\n",
       "  <th>Asymmetrique Profile Score</th>                           <td>    0.0040</td> <td>    0.043</td> <td>    0.094</td> <td> 0.925</td> <td>   -0.080</td> <td>    0.088</td>\n",
       "</tr>\n",
       "<tr>\n",
       "  <th>Lead Origin_Landing Page Submission</th>                  <td>   -0.4483</td> <td>    0.167</td> <td>   -2.689</td> <td> 0.007</td> <td>   -0.775</td> <td>   -0.122</td>\n",
       "</tr>\n",
       "<tr>\n",
       "  <th>Lead Origin_Lead Add Form</th>                            <td>    1.1879</td> <td>    1.573</td> <td>    0.755</td> <td> 0.450</td> <td>   -1.896</td> <td>    4.272</td>\n",
       "</tr>\n",
       "<tr>\n",
       "  <th>Lead Origin_Lead Import</th>                              <td>    0.3089</td> <td>    1.735</td> <td>    0.178</td> <td> 0.859</td> <td>   -3.091</td> <td>    3.709</td>\n",
       "</tr>\n",
       "<tr>\n",
       "  <th>Lead Origin_Quick Add Form</th>                           <td>   21.8252</td> <td> 1.31e+05</td> <td>    0.000</td> <td> 1.000</td> <td>-2.57e+05</td> <td> 2.57e+05</td>\n",
       "</tr>\n",
       "<tr>\n",
       "  <th>Lead Source_Direct Traffic</th>                           <td>    1.5183</td> <td>    2.027</td> <td>    0.749</td> <td> 0.454</td> <td>   -2.455</td> <td>    5.491</td>\n",
       "</tr>\n",
       "<tr>\n",
       "  <th>Lead Source_Facebook</th>                                 <td>    0.7376</td> <td>    2.164</td> <td>    0.341</td> <td> 0.733</td> <td>   -3.504</td> <td>    4.979</td>\n",
       "</tr>\n",
       "<tr>\n",
       "  <th>Lead Source_Google</th>                                   <td>    1.7528</td> <td>    2.025</td> <td>    0.865</td> <td> 0.387</td> <td>   -2.217</td> <td>    5.722</td>\n",
       "</tr>\n",
       "<tr>\n",
       "  <th>Lead Source_Live Chat</th>                                <td>   25.7509</td> <td> 8.08e+04</td> <td>    0.000</td> <td> 1.000</td> <td>-1.58e+05</td> <td> 1.58e+05</td>\n",
       "</tr>\n",
       "<tr>\n",
       "  <th>Lead Source_NC_EDM</th>                                   <td>   26.1969</td> <td> 1.31e+05</td> <td>    0.000</td> <td> 1.000</td> <td>-2.57e+05</td> <td> 2.57e+05</td>\n",
       "</tr>\n",
       "<tr>\n",
       "  <th>Lead Source_Olark Chat</th>                               <td>    2.3089</td> <td>    2.024</td> <td>    1.141</td> <td> 0.254</td> <td>   -1.657</td> <td>    6.275</td>\n",
       "</tr>\n",
       "<tr>\n",
       "  <th>Lead Source_Organic Search</th>                           <td>    1.6434</td> <td>    2.028</td> <td>    0.810</td> <td> 0.418</td> <td>   -2.331</td> <td>    5.618</td>\n",
       "</tr>\n",
       "<tr>\n",
       "  <th>Lead Source_Pay per Click Ads</th>                        <td>  -20.7207</td> <td> 1.31e+05</td> <td>   -0.000</td> <td> 1.000</td> <td>-2.57e+05</td> <td> 2.57e+05</td>\n",
       "</tr>\n",
       "<tr>\n",
       "  <th>Lead Source_Press_Release</th>                            <td>  -22.0294</td> <td> 7.59e+04</td> <td>   -0.000</td> <td> 1.000</td> <td>-1.49e+05</td> <td> 1.49e+05</td>\n",
       "</tr>\n",
       "<tr>\n",
       "  <th>Lead Source_Reference</th>                                <td>    2.4941</td> <td>    1.297</td> <td>    1.923</td> <td> 0.054</td> <td>   -0.048</td> <td>    5.036</td>\n",
       "</tr>\n",
       "<tr>\n",
       "  <th>Lead Source_Referral Sites</th>                           <td>    0.8187</td> <td>    2.055</td> <td>    0.398</td> <td> 0.690</td> <td>   -3.210</td> <td>    4.847</td>\n",
       "</tr>\n",
       "<tr>\n",
       "  <th>Lead Source_Social Media</th>                             <td>    1.5135</td> <td>    3.122</td> <td>    0.485</td> <td> 0.628</td> <td>   -4.605</td> <td>    7.632</td>\n",
       "</tr>\n",
       "<tr>\n",
       "  <th>Lead Source_Unknown</th>                                  <td>    2.9034</td> <td>    1.399</td> <td>    2.075</td> <td> 0.038</td> <td>    0.161</td> <td>    5.646</td>\n",
       "</tr>\n",
       "<tr>\n",
       "  <th>Lead Source_WeLearn</th>                                  <td>   24.1392</td> <td> 1.31e+05</td> <td>    0.000</td> <td> 1.000</td> <td>-2.57e+05</td> <td> 2.57e+05</td>\n",
       "</tr>\n",
       "<tr>\n",
       "  <th>Lead Source_Welingak Website</th>                         <td>    6.0600</td> <td>    1.473</td> <td>    4.113</td> <td> 0.000</td> <td>    3.172</td> <td>    8.948</td>\n",
       "</tr>\n",
       "<tr>\n",
       "  <th>Lead Source_bing</th>                                     <td>    3.0561</td> <td>    2.401</td> <td>    1.273</td> <td> 0.203</td> <td>   -1.649</td> <td>    7.761</td>\n",
       "</tr>\n",
       "<tr>\n",
       "  <th>Lead Source_blog</th>                                     <td>  -21.3769</td> <td> 1.31e+05</td> <td>   -0.000</td> <td> 1.000</td> <td>-2.57e+05</td> <td> 2.57e+05</td>\n",
       "</tr>\n",
       "<tr>\n",
       "  <th>Lead Source_google</th>                                   <td>  -21.3784</td> <td> 5.41e+04</td> <td>   -0.000</td> <td> 1.000</td> <td>-1.06e+05</td> <td> 1.06e+05</td>\n",
       "</tr>\n",
       "<tr>\n",
       "  <th>Lead Source_testone</th>                                  <td>-9.685e-10</td> <td> 1.35e-05</td> <td>-7.17e-05</td> <td> 1.000</td> <td>-2.65e-05</td> <td> 2.65e-05</td>\n",
       "</tr>\n",
       "<tr>\n",
       "  <th>Lead Source_welearnblog_Home</th>                         <td>  -20.9068</td> <td> 1.31e+05</td> <td>   -0.000</td> <td> 1.000</td> <td>-2.57e+05</td> <td> 2.57e+05</td>\n",
       "</tr>\n",
       "<tr>\n",
       "  <th>Lead Source_youtubechannel</th>                           <td>  -20.0545</td> <td> 1.31e+05</td> <td>   -0.000</td> <td> 1.000</td> <td>-2.57e+05</td> <td> 2.57e+05</td>\n",
       "</tr>\n",
       "<tr>\n",
       "  <th>Specialization_Business Administration</th>               <td>   -0.0197</td> <td>    0.277</td> <td>   -0.071</td> <td> 0.943</td> <td>   -0.563</td> <td>    0.524</td>\n",
       "</tr>\n",
       "<tr>\n",
       "  <th>Specialization_E-Business</th>                            <td>   -0.0923</td> <td>    0.531</td> <td>   -0.174</td> <td> 0.862</td> <td>   -1.133</td> <td>    0.949</td>\n",
       "</tr>\n",
       "<tr>\n",
       "  <th>Specialization_E-COMMERCE</th>                            <td>    0.4644</td> <td>    0.381</td> <td>    1.220</td> <td> 0.222</td> <td>   -0.282</td> <td>    1.210</td>\n",
       "</tr>\n",
       "<tr>\n",
       "  <th>Specialization_Finance Management</th>                    <td>    0.1880</td> <td>    0.238</td> <td>    0.791</td> <td> 0.429</td> <td>   -0.278</td> <td>    0.654</td>\n",
       "</tr>\n",
       "<tr>\n",
       "  <th>Specialization_Healthcare Management</th>                 <td>   -0.0065</td> <td>    0.382</td> <td>   -0.017</td> <td> 0.986</td> <td>   -0.756</td> <td>    0.743</td>\n",
       "</tr>\n",
       "<tr>\n",
       "  <th>Specialization_Hospitality Management</th>                <td>   -0.8180</td> <td>    0.416</td> <td>   -1.965</td> <td> 0.049</td> <td>   -1.634</td> <td>   -0.002</td>\n",
       "</tr>\n",
       "<tr>\n",
       "  <th>Specialization_Human Resource Management</th>             <td>   -0.0801</td> <td>    0.242</td> <td>   -0.331</td> <td> 0.741</td> <td>   -0.555</td> <td>    0.395</td>\n",
       "</tr>\n",
       "<tr>\n",
       "  <th>Specialization_IT Projects Management</th>                <td>    0.3827</td> <td>    0.293</td> <td>    1.308</td> <td> 0.191</td> <td>   -0.191</td> <td>    0.956</td>\n",
       "</tr>\n",
       "<tr>\n",
       "  <th>Specialization_International Business</th>                <td>   -0.3267</td> <td>    0.362</td> <td>   -0.902</td> <td> 0.367</td> <td>   -1.037</td> <td>    0.384</td>\n",
       "</tr>\n",
       "<tr>\n",
       "  <th>Specialization_Marketing Management</th>                  <td>    0.0499</td> <td>    0.243</td> <td>    0.205</td> <td> 0.837</td> <td>   -0.427</td> <td>    0.527</td>\n",
       "</tr>\n",
       "<tr>\n",
       "  <th>Specialization_Media and Advertising</th>                 <td>    0.2395</td> <td>    0.324</td> <td>    0.738</td> <td> 0.460</td> <td>   -0.396</td> <td>    0.875</td>\n",
       "</tr>\n",
       "<tr>\n",
       "  <th>Specialization_Operations Management</th>                 <td>    0.2761</td> <td>    0.262</td> <td>    1.053</td> <td> 0.292</td> <td>   -0.238</td> <td>    0.790</td>\n",
       "</tr>\n",
       "<tr>\n",
       "  <th>Specialization_Retail Management</th>                     <td>   -0.4534</td> <td>    0.426</td> <td>   -1.065</td> <td> 0.287</td> <td>   -1.288</td> <td>    0.381</td>\n",
       "</tr>\n",
       "<tr>\n",
       "  <th>Specialization_Rural and Agribusiness</th>                <td>    0.4178</td> <td>    0.480</td> <td>    0.870</td> <td> 0.384</td> <td>   -0.523</td> <td>    1.359</td>\n",
       "</tr>\n",
       "<tr>\n",
       "  <th>Specialization_Select</th>                                <td>    0.1773</td> <td>    0.254</td> <td>    0.698</td> <td> 0.485</td> <td>   -0.321</td> <td>    0.675</td>\n",
       "</tr>\n",
       "<tr>\n",
       "  <th>Specialization_Services Excellence</th>                   <td>   -0.0284</td> <td>    0.596</td> <td>   -0.048</td> <td> 0.962</td> <td>   -1.196</td> <td>    1.139</td>\n",
       "</tr>\n",
       "<tr>\n",
       "  <th>Specialization_Supply Chain Management</th>               <td>    0.0894</td> <td>    0.287</td> <td>    0.311</td> <td> 0.755</td> <td>   -0.473</td> <td>    0.652</td>\n",
       "</tr>\n",
       "<tr>\n",
       "  <th>Specialization_Travel and Tourism</th>                    <td>   -0.0550</td> <td>    0.349</td> <td>   -0.158</td> <td> 0.875</td> <td>   -0.738</td> <td>    0.629</td>\n",
       "</tr>\n",
       "<tr>\n",
       "  <th>Specialization_Unknown</th>                               <td>   -1.2071</td> <td>    0.285</td> <td>   -4.230</td> <td> 0.000</td> <td>   -1.766</td> <td>   -0.648</td>\n",
       "</tr>\n",
       "<tr>\n",
       "  <th>What is your current occupation_Housewife</th>            <td>   25.9607</td> <td> 3.88e+04</td> <td>    0.001</td> <td> 0.999</td> <td> -7.6e+04</td> <td> 7.61e+04</td>\n",
       "</tr>\n",
       "<tr>\n",
       "  <th>What is your current occupation_Other</th>                <td>    2.4729</td> <td>    1.690</td> <td>    1.463</td> <td> 0.143</td> <td>   -0.839</td> <td>    5.785</td>\n",
       "</tr>\n",
       "<tr>\n",
       "  <th>What is your current occupation_Student</th>              <td>    2.9042</td> <td>    1.234</td> <td>    2.354</td> <td> 0.019</td> <td>    0.486</td> <td>    5.322</td>\n",
       "</tr>\n",
       "<tr>\n",
       "  <th>What is your current occupation_Unemployed</th>           <td>    2.4727</td> <td>    1.186</td> <td>    2.085</td> <td> 0.037</td> <td>    0.148</td> <td>    4.797</td>\n",
       "</tr>\n",
       "<tr>\n",
       "  <th>What is your current occupation_Unknown</th>              <td>    2.3870</td> <td>    1.194</td> <td>    1.999</td> <td> 0.046</td> <td>    0.046</td> <td>    4.728</td>\n",
       "</tr>\n",
       "<tr>\n",
       "  <th>What is your current occupation_Working Professional</th> <td>    4.1835</td> <td>    1.201</td> <td>    3.482</td> <td> 0.000</td> <td>    1.829</td> <td>    6.538</td>\n",
       "</tr>\n",
       "<tr>\n",
       "  <th>Lead Profile_Lateral Student</th>                         <td>  -22.5473</td> <td> 2.67e+04</td> <td>   -0.001</td> <td> 0.999</td> <td>-5.24e+04</td> <td> 5.24e+04</td>\n",
       "</tr>\n",
       "<tr>\n",
       "  <th>Lead Profile_Other Leads</th>                             <td>  -23.1974</td> <td> 2.67e+04</td> <td>   -0.001</td> <td> 0.999</td> <td>-5.24e+04</td> <td> 5.24e+04</td>\n",
       "</tr>\n",
       "<tr>\n",
       "  <th>Lead Profile_Potential Lead</th>                          <td>  -22.7484</td> <td> 2.67e+04</td> <td>   -0.001</td> <td> 0.999</td> <td>-5.24e+04</td> <td> 5.24e+04</td>\n",
       "</tr>\n",
       "<tr>\n",
       "  <th>Lead Profile_Select</th>                                  <td>  -23.1671</td> <td> 2.67e+04</td> <td>   -0.001</td> <td> 0.999</td> <td>-5.24e+04</td> <td> 5.24e+04</td>\n",
       "</tr>\n",
       "<tr>\n",
       "  <th>Lead Profile_Student of SomeSchool</th>                   <td>  -23.4822</td> <td> 2.67e+04</td> <td>   -0.001</td> <td> 0.999</td> <td>-5.24e+04</td> <td> 5.24e+04</td>\n",
       "</tr>\n",
       "<tr>\n",
       "  <th>Lead Quality_Low in Relevance</th>                        <td>   -1.3375</td> <td>    0.287</td> <td>   -4.661</td> <td> 0.000</td> <td>   -1.900</td> <td>   -0.775</td>\n",
       "</tr>\n",
       "<tr>\n",
       "  <th>Lead Quality_Might be</th>                                <td>   -1.5666</td> <td>    0.262</td> <td>   -5.983</td> <td> 0.000</td> <td>   -2.080</td> <td>   -1.053</td>\n",
       "</tr>\n",
       "<tr>\n",
       "  <th>Lead Quality_Not Sure</th>                                <td>   -3.4213</td> <td>    0.271</td> <td>  -12.609</td> <td> 0.000</td> <td>   -3.953</td> <td>   -2.890</td>\n",
       "</tr>\n",
       "<tr>\n",
       "  <th>Lead Quality_Select</th>                                  <td>   -3.3348</td> <td>    0.266</td> <td>  -12.515</td> <td> 0.000</td> <td>   -3.857</td> <td>   -2.813</td>\n",
       "</tr>\n",
       "<tr>\n",
       "  <th>Lead Quality_Worst</th>                                   <td>   -5.8923</td> <td>    0.470</td> <td>  -12.530</td> <td> 0.000</td> <td>   -6.814</td> <td>   -4.971</td>\n",
       "</tr>\n",
       "</table>"
      ],
      "text/plain": [
       "<class 'statsmodels.iolib.summary.Summary'>\n",
       "\"\"\"\n",
       "                 Generalized Linear Model Regression Results                  \n",
       "==============================================================================\n",
       "Dep. Variable:              Converted   No. Observations:                 6468\n",
       "Model:                            GLM   Df Residuals:                     6401\n",
       "Model Family:                Binomial   Df Model:                           66\n",
       "Link Function:                  Logit   Scale:                          1.0000\n",
       "Method:                          IRLS   Log-Likelihood:                -2287.0\n",
       "Date:                Sat, 25 Feb 2023   Deviance:                       4574.0\n",
       "Time:                        18:30:27   Pearson chi2:                 6.88e+03\n",
       "No. Iterations:                    23   Pseudo R-squ. (CS):             0.4632\n",
       "Covariance Type:            nonrobust                                         \n",
       "========================================================================================================================\n",
       "                                                           coef    std err          z      P>|z|      [0.025      0.975]\n",
       "------------------------------------------------------------------------------------------------------------------------\n",
       "const                                                   14.2147   2.67e+04      0.001      1.000   -5.24e+04    5.24e+04\n",
       "Do Not Email                                            -1.0461      0.181     -5.766      0.000      -1.402      -0.691\n",
       "Do Not Call                                             22.6183   8.56e+04      0.000      1.000   -1.68e+05    1.68e+05\n",
       "TotalVisits                                              0.0857      0.037      2.348      0.019       0.014       0.157\n",
       "Total Time Spent on Website                              1.0612      0.044     24.279      0.000       0.976       1.147\n",
       "Page Views Per Visit                                    -0.1003      0.054     -1.872      0.061      -0.205       0.005\n",
       "Asymmetrique Activity Score                              0.4863      0.042     11.599      0.000       0.404       0.568\n",
       "Asymmetrique Profile Score                               0.0040      0.043      0.094      0.925      -0.080       0.088\n",
       "Lead Origin_Landing Page Submission                     -0.4483      0.167     -2.689      0.007      -0.775      -0.122\n",
       "Lead Origin_Lead Add Form                                1.1879      1.573      0.755      0.450      -1.896       4.272\n",
       "Lead Origin_Lead Import                                  0.3089      1.735      0.178      0.859      -3.091       3.709\n",
       "Lead Origin_Quick Add Form                              21.8252   1.31e+05      0.000      1.000   -2.57e+05    2.57e+05\n",
       "Lead Source_Direct Traffic                               1.5183      2.027      0.749      0.454      -2.455       5.491\n",
       "Lead Source_Facebook                                     0.7376      2.164      0.341      0.733      -3.504       4.979\n",
       "Lead Source_Google                                       1.7528      2.025      0.865      0.387      -2.217       5.722\n",
       "Lead Source_Live Chat                                   25.7509   8.08e+04      0.000      1.000   -1.58e+05    1.58e+05\n",
       "Lead Source_NC_EDM                                      26.1969   1.31e+05      0.000      1.000   -2.57e+05    2.57e+05\n",
       "Lead Source_Olark Chat                                   2.3089      2.024      1.141      0.254      -1.657       6.275\n",
       "Lead Source_Organic Search                               1.6434      2.028      0.810      0.418      -2.331       5.618\n",
       "Lead Source_Pay per Click Ads                          -20.7207   1.31e+05     -0.000      1.000   -2.57e+05    2.57e+05\n",
       "Lead Source_Press_Release                              -22.0294   7.59e+04     -0.000      1.000   -1.49e+05    1.49e+05\n",
       "Lead Source_Reference                                    2.4941      1.297      1.923      0.054      -0.048       5.036\n",
       "Lead Source_Referral Sites                               0.8187      2.055      0.398      0.690      -3.210       4.847\n",
       "Lead Source_Social Media                                 1.5135      3.122      0.485      0.628      -4.605       7.632\n",
       "Lead Source_Unknown                                      2.9034      1.399      2.075      0.038       0.161       5.646\n",
       "Lead Source_WeLearn                                     24.1392   1.31e+05      0.000      1.000   -2.57e+05    2.57e+05\n",
       "Lead Source_Welingak Website                             6.0600      1.473      4.113      0.000       3.172       8.948\n",
       "Lead Source_bing                                         3.0561      2.401      1.273      0.203      -1.649       7.761\n",
       "Lead Source_blog                                       -21.3769   1.31e+05     -0.000      1.000   -2.57e+05    2.57e+05\n",
       "Lead Source_google                                     -21.3784   5.41e+04     -0.000      1.000   -1.06e+05    1.06e+05\n",
       "Lead Source_testone                                  -9.685e-10   1.35e-05  -7.17e-05      1.000   -2.65e-05    2.65e-05\n",
       "Lead Source_welearnblog_Home                           -20.9068   1.31e+05     -0.000      1.000   -2.57e+05    2.57e+05\n",
       "Lead Source_youtubechannel                             -20.0545   1.31e+05     -0.000      1.000   -2.57e+05    2.57e+05\n",
       "Specialization_Business Administration                  -0.0197      0.277     -0.071      0.943      -0.563       0.524\n",
       "Specialization_E-Business                               -0.0923      0.531     -0.174      0.862      -1.133       0.949\n",
       "Specialization_E-COMMERCE                                0.4644      0.381      1.220      0.222      -0.282       1.210\n",
       "Specialization_Finance Management                        0.1880      0.238      0.791      0.429      -0.278       0.654\n",
       "Specialization_Healthcare Management                    -0.0065      0.382     -0.017      0.986      -0.756       0.743\n",
       "Specialization_Hospitality Management                   -0.8180      0.416     -1.965      0.049      -1.634      -0.002\n",
       "Specialization_Human Resource Management                -0.0801      0.242     -0.331      0.741      -0.555       0.395\n",
       "Specialization_IT Projects Management                    0.3827      0.293      1.308      0.191      -0.191       0.956\n",
       "Specialization_International Business                   -0.3267      0.362     -0.902      0.367      -1.037       0.384\n",
       "Specialization_Marketing Management                      0.0499      0.243      0.205      0.837      -0.427       0.527\n",
       "Specialization_Media and Advertising                     0.2395      0.324      0.738      0.460      -0.396       0.875\n",
       "Specialization_Operations Management                     0.2761      0.262      1.053      0.292      -0.238       0.790\n",
       "Specialization_Retail Management                        -0.4534      0.426     -1.065      0.287      -1.288       0.381\n",
       "Specialization_Rural and Agribusiness                    0.4178      0.480      0.870      0.384      -0.523       1.359\n",
       "Specialization_Select                                    0.1773      0.254      0.698      0.485      -0.321       0.675\n",
       "Specialization_Services Excellence                      -0.0284      0.596     -0.048      0.962      -1.196       1.139\n",
       "Specialization_Supply Chain Management                   0.0894      0.287      0.311      0.755      -0.473       0.652\n",
       "Specialization_Travel and Tourism                       -0.0550      0.349     -0.158      0.875      -0.738       0.629\n",
       "Specialization_Unknown                                  -1.2071      0.285     -4.230      0.000      -1.766      -0.648\n",
       "What is your current occupation_Housewife               25.9607   3.88e+04      0.001      0.999    -7.6e+04    7.61e+04\n",
       "What is your current occupation_Other                    2.4729      1.690      1.463      0.143      -0.839       5.785\n",
       "What is your current occupation_Student                  2.9042      1.234      2.354      0.019       0.486       5.322\n",
       "What is your current occupation_Unemployed               2.4727      1.186      2.085      0.037       0.148       4.797\n",
       "What is your current occupation_Unknown                  2.3870      1.194      1.999      0.046       0.046       4.728\n",
       "What is your current occupation_Working Professional     4.1835      1.201      3.482      0.000       1.829       6.538\n",
       "Lead Profile_Lateral Student                           -22.5473   2.67e+04     -0.001      0.999   -5.24e+04    5.24e+04\n",
       "Lead Profile_Other Leads                               -23.1974   2.67e+04     -0.001      0.999   -5.24e+04    5.24e+04\n",
       "Lead Profile_Potential Lead                            -22.7484   2.67e+04     -0.001      0.999   -5.24e+04    5.24e+04\n",
       "Lead Profile_Select                                    -23.1671   2.67e+04     -0.001      0.999   -5.24e+04    5.24e+04\n",
       "Lead Profile_Student of SomeSchool                     -23.4822   2.67e+04     -0.001      0.999   -5.24e+04    5.24e+04\n",
       "Lead Quality_Low in Relevance                           -1.3375      0.287     -4.661      0.000      -1.900      -0.775\n",
       "Lead Quality_Might be                                   -1.5666      0.262     -5.983      0.000      -2.080      -1.053\n",
       "Lead Quality_Not Sure                                   -3.4213      0.271    -12.609      0.000      -3.953      -2.890\n",
       "Lead Quality_Select                                     -3.3348      0.266    -12.515      0.000      -3.857      -2.813\n",
       "Lead Quality_Worst                                      -5.8923      0.470    -12.530      0.000      -6.814      -4.971\n",
       "========================================================================================================================\n",
       "\"\"\""
      ]
     },
     "execution_count": 63,
     "metadata": {},
     "output_type": "execute_result"
    }
   ],
   "source": [
    "# Logistic regression model\n",
    "logm1 = sm.GLM(y_train,(sm.add_constant(X_train)), family = sm.families.Binomial())\n",
    "logm1.fit().summary()"
   ]
  },
  {
   "cell_type": "markdown",
   "id": "3de6eb45",
   "metadata": {},
   "source": [
    "## Step - 7 Feature Selection Using RFE"
   ]
  },
  {
   "cell_type": "code",
   "execution_count": 64,
   "id": "094f9b8e",
   "metadata": {},
   "outputs": [],
   "source": [
    "from sklearn.linear_model import LogisticRegression\n",
    "logreg = LogisticRegression()\n",
    "\n"
   ]
  },
  {
   "cell_type": "code",
   "execution_count": 65,
   "id": "a74b6d3c",
   "metadata": {},
   "outputs": [],
   "source": [
    "from sklearn.feature_selection import RFE\n",
    "rfe = RFE(logreg)             # running RFE with 15 variables as output\n",
    "rfe = rfe.fit(X_train, y_train)"
   ]
  },
  {
   "cell_type": "code",
   "execution_count": 54,
   "id": "fac98452",
   "metadata": {},
   "outputs": [
    {
     "data": {
      "text/plain": [
       "array([ True, False, False,  True, False,  True, False,  True,  True,\n",
       "        True, False,  True,  True,  True, False, False, False,  True,\n",
       "       False,  True, False,  True, False, False, False,  True, False,\n",
       "       False,  True, False, False, False, False, False,  True, False,\n",
       "       False,  True, False, False, False, False, False, False,  True,\n",
       "        True, False, False, False, False,  True,  True,  True,  True,\n",
       "        True,  True,  True, False,  True, False,  True,  True,  True,\n",
       "        True,  True,  True,  True])"
      ]
     },
     "execution_count": 54,
     "metadata": {},
     "output_type": "execute_result"
    }
   ],
   "source": [
    "rfe.support_"
   ]
  },
  {
   "cell_type": "code",
   "execution_count": 55,
   "id": "00638d6f",
   "metadata": {},
   "outputs": [
    {
     "data": {
      "text/plain": [
       "[('Do Not Email', True, 1),\n",
       " ('Do Not Call', False, 24),\n",
       " ('TotalVisits', False, 15),\n",
       " ('Total Time Spent on Website', True, 1),\n",
       " ('Page Views Per Visit', False, 14),\n",
       " ('Asymmetrique Activity Score', True, 1),\n",
       " ('Asymmetrique Profile Score', False, 20),\n",
       " ('Lead Origin_Landing Page Submission', True, 1),\n",
       " ('Lead Origin_Lead Add Form', True, 1),\n",
       " ('Lead Origin_Lead Import', True, 1),\n",
       " ('Lead Origin_Quick Add Form', False, 30),\n",
       " ('Lead Source_Direct Traffic', True, 1),\n",
       " ('Lead Source_Facebook', True, 1),\n",
       " ('Lead Source_Google', True, 1),\n",
       " ('Lead Source_Live Chat', False, 7),\n",
       " ('Lead Source_NC_EDM', False, 22),\n",
       " ('Lead Source_Olark Chat', False, 18),\n",
       " ('Lead Source_Organic Search', True, 1),\n",
       " ('Lead Source_Pay per Click Ads', False, 28),\n",
       " ('Lead Source_Press_Release', True, 1),\n",
       " ('Lead Source_Reference', False, 3),\n",
       " ('Lead Source_Referral Sites', True, 1),\n",
       " ('Lead Source_Social Media', False, 26),\n",
       " ('Lead Source_Unknown', False, 17),\n",
       " ('Lead Source_WeLearn', False, 34),\n",
       " ('Lead Source_Welingak Website', True, 1),\n",
       " ('Lead Source_bing', False, 9),\n",
       " ('Lead Source_blog', False, 25),\n",
       " ('Lead Source_google', True, 1),\n",
       " ('Lead Source_testone', False, 35),\n",
       " ('Lead Source_welearnblog_Home', False, 27),\n",
       " ('Lead Source_youtubechannel', False, 33),\n",
       " ('Specialization_Business Administration', False, 12),\n",
       " ('Specialization_E-Business', False, 31),\n",
       " ('Specialization_E-COMMERCE', True, 1),\n",
       " ('Specialization_Finance Management', False, 8),\n",
       " ('Specialization_Healthcare Management', False, 19),\n",
       " ('Specialization_Hospitality Management', True, 1),\n",
       " ('Specialization_Human Resource Management', False, 11),\n",
       " ('Specialization_IT Projects Management', False, 4),\n",
       " ('Specialization_International Business', False, 2),\n",
       " ('Specialization_Marketing Management', False, 32),\n",
       " ('Specialization_Media and Advertising', False, 6),\n",
       " ('Specialization_Operations Management', False, 5),\n",
       " ('Specialization_Retail Management', True, 1),\n",
       " ('Specialization_Rural and Agribusiness', True, 1),\n",
       " ('Specialization_Select', False, 21),\n",
       " ('Specialization_Services Excellence', False, 16),\n",
       " ('Specialization_Supply Chain Management', False, 23),\n",
       " ('Specialization_Travel and Tourism', False, 10),\n",
       " ('Specialization_Unknown', True, 1),\n",
       " ('What is your current occupation_Housewife', True, 1),\n",
       " ('What is your current occupation_Other', True, 1),\n",
       " ('What is your current occupation_Student', True, 1),\n",
       " ('What is your current occupation_Unemployed', True, 1),\n",
       " ('What is your current occupation_Unknown', True, 1),\n",
       " ('What is your current occupation_Working Professional', True, 1),\n",
       " ('Lead Profile_Lateral Student', False, 13),\n",
       " ('Lead Profile_Other Leads', True, 1),\n",
       " ('Lead Profile_Potential Lead', False, 29),\n",
       " ('Lead Profile_Select', True, 1),\n",
       " ('Lead Profile_Student of SomeSchool', True, 1),\n",
       " ('Lead Quality_Low in Relevance', True, 1),\n",
       " ('Lead Quality_Might be', True, 1),\n",
       " ('Lead Quality_Not Sure', True, 1),\n",
       " ('Lead Quality_Select', True, 1),\n",
       " ('Lead Quality_Worst', True, 1)]"
      ]
     },
     "execution_count": 55,
     "metadata": {},
     "output_type": "execute_result"
    }
   ],
   "source": [
    "list(zip(X_train.columns, rfe.support_, rfe.ranking_))"
   ]
  },
  {
   "cell_type": "code",
   "execution_count": 56,
   "id": "5db79570",
   "metadata": {},
   "outputs": [],
   "source": [
    "col = X_train.columns[rfe.support_]"
   ]
  },
  {
   "cell_type": "code",
   "execution_count": 57,
   "id": "15852feb",
   "metadata": {},
   "outputs": [
    {
     "data": {
      "text/plain": [
       "Index(['Do Not Call', 'TotalVisits', 'Page Views Per Visit',\n",
       "       'Asymmetrique Profile Score', 'Lead Origin_Quick Add Form',\n",
       "       'Lead Source_Live Chat', 'Lead Source_NC_EDM', 'Lead Source_Olark Chat',\n",
       "       'Lead Source_Pay per Click Ads', 'Lead Source_Reference',\n",
       "       'Lead Source_Social Media', 'Lead Source_Unknown',\n",
       "       'Lead Source_WeLearn', 'Lead Source_bing', 'Lead Source_blog',\n",
       "       'Lead Source_testone', 'Lead Source_welearnblog_Home',\n",
       "       'Lead Source_youtubechannel', 'Specialization_Business Administration',\n",
       "       'Specialization_E-Business', 'Specialization_Finance Management',\n",
       "       'Specialization_Healthcare Management',\n",
       "       'Specialization_Human Resource Management',\n",
       "       'Specialization_IT Projects Management',\n",
       "       'Specialization_International Business',\n",
       "       'Specialization_Marketing Management',\n",
       "       'Specialization_Media and Advertising',\n",
       "       'Specialization_Operations Management', 'Specialization_Select',\n",
       "       'Specialization_Services Excellence',\n",
       "       'Specialization_Supply Chain Management',\n",
       "       'Specialization_Travel and Tourism', 'Lead Profile_Lateral Student',\n",
       "       'Lead Profile_Potential Lead'],\n",
       "      dtype='object')"
      ]
     },
     "execution_count": 57,
     "metadata": {},
     "output_type": "execute_result"
    }
   ],
   "source": [
    "X_train.columns[~rfe.support_]"
   ]
  },
  {
   "cell_type": "markdown",
   "id": "bb927ac8",
   "metadata": {},
   "source": [
    "## Step -8 Analysing the statsmodel "
   ]
  },
  {
   "cell_type": "code",
   "execution_count": 58,
   "id": "793681e6",
   "metadata": {},
   "outputs": [
    {
     "data": {
      "text/html": [
       "<table class=\"simpletable\">\n",
       "<caption>Generalized Linear Model Regression Results</caption>\n",
       "<tr>\n",
       "  <th>Dep. Variable:</th>       <td>Converted</td>    <th>  No. Observations:  </th>  <td>  6468</td> \n",
       "</tr>\n",
       "<tr>\n",
       "  <th>Model:</th>                  <td>GLM</td>       <th>  Df Residuals:      </th>  <td>  6434</td> \n",
       "</tr>\n",
       "<tr>\n",
       "  <th>Model Family:</th>        <td>Binomial</td>     <th>  Df Model:          </th>  <td>    33</td> \n",
       "</tr>\n",
       "<tr>\n",
       "  <th>Link Function:</th>         <td>Logit</td>      <th>  Scale:             </th> <td>  1.0000</td>\n",
       "</tr>\n",
       "<tr>\n",
       "  <th>Method:</th>                <td>IRLS</td>       <th>  Log-Likelihood:    </th> <td> -2302.3</td>\n",
       "</tr>\n",
       "<tr>\n",
       "  <th>Date:</th>            <td>Thu, 23 Feb 2023</td> <th>  Deviance:          </th> <td>  4604.7</td>\n",
       "</tr>\n",
       "<tr>\n",
       "  <th>Time:</th>                <td>11:51:16</td>     <th>  Pearson chi2:      </th> <td>7.12e+03</td>\n",
       "</tr>\n",
       "<tr>\n",
       "  <th>No. Iterations:</th>         <td>22</td>        <th>  Pseudo R-squ. (CS):</th>  <td>0.4607</td> \n",
       "</tr>\n",
       "<tr>\n",
       "  <th>Covariance Type:</th>     <td>nonrobust</td>    <th>                     </th>     <td> </td>   \n",
       "</tr>\n",
       "</table>\n",
       "<table class=\"simpletable\">\n",
       "<tr>\n",
       "                            <td></td>                              <th>coef</th>     <th>std err</th>      <th>z</th>      <th>P>|z|</th>  <th>[0.025</th>    <th>0.975]</th>  \n",
       "</tr>\n",
       "<tr>\n",
       "  <th>const</th>                                                <td>   -6.0737</td> <td>    1.359</td> <td>   -4.470</td> <td> 0.000</td> <td>   -8.737</td> <td>   -3.410</td>\n",
       "</tr>\n",
       "<tr>\n",
       "  <th>Do Not Email</th>                                         <td>   -0.9953</td> <td>    0.177</td> <td>   -5.636</td> <td> 0.000</td> <td>   -1.341</td> <td>   -0.649</td>\n",
       "</tr>\n",
       "<tr>\n",
       "  <th>Total Time Spent on Website</th>                          <td>    1.0541</td> <td>    0.043</td> <td>   24.459</td> <td> 0.000</td> <td>    0.970</td> <td>    1.139</td>\n",
       "</tr>\n",
       "<tr>\n",
       "  <th>Asymmetrique Activity Score</th>                          <td>    0.4890</td> <td>    0.041</td> <td>   11.820</td> <td> 0.000</td> <td>    0.408</td> <td>    0.570</td>\n",
       "</tr>\n",
       "<tr>\n",
       "  <th>Lead Origin_Landing Page Submission</th>                  <td>   -0.5349</td> <td>    0.115</td> <td>   -4.665</td> <td> 0.000</td> <td>   -0.760</td> <td>   -0.310</td>\n",
       "</tr>\n",
       "<tr>\n",
       "  <th>Lead Origin_Lead Add Form</th>                            <td>    1.3970</td> <td>    0.224</td> <td>    6.248</td> <td> 0.000</td> <td>    0.959</td> <td>    1.835</td>\n",
       "</tr>\n",
       "<tr>\n",
       "  <th>Lead Origin_Lead Import</th>                              <td>    0.6393</td> <td>    1.573</td> <td>    0.406</td> <td> 0.684</td> <td>   -2.443</td> <td>    3.722</td>\n",
       "</tr>\n",
       "<tr>\n",
       "  <th>Lead Source_Direct Traffic</th>                           <td>   -0.7993</td> <td>    0.159</td> <td>   -5.013</td> <td> 0.000</td> <td>   -1.112</td> <td>   -0.487</td>\n",
       "</tr>\n",
       "<tr>\n",
       "  <th>Lead Source_Facebook</th>                                 <td>   -1.8925</td> <td>    1.574</td> <td>   -1.202</td> <td> 0.229</td> <td>   -4.977</td> <td>    1.192</td>\n",
       "</tr>\n",
       "<tr>\n",
       "  <th>Lead Source_Google</th>                                   <td>   -0.5934</td> <td>    0.135</td> <td>   -4.383</td> <td> 0.000</td> <td>   -0.859</td> <td>   -0.328</td>\n",
       "</tr>\n",
       "<tr>\n",
       "  <th>Lead Source_Organic Search</th>                           <td>   -0.7284</td> <td>    0.156</td> <td>   -4.675</td> <td> 0.000</td> <td>   -1.034</td> <td>   -0.423</td>\n",
       "</tr>\n",
       "<tr>\n",
       "  <th>Lead Source_Press_Release</th>                            <td>  -23.7840</td> <td>  4.5e+04</td> <td>   -0.001</td> <td> 1.000</td> <td>-8.83e+04</td> <td> 8.82e+04</td>\n",
       "</tr>\n",
       "<tr>\n",
       "  <th>Lead Source_Referral Sites</th>                           <td>   -1.5576</td> <td>    0.368</td> <td>   -4.236</td> <td> 0.000</td> <td>   -2.278</td> <td>   -0.837</td>\n",
       "</tr>\n",
       "<tr>\n",
       "  <th>Lead Source_Welingak Website</th>                         <td>    3.5435</td> <td>    0.750</td> <td>    4.727</td> <td> 0.000</td> <td>    2.074</td> <td>    5.013</td>\n",
       "</tr>\n",
       "<tr>\n",
       "  <th>Lead Source_google</th>                                   <td>  -22.6597</td> <td> 3.28e+04</td> <td>   -0.001</td> <td> 0.999</td> <td>-6.43e+04</td> <td> 6.42e+04</td>\n",
       "</tr>\n",
       "<tr>\n",
       "  <th>Specialization_E-COMMERCE</th>                            <td>    0.3652</td> <td>    0.314</td> <td>    1.163</td> <td> 0.245</td> <td>   -0.250</td> <td>    0.981</td>\n",
       "</tr>\n",
       "<tr>\n",
       "  <th>Specialization_Hospitality Management</th>                <td>   -0.9296</td> <td>    0.359</td> <td>   -2.586</td> <td> 0.010</td> <td>   -1.634</td> <td>   -0.225</td>\n",
       "</tr>\n",
       "<tr>\n",
       "  <th>Specialization_Retail Management</th>                     <td>   -0.5515</td> <td>    0.375</td> <td>   -1.471</td> <td> 0.141</td> <td>   -1.286</td> <td>    0.183</td>\n",
       "</tr>\n",
       "<tr>\n",
       "  <th>Specialization_Rural and Agribusiness</th>                <td>    0.3616</td> <td>    0.431</td> <td>    0.839</td> <td> 0.401</td> <td>   -0.483</td> <td>    1.206</td>\n",
       "</tr>\n",
       "<tr>\n",
       "  <th>Specialization_Unknown</th>                               <td>   -1.3236</td> <td>    0.172</td> <td>   -7.675</td> <td> 0.000</td> <td>   -1.662</td> <td>   -0.986</td>\n",
       "</tr>\n",
       "<tr>\n",
       "  <th>What is your current occupation_Housewife</th>            <td>   24.9637</td> <td> 2.35e+04</td> <td>    0.001</td> <td> 0.999</td> <td>-4.61e+04</td> <td> 4.61e+04</td>\n",
       "</tr>\n",
       "<tr>\n",
       "  <th>What is your current occupation_Other</th>                <td>    2.5509</td> <td>    1.663</td> <td>    1.534</td> <td> 0.125</td> <td>   -0.708</td> <td>    5.810</td>\n",
       "</tr>\n",
       "<tr>\n",
       "  <th>What is your current occupation_Student</th>              <td>    3.0000</td> <td>    1.237</td> <td>    2.426</td> <td> 0.015</td> <td>    0.576</td> <td>    5.424</td>\n",
       "</tr>\n",
       "<tr>\n",
       "  <th>What is your current occupation_Unemployed</th>           <td>    2.5101</td> <td>    1.190</td> <td>    2.110</td> <td> 0.035</td> <td>    0.179</td> <td>    4.842</td>\n",
       "</tr>\n",
       "<tr>\n",
       "  <th>What is your current occupation_Unknown</th>              <td>    2.3774</td> <td>    1.199</td> <td>    1.983</td> <td> 0.047</td> <td>    0.028</td> <td>    4.727</td>\n",
       "</tr>\n",
       "<tr>\n",
       "  <th>What is your current occupation_Working Professional</th> <td>    4.2220</td> <td>    1.206</td> <td>    3.501</td> <td> 0.000</td> <td>    1.859</td> <td>    6.585</td>\n",
       "</tr>\n",
       "<tr>\n",
       "  <th>Lead Profile_Other Leads</th>                             <td>   -0.4847</td> <td>    0.215</td> <td>   -2.254</td> <td> 0.024</td> <td>   -0.906</td> <td>   -0.063</td>\n",
       "</tr>\n",
       "<tr>\n",
       "  <th>Lead Profile_Select</th>                                  <td>   -0.4116</td> <td>    0.130</td> <td>   -3.174</td> <td> 0.002</td> <td>   -0.666</td> <td>   -0.157</td>\n",
       "</tr>\n",
       "<tr>\n",
       "  <th>Lead Profile_Student of SomeSchool</th>                   <td>   -0.7844</td> <td>    0.571</td> <td>   -1.374</td> <td> 0.169</td> <td>   -1.904</td> <td>    0.335</td>\n",
       "</tr>\n",
       "<tr>\n",
       "  <th>Lead Quality_Low in Relevance</th>                        <td>   -1.3356</td> <td>    0.285</td> <td>   -4.682</td> <td> 0.000</td> <td>   -1.895</td> <td>   -0.776</td>\n",
       "</tr>\n",
       "<tr>\n",
       "  <th>Lead Quality_Might be</th>                                <td>   -1.5597</td> <td>    0.260</td> <td>   -5.995</td> <td> 0.000</td> <td>   -2.070</td> <td>   -1.050</td>\n",
       "</tr>\n",
       "<tr>\n",
       "  <th>Lead Quality_Not Sure</th>                                <td>   -3.3881</td> <td>    0.269</td> <td>  -12.607</td> <td> 0.000</td> <td>   -3.915</td> <td>   -2.861</td>\n",
       "</tr>\n",
       "<tr>\n",
       "  <th>Lead Quality_Select</th>                                  <td>   -3.2982</td> <td>    0.263</td> <td>  -12.527</td> <td> 0.000</td> <td>   -3.814</td> <td>   -2.782</td>\n",
       "</tr>\n",
       "<tr>\n",
       "  <th>Lead Quality_Worst</th>                                   <td>   -5.8551</td> <td>    0.465</td> <td>  -12.580</td> <td> 0.000</td> <td>   -6.767</td> <td>   -4.943</td>\n",
       "</tr>\n",
       "</table>"
      ],
      "text/plain": [
       "<class 'statsmodels.iolib.summary.Summary'>\n",
       "\"\"\"\n",
       "                 Generalized Linear Model Regression Results                  \n",
       "==============================================================================\n",
       "Dep. Variable:              Converted   No. Observations:                 6468\n",
       "Model:                            GLM   Df Residuals:                     6434\n",
       "Model Family:                Binomial   Df Model:                           33\n",
       "Link Function:                  Logit   Scale:                          1.0000\n",
       "Method:                          IRLS   Log-Likelihood:                -2302.3\n",
       "Date:                Thu, 23 Feb 2023   Deviance:                       4604.7\n",
       "Time:                        11:51:16   Pearson chi2:                 7.12e+03\n",
       "No. Iterations:                    22   Pseudo R-squ. (CS):             0.4607\n",
       "Covariance Type:            nonrobust                                         \n",
       "========================================================================================================================\n",
       "                                                           coef    std err          z      P>|z|      [0.025      0.975]\n",
       "------------------------------------------------------------------------------------------------------------------------\n",
       "const                                                   -6.0737      1.359     -4.470      0.000      -8.737      -3.410\n",
       "Do Not Email                                            -0.9953      0.177     -5.636      0.000      -1.341      -0.649\n",
       "Total Time Spent on Website                              1.0541      0.043     24.459      0.000       0.970       1.139\n",
       "Asymmetrique Activity Score                              0.4890      0.041     11.820      0.000       0.408       0.570\n",
       "Lead Origin_Landing Page Submission                     -0.5349      0.115     -4.665      0.000      -0.760      -0.310\n",
       "Lead Origin_Lead Add Form                                1.3970      0.224      6.248      0.000       0.959       1.835\n",
       "Lead Origin_Lead Import                                  0.6393      1.573      0.406      0.684      -2.443       3.722\n",
       "Lead Source_Direct Traffic                              -0.7993      0.159     -5.013      0.000      -1.112      -0.487\n",
       "Lead Source_Facebook                                    -1.8925      1.574     -1.202      0.229      -4.977       1.192\n",
       "Lead Source_Google                                      -0.5934      0.135     -4.383      0.000      -0.859      -0.328\n",
       "Lead Source_Organic Search                              -0.7284      0.156     -4.675      0.000      -1.034      -0.423\n",
       "Lead Source_Press_Release                              -23.7840    4.5e+04     -0.001      1.000   -8.83e+04    8.82e+04\n",
       "Lead Source_Referral Sites                              -1.5576      0.368     -4.236      0.000      -2.278      -0.837\n",
       "Lead Source_Welingak Website                             3.5435      0.750      4.727      0.000       2.074       5.013\n",
       "Lead Source_google                                     -22.6597   3.28e+04     -0.001      0.999   -6.43e+04    6.42e+04\n",
       "Specialization_E-COMMERCE                                0.3652      0.314      1.163      0.245      -0.250       0.981\n",
       "Specialization_Hospitality Management                   -0.9296      0.359     -2.586      0.010      -1.634      -0.225\n",
       "Specialization_Retail Management                        -0.5515      0.375     -1.471      0.141      -1.286       0.183\n",
       "Specialization_Rural and Agribusiness                    0.3616      0.431      0.839      0.401      -0.483       1.206\n",
       "Specialization_Unknown                                  -1.3236      0.172     -7.675      0.000      -1.662      -0.986\n",
       "What is your current occupation_Housewife               24.9637   2.35e+04      0.001      0.999   -4.61e+04    4.61e+04\n",
       "What is your current occupation_Other                    2.5509      1.663      1.534      0.125      -0.708       5.810\n",
       "What is your current occupation_Student                  3.0000      1.237      2.426      0.015       0.576       5.424\n",
       "What is your current occupation_Unemployed               2.5101      1.190      2.110      0.035       0.179       4.842\n",
       "What is your current occupation_Unknown                  2.3774      1.199      1.983      0.047       0.028       4.727\n",
       "What is your current occupation_Working Professional     4.2220      1.206      3.501      0.000       1.859       6.585\n",
       "Lead Profile_Other Leads                                -0.4847      0.215     -2.254      0.024      -0.906      -0.063\n",
       "Lead Profile_Select                                     -0.4116      0.130     -3.174      0.002      -0.666      -0.157\n",
       "Lead Profile_Student of SomeSchool                      -0.7844      0.571     -1.374      0.169      -1.904       0.335\n",
       "Lead Quality_Low in Relevance                           -1.3356      0.285     -4.682      0.000      -1.895      -0.776\n",
       "Lead Quality_Might be                                   -1.5597      0.260     -5.995      0.000      -2.070      -1.050\n",
       "Lead Quality_Not Sure                                   -3.3881      0.269    -12.607      0.000      -3.915      -2.861\n",
       "Lead Quality_Select                                     -3.2982      0.263    -12.527      0.000      -3.814      -2.782\n",
       "Lead Quality_Worst                                      -5.8551      0.465    -12.580      0.000      -6.767      -4.943\n",
       "========================================================================================================================\n",
       "\"\"\""
      ]
     },
     "execution_count": 58,
     "metadata": {},
     "output_type": "execute_result"
    }
   ],
   "source": [
    "X_train_sm = sm.add_constant(X_train[col])\n",
    "logm2 = sm.GLM(y_train,X_train_sm, family = sm.families.Binomial())\n",
    "res = logm2.fit()\n",
    "res.summary()"
   ]
  },
  {
   "cell_type": "code",
   "execution_count": 59,
   "id": "bfa42810",
   "metadata": {},
   "outputs": [
    {
     "data": {
      "text/plain": [
       "1871    0.276656\n",
       "6795    0.147406\n",
       "3516    0.239441\n",
       "8105    0.835117\n",
       "3934    0.204210\n",
       "4844    0.983118\n",
       "3297    0.100841\n",
       "8071    0.997798\n",
       "987     0.138926\n",
       "7423    0.961247\n",
       "dtype: float64"
      ]
     },
     "execution_count": 59,
     "metadata": {},
     "output_type": "execute_result"
    }
   ],
   "source": [
    "# Getting the predicted values on the train set\n",
    "y_train_pred = res.predict(X_train_sm)\n",
    "y_train_pred[:10]"
   ]
  },
  {
   "cell_type": "code",
   "execution_count": 60,
   "id": "442699ca",
   "metadata": {},
   "outputs": [
    {
     "data": {
      "text/plain": [
       "array([0.27665586, 0.14740648, 0.23944119, 0.83511672, 0.20420969,\n",
       "       0.98311777, 0.10084122, 0.99779777, 0.13892581, 0.96124724])"
      ]
     },
     "execution_count": 60,
     "metadata": {},
     "output_type": "execute_result"
    }
   ],
   "source": [
    "y_train_pred = y_train_pred.values.reshape(-1)\n",
    "y_train_pred[:10]"
   ]
  },
  {
   "cell_type": "markdown",
   "id": "f997f3c7",
   "metadata": {},
   "source": [
    "Predicted vs actual"
   ]
  },
  {
   "cell_type": "code",
   "execution_count": 61,
   "id": "40e7c702",
   "metadata": {},
   "outputs": [
    {
     "data": {
      "text/html": [
       "<div>\n",
       "<style scoped>\n",
       "    .dataframe tbody tr th:only-of-type {\n",
       "        vertical-align: middle;\n",
       "    }\n",
       "\n",
       "    .dataframe tbody tr th {\n",
       "        vertical-align: top;\n",
       "    }\n",
       "\n",
       "    .dataframe thead th {\n",
       "        text-align: right;\n",
       "    }\n",
       "</style>\n",
       "<table border=\"1\" class=\"dataframe\">\n",
       "  <thead>\n",
       "    <tr style=\"text-align: right;\">\n",
       "      <th></th>\n",
       "      <th>Converted</th>\n",
       "      <th>Converted_prob</th>\n",
       "      <th>Lead Number</th>\n",
       "    </tr>\n",
       "  </thead>\n",
       "  <tbody>\n",
       "    <tr>\n",
       "      <th>0</th>\n",
       "      <td>0</td>\n",
       "      <td>0.276656</td>\n",
       "      <td>1871</td>\n",
       "    </tr>\n",
       "    <tr>\n",
       "      <th>1</th>\n",
       "      <td>0</td>\n",
       "      <td>0.147406</td>\n",
       "      <td>6795</td>\n",
       "    </tr>\n",
       "    <tr>\n",
       "      <th>2</th>\n",
       "      <td>0</td>\n",
       "      <td>0.239441</td>\n",
       "      <td>3516</td>\n",
       "    </tr>\n",
       "    <tr>\n",
       "      <th>3</th>\n",
       "      <td>0</td>\n",
       "      <td>0.835117</td>\n",
       "      <td>8105</td>\n",
       "    </tr>\n",
       "    <tr>\n",
       "      <th>4</th>\n",
       "      <td>0</td>\n",
       "      <td>0.204210</td>\n",
       "      <td>3934</td>\n",
       "    </tr>\n",
       "  </tbody>\n",
       "</table>\n",
       "</div>"
      ],
      "text/plain": [
       "   Converted  Converted_prob  Lead Number\n",
       "0          0        0.276656         1871\n",
       "1          0        0.147406         6795\n",
       "2          0        0.239441         3516\n",
       "3          0        0.835117         8105\n",
       "4          0        0.204210         3934"
      ]
     },
     "execution_count": 61,
     "metadata": {},
     "output_type": "execute_result"
    }
   ],
   "source": [
    "y_train_pred_final = pd.DataFrame({'Converted':y_train.values, 'Converted_prob':y_train_pred})\n",
    "y_train_pred_final['Lead Number'] = y_train.index\n",
    "y_train_pred_final.head()"
   ]
  },
  {
   "cell_type": "markdown",
   "id": "2109c3bb",
   "metadata": {},
   "source": [
    "### Creating new column 'predicted' with 1 if Converted_Prob > 0.5 else 0"
   ]
  },
  {
   "cell_type": "code",
   "execution_count": 62,
   "id": "498504de",
   "metadata": {},
   "outputs": [
    {
     "data": {
      "text/html": [
       "<div>\n",
       "<style scoped>\n",
       "    .dataframe tbody tr th:only-of-type {\n",
       "        vertical-align: middle;\n",
       "    }\n",
       "\n",
       "    .dataframe tbody tr th {\n",
       "        vertical-align: top;\n",
       "    }\n",
       "\n",
       "    .dataframe thead th {\n",
       "        text-align: right;\n",
       "    }\n",
       "</style>\n",
       "<table border=\"1\" class=\"dataframe\">\n",
       "  <thead>\n",
       "    <tr style=\"text-align: right;\">\n",
       "      <th></th>\n",
       "      <th>Converted</th>\n",
       "      <th>Converted_prob</th>\n",
       "      <th>Lead Number</th>\n",
       "      <th>predicted</th>\n",
       "    </tr>\n",
       "  </thead>\n",
       "  <tbody>\n",
       "    <tr>\n",
       "      <th>0</th>\n",
       "      <td>0</td>\n",
       "      <td>0.276656</td>\n",
       "      <td>1871</td>\n",
       "      <td>0</td>\n",
       "    </tr>\n",
       "    <tr>\n",
       "      <th>1</th>\n",
       "      <td>0</td>\n",
       "      <td>0.147406</td>\n",
       "      <td>6795</td>\n",
       "      <td>0</td>\n",
       "    </tr>\n",
       "    <tr>\n",
       "      <th>2</th>\n",
       "      <td>0</td>\n",
       "      <td>0.239441</td>\n",
       "      <td>3516</td>\n",
       "      <td>0</td>\n",
       "    </tr>\n",
       "    <tr>\n",
       "      <th>3</th>\n",
       "      <td>0</td>\n",
       "      <td>0.835117</td>\n",
       "      <td>8105</td>\n",
       "      <td>1</td>\n",
       "    </tr>\n",
       "    <tr>\n",
       "      <th>4</th>\n",
       "      <td>0</td>\n",
       "      <td>0.204210</td>\n",
       "      <td>3934</td>\n",
       "      <td>0</td>\n",
       "    </tr>\n",
       "  </tbody>\n",
       "</table>\n",
       "</div>"
      ],
      "text/plain": [
       "   Converted  Converted_prob  Lead Number  predicted\n",
       "0          0        0.276656         1871          0\n",
       "1          0        0.147406         6795          0\n",
       "2          0        0.239441         3516          0\n",
       "3          0        0.835117         8105          1\n",
       "4          0        0.204210         3934          0"
      ]
     },
     "execution_count": 62,
     "metadata": {},
     "output_type": "execute_result"
    }
   ],
   "source": [
    "y_train_pred_final['predicted'] = y_train_pred_final.Converted_prob.map(lambda x: 1 if x > 0.5 else 0)\n",
    "\n",
    "# Let's see the head\n",
    "y_train_pred_final.head()"
   ]
  },
  {
   "cell_type": "code",
   "execution_count": 63,
   "id": "91ff553b",
   "metadata": {},
   "outputs": [
    {
     "name": "stdout",
     "output_type": "stream",
     "text": [
      "[[3632  370]\n",
      " [ 629 1837]]\n"
     ]
    }
   ],
   "source": [
    "from sklearn import metrics\n",
    "\n",
    "# Confusion matrix \n",
    "confusion = metrics.confusion_matrix(y_train_pred_final.Converted, y_train_pred_final.predicted )\n",
    "print(confusion)"
   ]
  },
  {
   "cell_type": "code",
   "execution_count": 64,
   "id": "9458d892",
   "metadata": {},
   "outputs": [
    {
     "name": "stdout",
     "output_type": "stream",
     "text": [
      "0.8455473098330241\n"
     ]
    }
   ],
   "source": [
    "# Let's check the overall accuracy.\n",
    "print(metrics.accuracy_score(y_train_pred_final.Converted, y_train_pred_final.predicted))"
   ]
  },
  {
   "cell_type": "markdown",
   "id": "e6ed95fc",
   "metadata": {},
   "source": [
    "###Manual Feature elimination through VIFs"
   ]
  },
  {
   "cell_type": "code",
   "execution_count": 65,
   "id": "54fcd80d",
   "metadata": {},
   "outputs": [],
   "source": [
    "# Check for the VIF values of the feature variables. \n",
    "from statsmodels.stats.outliers_influence import variance_inflation_factor"
   ]
  },
  {
   "cell_type": "code",
   "execution_count": 66,
   "id": "7ff99fff",
   "metadata": {},
   "outputs": [
    {
     "data": {
      "text/html": [
       "<div>\n",
       "<style scoped>\n",
       "    .dataframe tbody tr th:only-of-type {\n",
       "        vertical-align: middle;\n",
       "    }\n",
       "\n",
       "    .dataframe tbody tr th {\n",
       "        vertical-align: top;\n",
       "    }\n",
       "\n",
       "    .dataframe thead th {\n",
       "        text-align: right;\n",
       "    }\n",
       "</style>\n",
       "<table border=\"1\" class=\"dataframe\">\n",
       "  <thead>\n",
       "    <tr style=\"text-align: right;\">\n",
       "      <th></th>\n",
       "      <th>Features</th>\n",
       "      <th>VIF</th>\n",
       "    </tr>\n",
       "  </thead>\n",
       "  <tbody>\n",
       "    <tr>\n",
       "      <th>2</th>\n",
       "      <td>Asymmetrique Activity Score</td>\n",
       "      <td>172.19</td>\n",
       "    </tr>\n",
       "    <tr>\n",
       "      <th>22</th>\n",
       "      <td>What is your current occupation_Unemployed</td>\n",
       "      <td>122.56</td>\n",
       "    </tr>\n",
       "    <tr>\n",
       "      <th>23</th>\n",
       "      <td>What is your current occupation_Unknown</td>\n",
       "      <td>64.20</td>\n",
       "    </tr>\n",
       "    <tr>\n",
       "      <th>24</th>\n",
       "      <td>What is your current occupation_Working Profes...</td>\n",
       "      <td>17.04</td>\n",
       "    </tr>\n",
       "    <tr>\n",
       "      <th>5</th>\n",
       "      <td>Lead Origin_Lead Import</td>\n",
       "      <td>16.87</td>\n",
       "    </tr>\n",
       "    <tr>\n",
       "      <th>7</th>\n",
       "      <td>Lead Source_Facebook</td>\n",
       "      <td>16.86</td>\n",
       "    </tr>\n",
       "    <tr>\n",
       "      <th>31</th>\n",
       "      <td>Lead Quality_Select</td>\n",
       "      <td>14.45</td>\n",
       "    </tr>\n",
       "    <tr>\n",
       "      <th>26</th>\n",
       "      <td>Lead Profile_Select</td>\n",
       "      <td>8.91</td>\n",
       "    </tr>\n",
       "    <tr>\n",
       "      <th>21</th>\n",
       "      <td>What is your current occupation_Student</td>\n",
       "      <td>5.40</td>\n",
       "    </tr>\n",
       "    <tr>\n",
       "      <th>3</th>\n",
       "      <td>Lead Origin_Landing Page Submission</td>\n",
       "      <td>5.33</td>\n",
       "    </tr>\n",
       "    <tr>\n",
       "      <th>6</th>\n",
       "      <td>Lead Source_Direct Traffic</td>\n",
       "      <td>4.91</td>\n",
       "    </tr>\n",
       "    <tr>\n",
       "      <th>29</th>\n",
       "      <td>Lead Quality_Might be</td>\n",
       "      <td>4.17</td>\n",
       "    </tr>\n",
       "    <tr>\n",
       "      <th>8</th>\n",
       "      <td>Lead Source_Google</td>\n",
       "      <td>4.13</td>\n",
       "    </tr>\n",
       "    <tr>\n",
       "      <th>30</th>\n",
       "      <td>Lead Quality_Not Sure</td>\n",
       "      <td>3.61</td>\n",
       "    </tr>\n",
       "    <tr>\n",
       "      <th>32</th>\n",
       "      <td>Lead Quality_Worst</td>\n",
       "      <td>3.22</td>\n",
       "    </tr>\n",
       "    <tr>\n",
       "      <th>18</th>\n",
       "      <td>Specialization_Unknown</td>\n",
       "      <td>3.05</td>\n",
       "    </tr>\n",
       "    <tr>\n",
       "      <th>9</th>\n",
       "      <td>Lead Source_Organic Search</td>\n",
       "      <td>2.21</td>\n",
       "    </tr>\n",
       "    <tr>\n",
       "      <th>4</th>\n",
       "      <td>Lead Origin_Lead Add Form</td>\n",
       "      <td>2.12</td>\n",
       "    </tr>\n",
       "    <tr>\n",
       "      <th>28</th>\n",
       "      <td>Lead Quality_Low in Relevance</td>\n",
       "      <td>2.07</td>\n",
       "    </tr>\n",
       "    <tr>\n",
       "      <th>27</th>\n",
       "      <td>Lead Profile_Student of SomeSchool</td>\n",
       "      <td>1.91</td>\n",
       "    </tr>\n",
       "    <tr>\n",
       "      <th>25</th>\n",
       "      <td>Lead Profile_Other Leads</td>\n",
       "      <td>1.56</td>\n",
       "    </tr>\n",
       "    <tr>\n",
       "      <th>1</th>\n",
       "      <td>Total Time Spent on Website</td>\n",
       "      <td>1.33</td>\n",
       "    </tr>\n",
       "    <tr>\n",
       "      <th>19</th>\n",
       "      <td>What is your current occupation_Housewife</td>\n",
       "      <td>1.31</td>\n",
       "    </tr>\n",
       "    <tr>\n",
       "      <th>12</th>\n",
       "      <td>Lead Source_Welingak Website</td>\n",
       "      <td>1.31</td>\n",
       "    </tr>\n",
       "    <tr>\n",
       "      <th>20</th>\n",
       "      <td>What is your current occupation_Other</td>\n",
       "      <td>1.27</td>\n",
       "    </tr>\n",
       "    <tr>\n",
       "      <th>0</th>\n",
       "      <td>Do Not Email</td>\n",
       "      <td>1.13</td>\n",
       "    </tr>\n",
       "    <tr>\n",
       "      <th>11</th>\n",
       "      <td>Lead Source_Referral Sites</td>\n",
       "      <td>1.10</td>\n",
       "    </tr>\n",
       "    <tr>\n",
       "      <th>15</th>\n",
       "      <td>Specialization_Hospitality Management</td>\n",
       "      <td>1.03</td>\n",
       "    </tr>\n",
       "    <tr>\n",
       "      <th>14</th>\n",
       "      <td>Specialization_E-COMMERCE</td>\n",
       "      <td>1.03</td>\n",
       "    </tr>\n",
       "    <tr>\n",
       "      <th>17</th>\n",
       "      <td>Specialization_Rural and Agribusiness</td>\n",
       "      <td>1.02</td>\n",
       "    </tr>\n",
       "    <tr>\n",
       "      <th>13</th>\n",
       "      <td>Lead Source_google</td>\n",
       "      <td>1.02</td>\n",
       "    </tr>\n",
       "    <tr>\n",
       "      <th>16</th>\n",
       "      <td>Specialization_Retail Management</td>\n",
       "      <td>1.02</td>\n",
       "    </tr>\n",
       "    <tr>\n",
       "      <th>10</th>\n",
       "      <td>Lead Source_Press_Release</td>\n",
       "      <td>1.01</td>\n",
       "    </tr>\n",
       "  </tbody>\n",
       "</table>\n",
       "</div>"
      ],
      "text/plain": [
       "                                             Features     VIF\n",
       "2                         Asymmetrique Activity Score  172.19\n",
       "22         What is your current occupation_Unemployed  122.56\n",
       "23            What is your current occupation_Unknown   64.20\n",
       "24  What is your current occupation_Working Profes...   17.04\n",
       "5                             Lead Origin_Lead Import   16.87\n",
       "7                                Lead Source_Facebook   16.86\n",
       "31                                Lead Quality_Select   14.45\n",
       "26                                Lead Profile_Select    8.91\n",
       "21            What is your current occupation_Student    5.40\n",
       "3                 Lead Origin_Landing Page Submission    5.33\n",
       "6                          Lead Source_Direct Traffic    4.91\n",
       "29                              Lead Quality_Might be    4.17\n",
       "8                                  Lead Source_Google    4.13\n",
       "30                              Lead Quality_Not Sure    3.61\n",
       "32                                 Lead Quality_Worst    3.22\n",
       "18                             Specialization_Unknown    3.05\n",
       "9                          Lead Source_Organic Search    2.21\n",
       "4                           Lead Origin_Lead Add Form    2.12\n",
       "28                      Lead Quality_Low in Relevance    2.07\n",
       "27                 Lead Profile_Student of SomeSchool    1.91\n",
       "25                           Lead Profile_Other Leads    1.56\n",
       "1                         Total Time Spent on Website    1.33\n",
       "19          What is your current occupation_Housewife    1.31\n",
       "12                       Lead Source_Welingak Website    1.31\n",
       "20              What is your current occupation_Other    1.27\n",
       "0                                        Do Not Email    1.13\n",
       "11                         Lead Source_Referral Sites    1.10\n",
       "15              Specialization_Hospitality Management    1.03\n",
       "14                          Specialization_E-COMMERCE    1.03\n",
       "17              Specialization_Rural and Agribusiness    1.02\n",
       "13                                 Lead Source_google    1.02\n",
       "16                   Specialization_Retail Management    1.02\n",
       "10                          Lead Source_Press_Release    1.01"
      ]
     },
     "execution_count": 66,
     "metadata": {},
     "output_type": "execute_result"
    }
   ],
   "source": [
    "# Create a dataframe that will contain the names of all the feature variables and their respective VIFs\n",
    "vif = pd.DataFrame()\n",
    "vif['Features'] = X_train[col].columns\n",
    "vif['VIF'] = [variance_inflation_factor(X_train[col].values, i) for i in range(X_train[col].shape[1])]\n",
    "vif['VIF'] = round(vif['VIF'], 2)\n",
    "vif = vif.sort_values(by = \"VIF\", ascending = False)\n",
    "vif"
   ]
  },
  {
   "cell_type": "code",
   "execution_count": 67,
   "id": "889dc5c7",
   "metadata": {},
   "outputs": [
    {
     "data": {
      "text/plain": [
       "Index(['Do Not Email', 'Total Time Spent on Website',\n",
       "       'Lead Origin_Landing Page Submission', 'Lead Origin_Lead Add Form',\n",
       "       'Lead Source_Direct Traffic', 'Lead Source_Google',\n",
       "       'Lead Source_Organic Search', 'Lead Source_Press_Release',\n",
       "       'Lead Source_Referral Sites', 'Lead Source_Welingak Website',\n",
       "       'Lead Source_google', 'Specialization_E-COMMERCE',\n",
       "       'Specialization_Hospitality Management',\n",
       "       'Specialization_Retail Management',\n",
       "       'Specialization_Rural and Agribusiness', 'Specialization_Unknown',\n",
       "       'What is your current occupation_Housewife',\n",
       "       'What is your current occupation_Other',\n",
       "       'What is your current occupation_Student',\n",
       "       'What is your current occupation_Unemployed',\n",
       "       'What is your current occupation_Working Professional',\n",
       "       'Lead Profile_Other Leads', 'Lead Profile_Student of SomeSchool',\n",
       "       'Lead Quality_Low in Relevance', 'Lead Quality_Might be',\n",
       "       'Lead Quality_Not Sure', 'Lead Quality_Worst'],\n",
       "      dtype='object')"
      ]
     },
     "execution_count": 67,
     "metadata": {},
     "output_type": "execute_result"
    }
   ],
   "source": [
    "# dropping features which are high VIF\n",
    "col = col.drop(['Asymmetrique Activity Score','What is your current occupation_Unknown','Lead Origin_Lead Import','Lead Source_Facebook','Lead Quality_Select','Lead Profile_Select'],1)\n",
    "col"
   ]
  },
  {
   "cell_type": "code",
   "execution_count": 68,
   "id": "4d1043da",
   "metadata": {},
   "outputs": [
    {
     "data": {
      "text/html": [
       "<table class=\"simpletable\">\n",
       "<caption>Generalized Linear Model Regression Results</caption>\n",
       "<tr>\n",
       "  <th>Dep. Variable:</th>       <td>Converted</td>    <th>  No. Observations:  </th>  <td>  6468</td> \n",
       "</tr>\n",
       "<tr>\n",
       "  <th>Model:</th>                  <td>GLM</td>       <th>  Df Residuals:      </th>  <td>  6440</td> \n",
       "</tr>\n",
       "<tr>\n",
       "  <th>Model Family:</th>        <td>Binomial</td>     <th>  Df Model:          </th>  <td>    27</td> \n",
       "</tr>\n",
       "<tr>\n",
       "  <th>Link Function:</th>         <td>Logit</td>      <th>  Scale:             </th> <td>  1.0000</td>\n",
       "</tr>\n",
       "<tr>\n",
       "  <th>Method:</th>                <td>IRLS</td>       <th>  Log-Likelihood:    </th> <td> -2582.1</td>\n",
       "</tr>\n",
       "<tr>\n",
       "  <th>Date:</th>            <td>Thu, 23 Feb 2023</td> <th>  Deviance:          </th> <td>  5164.2</td>\n",
       "</tr>\n",
       "<tr>\n",
       "  <th>Time:</th>                <td>11:51:46</td>     <th>  Pearson chi2:      </th> <td>7.61e+03</td>\n",
       "</tr>\n",
       "<tr>\n",
       "  <th>No. Iterations:</th>         <td>22</td>        <th>  Pseudo R-squ. (CS):</th>  <td>0.4119</td> \n",
       "</tr>\n",
       "<tr>\n",
       "  <th>Covariance Type:</th>     <td>nonrobust</td>    <th>                     </th>     <td> </td>   \n",
       "</tr>\n",
       "</table>\n",
       "<table class=\"simpletable\">\n",
       "<tr>\n",
       "                            <td></td>                              <th>coef</th>     <th>std err</th>      <th>z</th>      <th>P>|z|</th>  <th>[0.025</th>    <th>0.975]</th>  \n",
       "</tr>\n",
       "<tr>\n",
       "  <th>const</th>                                                <td>   -0.5985</td> <td>    0.138</td> <td>   -4.349</td> <td> 0.000</td> <td>   -0.868</td> <td>   -0.329</td>\n",
       "</tr>\n",
       "<tr>\n",
       "  <th>Do Not Email</th>                                         <td>   -1.1808</td> <td>    0.171</td> <td>   -6.923</td> <td> 0.000</td> <td>   -1.515</td> <td>   -0.847</td>\n",
       "</tr>\n",
       "<tr>\n",
       "  <th>Total Time Spent on Website</th>                          <td>    1.0622</td> <td>    0.040</td> <td>   26.383</td> <td> 0.000</td> <td>    0.983</td> <td>    1.141</td>\n",
       "</tr>\n",
       "<tr>\n",
       "  <th>Lead Origin_Landing Page Submission</th>                  <td>   -0.2495</td> <td>    0.105</td> <td>   -2.387</td> <td> 0.017</td> <td>   -0.454</td> <td>   -0.045</td>\n",
       "</tr>\n",
       "<tr>\n",
       "  <th>Lead Origin_Lead Add Form</th>                            <td>    2.1526</td> <td>    0.199</td> <td>   10.804</td> <td> 0.000</td> <td>    1.762</td> <td>    2.543</td>\n",
       "</tr>\n",
       "<tr>\n",
       "  <th>Lead Source_Direct Traffic</th>                           <td>   -1.0279</td> <td>    0.146</td> <td>   -7.028</td> <td> 0.000</td> <td>   -1.315</td> <td>   -0.741</td>\n",
       "</tr>\n",
       "<tr>\n",
       "  <th>Lead Source_Google</th>                                   <td>   -0.8042</td> <td>    0.123</td> <td>   -6.556</td> <td> 0.000</td> <td>   -1.045</td> <td>   -0.564</td>\n",
       "</tr>\n",
       "<tr>\n",
       "  <th>Lead Source_Organic Search</th>                           <td>   -0.8831</td> <td>    0.144</td> <td>   -6.127</td> <td> 0.000</td> <td>   -1.166</td> <td>   -0.601</td>\n",
       "</tr>\n",
       "<tr>\n",
       "  <th>Lead Source_Press_Release</th>                            <td>  -21.9863</td> <td> 4.68e+04</td> <td>   -0.000</td> <td> 1.000</td> <td>-9.18e+04</td> <td> 9.18e+04</td>\n",
       "</tr>\n",
       "<tr>\n",
       "  <th>Lead Source_Referral Sites</th>                           <td>   -1.6104</td> <td>    0.335</td> <td>   -4.802</td> <td> 0.000</td> <td>   -2.268</td> <td>   -0.953</td>\n",
       "</tr>\n",
       "<tr>\n",
       "  <th>Lead Source_Welingak Website</th>                         <td>    2.3546</td> <td>    0.741</td> <td>    3.178</td> <td> 0.001</td> <td>    0.902</td> <td>    3.807</td>\n",
       "</tr>\n",
       "<tr>\n",
       "  <th>Lead Source_google</th>                                   <td>  -22.9209</td> <td> 3.25e+04</td> <td>   -0.001</td> <td> 0.999</td> <td>-6.38e+04</td> <td> 6.38e+04</td>\n",
       "</tr>\n",
       "<tr>\n",
       "  <th>Specialization_E-COMMERCE</th>                            <td>    0.3315</td> <td>    0.286</td> <td>    1.159</td> <td> 0.246</td> <td>   -0.229</td> <td>    0.892</td>\n",
       "</tr>\n",
       "<tr>\n",
       "  <th>Specialization_Hospitality Management</th>                <td>   -0.8774</td> <td>    0.328</td> <td>   -2.673</td> <td> 0.008</td> <td>   -1.521</td> <td>   -0.234</td>\n",
       "</tr>\n",
       "<tr>\n",
       "  <th>Specialization_Retail Management</th>                     <td>   -0.2088</td> <td>    0.345</td> <td>   -0.606</td> <td> 0.545</td> <td>   -0.884</td> <td>    0.467</td>\n",
       "</tr>\n",
       "<tr>\n",
       "  <th>Specialization_Rural and Agribusiness</th>                <td>    0.3797</td> <td>    0.406</td> <td>    0.935</td> <td> 0.350</td> <td>   -0.416</td> <td>    1.176</td>\n",
       "</tr>\n",
       "<tr>\n",
       "  <th>Specialization_Unknown</th>                               <td>   -0.7529</td> <td>    0.161</td> <td>   -4.686</td> <td> 0.000</td> <td>   -1.068</td> <td>   -0.438</td>\n",
       "</tr>\n",
       "<tr>\n",
       "  <th>What is your current occupation_Housewife</th>            <td>   22.9053</td> <td> 2.31e+04</td> <td>    0.001</td> <td> 0.999</td> <td>-4.53e+04</td> <td> 4.54e+04</td>\n",
       "</tr>\n",
       "<tr>\n",
       "  <th>What is your current occupation_Other</th>                <td>    1.1901</td> <td>    1.158</td> <td>    1.028</td> <td> 0.304</td> <td>   -1.079</td> <td>    3.460</td>\n",
       "</tr>\n",
       "<tr>\n",
       "  <th>What is your current occupation_Student</th>              <td>    1.3643</td> <td>    0.346</td> <td>    3.942</td> <td> 0.000</td> <td>    0.686</td> <td>    2.043</td>\n",
       "</tr>\n",
       "<tr>\n",
       "  <th>What is your current occupation_Unemployed</th>           <td>    0.8147</td> <td>    0.117</td> <td>    6.945</td> <td> 0.000</td> <td>    0.585</td> <td>    1.045</td>\n",
       "</tr>\n",
       "<tr>\n",
       "  <th>What is your current occupation_Working Professional</th> <td>    2.7154</td> <td>    0.223</td> <td>   12.150</td> <td> 0.000</td> <td>    2.277</td> <td>    3.153</td>\n",
       "</tr>\n",
       "<tr>\n",
       "  <th>Lead Profile_Other Leads</th>                             <td>   -0.2173</td> <td>    0.195</td> <td>   -1.112</td> <td> 0.266</td> <td>   -0.600</td> <td>    0.166</td>\n",
       "</tr>\n",
       "<tr>\n",
       "  <th>Lead Profile_Student of SomeSchool</th>                   <td>   -0.3692</td> <td>    0.558</td> <td>   -0.662</td> <td> 0.508</td> <td>   -1.462</td> <td>    0.724</td>\n",
       "</tr>\n",
       "<tr>\n",
       "  <th>Lead Quality_Low in Relevance</th>                        <td>    1.6032</td> <td>    0.167</td> <td>    9.575</td> <td> 0.000</td> <td>    1.275</td> <td>    1.931</td>\n",
       "</tr>\n",
       "<tr>\n",
       "  <th>Lead Quality_Might be</th>                                <td>    1.1412</td> <td>    0.103</td> <td>   11.130</td> <td> 0.000</td> <td>    0.940</td> <td>    1.342</td>\n",
       "</tr>\n",
       "<tr>\n",
       "  <th>Lead Quality_Not Sure</th>                                <td>   -0.6999</td> <td>    0.118</td> <td>   -5.936</td> <td> 0.000</td> <td>   -0.931</td> <td>   -0.469</td>\n",
       "</tr>\n",
       "<tr>\n",
       "  <th>Lead Quality_Worst</th>                                   <td>   -2.9769</td> <td>    0.396</td> <td>   -7.514</td> <td> 0.000</td> <td>   -3.753</td> <td>   -2.200</td>\n",
       "</tr>\n",
       "</table>"
      ],
      "text/plain": [
       "<class 'statsmodels.iolib.summary.Summary'>\n",
       "\"\"\"\n",
       "                 Generalized Linear Model Regression Results                  \n",
       "==============================================================================\n",
       "Dep. Variable:              Converted   No. Observations:                 6468\n",
       "Model:                            GLM   Df Residuals:                     6440\n",
       "Model Family:                Binomial   Df Model:                           27\n",
       "Link Function:                  Logit   Scale:                          1.0000\n",
       "Method:                          IRLS   Log-Likelihood:                -2582.1\n",
       "Date:                Thu, 23 Feb 2023   Deviance:                       5164.2\n",
       "Time:                        11:51:46   Pearson chi2:                 7.61e+03\n",
       "No. Iterations:                    22   Pseudo R-squ. (CS):             0.4119\n",
       "Covariance Type:            nonrobust                                         \n",
       "========================================================================================================================\n",
       "                                                           coef    std err          z      P>|z|      [0.025      0.975]\n",
       "------------------------------------------------------------------------------------------------------------------------\n",
       "const                                                   -0.5985      0.138     -4.349      0.000      -0.868      -0.329\n",
       "Do Not Email                                            -1.1808      0.171     -6.923      0.000      -1.515      -0.847\n",
       "Total Time Spent on Website                              1.0622      0.040     26.383      0.000       0.983       1.141\n",
       "Lead Origin_Landing Page Submission                     -0.2495      0.105     -2.387      0.017      -0.454      -0.045\n",
       "Lead Origin_Lead Add Form                                2.1526      0.199     10.804      0.000       1.762       2.543\n",
       "Lead Source_Direct Traffic                              -1.0279      0.146     -7.028      0.000      -1.315      -0.741\n",
       "Lead Source_Google                                      -0.8042      0.123     -6.556      0.000      -1.045      -0.564\n",
       "Lead Source_Organic Search                              -0.8831      0.144     -6.127      0.000      -1.166      -0.601\n",
       "Lead Source_Press_Release                              -21.9863   4.68e+04     -0.000      1.000   -9.18e+04    9.18e+04\n",
       "Lead Source_Referral Sites                              -1.6104      0.335     -4.802      0.000      -2.268      -0.953\n",
       "Lead Source_Welingak Website                             2.3546      0.741      3.178      0.001       0.902       3.807\n",
       "Lead Source_google                                     -22.9209   3.25e+04     -0.001      0.999   -6.38e+04    6.38e+04\n",
       "Specialization_E-COMMERCE                                0.3315      0.286      1.159      0.246      -0.229       0.892\n",
       "Specialization_Hospitality Management                   -0.8774      0.328     -2.673      0.008      -1.521      -0.234\n",
       "Specialization_Retail Management                        -0.2088      0.345     -0.606      0.545      -0.884       0.467\n",
       "Specialization_Rural and Agribusiness                    0.3797      0.406      0.935      0.350      -0.416       1.176\n",
       "Specialization_Unknown                                  -0.7529      0.161     -4.686      0.000      -1.068      -0.438\n",
       "What is your current occupation_Housewife               22.9053   2.31e+04      0.001      0.999   -4.53e+04    4.54e+04\n",
       "What is your current occupation_Other                    1.1901      1.158      1.028      0.304      -1.079       3.460\n",
       "What is your current occupation_Student                  1.3643      0.346      3.942      0.000       0.686       2.043\n",
       "What is your current occupation_Unemployed               0.8147      0.117      6.945      0.000       0.585       1.045\n",
       "What is your current occupation_Working Professional     2.7154      0.223     12.150      0.000       2.277       3.153\n",
       "Lead Profile_Other Leads                                -0.2173      0.195     -1.112      0.266      -0.600       0.166\n",
       "Lead Profile_Student of SomeSchool                      -0.3692      0.558     -0.662      0.508      -1.462       0.724\n",
       "Lead Quality_Low in Relevance                            1.6032      0.167      9.575      0.000       1.275       1.931\n",
       "Lead Quality_Might be                                    1.1412      0.103     11.130      0.000       0.940       1.342\n",
       "Lead Quality_Not Sure                                   -0.6999      0.118     -5.936      0.000      -0.931      -0.469\n",
       "Lead Quality_Worst                                      -2.9769      0.396     -7.514      0.000      -3.753      -2.200\n",
       "========================================================================================================================\n",
       "\"\"\""
      ]
     },
     "execution_count": 68,
     "metadata": {},
     "output_type": "execute_result"
    }
   ],
   "source": [
    "# Let's re-run the model using the selected variables\n",
    "X_train_sm = sm.add_constant(X_train[col])\n",
    "logm3 = sm.GLM(y_train,X_train_sm, family = sm.families.Binomial())\n",
    "res = logm3.fit()\n",
    "res.summary()"
   ]
  },
  {
   "cell_type": "code",
   "execution_count": 69,
   "id": "4b513c01",
   "metadata": {},
   "outputs": [],
   "source": [
    "y_train_pred = res.predict(X_train_sm).values.reshape(-1)"
   ]
  },
  {
   "cell_type": "code",
   "execution_count": 70,
   "id": "99a52b1d",
   "metadata": {},
   "outputs": [
    {
     "data": {
      "text/plain": [
       "array([0.19401443, 0.25823526, 0.37327623, 0.85242172, 0.32646956,\n",
       "       0.98128304, 0.11795938, 0.98186921, 0.08962608, 0.93403817])"
      ]
     },
     "execution_count": 70,
     "metadata": {},
     "output_type": "execute_result"
    }
   ],
   "source": [
    "y_train_pred[:10]"
   ]
  },
  {
   "cell_type": "code",
   "execution_count": 71,
   "id": "405b6cf4",
   "metadata": {},
   "outputs": [],
   "source": [
    "y_train_pred_final['Converted_prob'] = y_train_pred"
   ]
  },
  {
   "cell_type": "code",
   "execution_count": 72,
   "id": "1b1f6945",
   "metadata": {},
   "outputs": [
    {
     "data": {
      "text/html": [
       "<div>\n",
       "<style scoped>\n",
       "    .dataframe tbody tr th:only-of-type {\n",
       "        vertical-align: middle;\n",
       "    }\n",
       "\n",
       "    .dataframe tbody tr th {\n",
       "        vertical-align: top;\n",
       "    }\n",
       "\n",
       "    .dataframe thead th {\n",
       "        text-align: right;\n",
       "    }\n",
       "</style>\n",
       "<table border=\"1\" class=\"dataframe\">\n",
       "  <thead>\n",
       "    <tr style=\"text-align: right;\">\n",
       "      <th></th>\n",
       "      <th>Converted</th>\n",
       "      <th>Converted_prob</th>\n",
       "      <th>Lead Number</th>\n",
       "      <th>predicted</th>\n",
       "    </tr>\n",
       "  </thead>\n",
       "  <tbody>\n",
       "    <tr>\n",
       "      <th>0</th>\n",
       "      <td>0</td>\n",
       "      <td>0.194014</td>\n",
       "      <td>1871</td>\n",
       "      <td>0</td>\n",
       "    </tr>\n",
       "    <tr>\n",
       "      <th>1</th>\n",
       "      <td>0</td>\n",
       "      <td>0.258235</td>\n",
       "      <td>6795</td>\n",
       "      <td>0</td>\n",
       "    </tr>\n",
       "    <tr>\n",
       "      <th>2</th>\n",
       "      <td>0</td>\n",
       "      <td>0.373276</td>\n",
       "      <td>3516</td>\n",
       "      <td>0</td>\n",
       "    </tr>\n",
       "    <tr>\n",
       "      <th>3</th>\n",
       "      <td>0</td>\n",
       "      <td>0.852422</td>\n",
       "      <td>8105</td>\n",
       "      <td>1</td>\n",
       "    </tr>\n",
       "    <tr>\n",
       "      <th>4</th>\n",
       "      <td>0</td>\n",
       "      <td>0.326470</td>\n",
       "      <td>3934</td>\n",
       "      <td>0</td>\n",
       "    </tr>\n",
       "  </tbody>\n",
       "</table>\n",
       "</div>"
      ],
      "text/plain": [
       "   Converted  Converted_prob  Lead Number  predicted\n",
       "0          0        0.194014         1871          0\n",
       "1          0        0.258235         6795          0\n",
       "2          0        0.373276         3516          0\n",
       "3          0        0.852422         8105          1\n",
       "4          0        0.326470         3934          0"
      ]
     },
     "execution_count": 72,
     "metadata": {},
     "output_type": "execute_result"
    }
   ],
   "source": [
    "# Creating new column 'predicted' with 1 if Churn_Prob > 0.5 else 0\n",
    "y_train_pred_final['predicted'] = y_train_pred_final.Converted_prob.map(lambda x: 1 if x > 0.5 else 0)\n",
    "y_train_pred_final.head()"
   ]
  },
  {
   "cell_type": "code",
   "execution_count": 73,
   "id": "00ded6df",
   "metadata": {},
   "outputs": [
    {
     "name": "stdout",
     "output_type": "stream",
     "text": [
      "0.8211193568336426\n"
     ]
    }
   ],
   "source": [
    "# Let's check the overall accuracy.\n",
    "print(metrics.accuracy_score(y_train_pred_final.Converted, y_train_pred_final.predicted))"
   ]
  },
  {
   "cell_type": "code",
   "execution_count": 74,
   "id": "c48d2c07",
   "metadata": {},
   "outputs": [
    {
     "data": {
      "text/html": [
       "<div>\n",
       "<style scoped>\n",
       "    .dataframe tbody tr th:only-of-type {\n",
       "        vertical-align: middle;\n",
       "    }\n",
       "\n",
       "    .dataframe tbody tr th {\n",
       "        vertical-align: top;\n",
       "    }\n",
       "\n",
       "    .dataframe thead th {\n",
       "        text-align: right;\n",
       "    }\n",
       "</style>\n",
       "<table border=\"1\" class=\"dataframe\">\n",
       "  <thead>\n",
       "    <tr style=\"text-align: right;\">\n",
       "      <th></th>\n",
       "      <th>Features</th>\n",
       "      <th>VIF</th>\n",
       "    </tr>\n",
       "  </thead>\n",
       "  <tbody>\n",
       "    <tr>\n",
       "      <th>2</th>\n",
       "      <td>Lead Origin_Landing Page Submission</td>\n",
       "      <td>4.86</td>\n",
       "    </tr>\n",
       "    <tr>\n",
       "      <th>4</th>\n",
       "      <td>Lead Source_Direct Traffic</td>\n",
       "      <td>4.12</td>\n",
       "    </tr>\n",
       "    <tr>\n",
       "      <th>19</th>\n",
       "      <td>What is your current occupation_Unemployed</td>\n",
       "      <td>3.81</td>\n",
       "    </tr>\n",
       "    <tr>\n",
       "      <th>5</th>\n",
       "      <td>Lead Source_Google</td>\n",
       "      <td>3.09</td>\n",
       "    </tr>\n",
       "    <tr>\n",
       "      <th>26</th>\n",
       "      <td>Lead Quality_Worst</td>\n",
       "      <td>2.13</td>\n",
       "    </tr>\n",
       "    <tr>\n",
       "      <th>6</th>\n",
       "      <td>Lead Source_Organic Search</td>\n",
       "      <td>1.84</td>\n",
       "    </tr>\n",
       "    <tr>\n",
       "      <th>24</th>\n",
       "      <td>Lead Quality_Might be</td>\n",
       "      <td>1.78</td>\n",
       "    </tr>\n",
       "    <tr>\n",
       "      <th>20</th>\n",
       "      <td>What is your current occupation_Working Profes...</td>\n",
       "      <td>1.77</td>\n",
       "    </tr>\n",
       "    <tr>\n",
       "      <th>22</th>\n",
       "      <td>Lead Profile_Student of SomeSchool</td>\n",
       "      <td>1.75</td>\n",
       "    </tr>\n",
       "    <tr>\n",
       "      <th>3</th>\n",
       "      <td>Lead Origin_Lead Add Form</td>\n",
       "      <td>1.67</td>\n",
       "    </tr>\n",
       "    <tr>\n",
       "      <th>25</th>\n",
       "      <td>Lead Quality_Not Sure</td>\n",
       "      <td>1.50</td>\n",
       "    </tr>\n",
       "    <tr>\n",
       "      <th>23</th>\n",
       "      <td>Lead Quality_Low in Relevance</td>\n",
       "      <td>1.37</td>\n",
       "    </tr>\n",
       "    <tr>\n",
       "      <th>21</th>\n",
       "      <td>Lead Profile_Other Leads</td>\n",
       "      <td>1.31</td>\n",
       "    </tr>\n",
       "    <tr>\n",
       "      <th>15</th>\n",
       "      <td>Specialization_Unknown</td>\n",
       "      <td>1.30</td>\n",
       "    </tr>\n",
       "    <tr>\n",
       "      <th>18</th>\n",
       "      <td>What is your current occupation_Student</td>\n",
       "      <td>1.26</td>\n",
       "    </tr>\n",
       "    <tr>\n",
       "      <th>9</th>\n",
       "      <td>Lead Source_Welingak Website</td>\n",
       "      <td>1.25</td>\n",
       "    </tr>\n",
       "    <tr>\n",
       "      <th>1</th>\n",
       "      <td>Total Time Spent on Website</td>\n",
       "      <td>1.22</td>\n",
       "    </tr>\n",
       "    <tr>\n",
       "      <th>0</th>\n",
       "      <td>Do Not Email</td>\n",
       "      <td>1.13</td>\n",
       "    </tr>\n",
       "    <tr>\n",
       "      <th>8</th>\n",
       "      <td>Lead Source_Referral Sites</td>\n",
       "      <td>1.06</td>\n",
       "    </tr>\n",
       "    <tr>\n",
       "      <th>16</th>\n",
       "      <td>What is your current occupation_Housewife</td>\n",
       "      <td>1.04</td>\n",
       "    </tr>\n",
       "    <tr>\n",
       "      <th>12</th>\n",
       "      <td>Specialization_Hospitality Management</td>\n",
       "      <td>1.03</td>\n",
       "    </tr>\n",
       "    <tr>\n",
       "      <th>11</th>\n",
       "      <td>Specialization_E-COMMERCE</td>\n",
       "      <td>1.03</td>\n",
       "    </tr>\n",
       "    <tr>\n",
       "      <th>17</th>\n",
       "      <td>What is your current occupation_Other</td>\n",
       "      <td>1.02</td>\n",
       "    </tr>\n",
       "    <tr>\n",
       "      <th>14</th>\n",
       "      <td>Specialization_Rural and Agribusiness</td>\n",
       "      <td>1.02</td>\n",
       "    </tr>\n",
       "    <tr>\n",
       "      <th>13</th>\n",
       "      <td>Specialization_Retail Management</td>\n",
       "      <td>1.02</td>\n",
       "    </tr>\n",
       "    <tr>\n",
       "      <th>10</th>\n",
       "      <td>Lead Source_google</td>\n",
       "      <td>1.01</td>\n",
       "    </tr>\n",
       "    <tr>\n",
       "      <th>7</th>\n",
       "      <td>Lead Source_Press_Release</td>\n",
       "      <td>1.01</td>\n",
       "    </tr>\n",
       "  </tbody>\n",
       "</table>\n",
       "</div>"
      ],
      "text/plain": [
       "                                             Features   VIF\n",
       "2                 Lead Origin_Landing Page Submission  4.86\n",
       "4                          Lead Source_Direct Traffic  4.12\n",
       "19         What is your current occupation_Unemployed  3.81\n",
       "5                                  Lead Source_Google  3.09\n",
       "26                                 Lead Quality_Worst  2.13\n",
       "6                          Lead Source_Organic Search  1.84\n",
       "24                              Lead Quality_Might be  1.78\n",
       "20  What is your current occupation_Working Profes...  1.77\n",
       "22                 Lead Profile_Student of SomeSchool  1.75\n",
       "3                           Lead Origin_Lead Add Form  1.67\n",
       "25                              Lead Quality_Not Sure  1.50\n",
       "23                      Lead Quality_Low in Relevance  1.37\n",
       "21                           Lead Profile_Other Leads  1.31\n",
       "15                             Specialization_Unknown  1.30\n",
       "18            What is your current occupation_Student  1.26\n",
       "9                        Lead Source_Welingak Website  1.25\n",
       "1                         Total Time Spent on Website  1.22\n",
       "0                                        Do Not Email  1.13\n",
       "8                          Lead Source_Referral Sites  1.06\n",
       "16          What is your current occupation_Housewife  1.04\n",
       "12              Specialization_Hospitality Management  1.03\n",
       "11                          Specialization_E-COMMERCE  1.03\n",
       "17              What is your current occupation_Other  1.02\n",
       "14              Specialization_Rural and Agribusiness  1.02\n",
       "13                   Specialization_Retail Management  1.02\n",
       "10                                 Lead Source_google  1.01\n",
       "7                           Lead Source_Press_Release  1.01"
      ]
     },
     "execution_count": 74,
     "metadata": {},
     "output_type": "execute_result"
    }
   ],
   "source": [
    "vif = pd.DataFrame()\n",
    "vif['Features'] = X_train[col].columns\n",
    "vif['VIF'] = [variance_inflation_factor(X_train[col].values, i) for i in range(X_train[col].shape[1])]\n",
    "vif['VIF'] = round(vif['VIF'], 2)\n",
    "vif = vif.sort_values(by = \"VIF\", ascending = False)\n",
    "vif"
   ]
  },
  {
   "cell_type": "code",
   "execution_count": 75,
   "id": "20bd7103",
   "metadata": {},
   "outputs": [
    {
     "data": {
      "text/plain": [
       "Index(['Do Not Email', 'Total Time Spent on Website',\n",
       "       'Lead Origin_Lead Add Form', 'Lead Source_Google',\n",
       "       'Lead Source_Organic Search', 'Lead Source_Press_Release',\n",
       "       'Lead Source_Referral Sites', 'Lead Source_Welingak Website',\n",
       "       'Specialization_E-COMMERCE', 'Specialization_Hospitality Management',\n",
       "       'Specialization_Retail Management',\n",
       "       'Specialization_Rural and Agribusiness', 'Specialization_Unknown',\n",
       "       'What is your current occupation_Housewife',\n",
       "       'What is your current occupation_Other',\n",
       "       'What is your current occupation_Student',\n",
       "       'What is your current occupation_Unemployed',\n",
       "       'What is your current occupation_Working Professional',\n",
       "       'Lead Profile_Other Leads', 'Lead Profile_Student of SomeSchool',\n",
       "       'Lead Quality_Low in Relevance', 'Lead Quality_Might be',\n",
       "       'Lead Quality_Not Sure'],\n",
       "      dtype='object')"
      ]
     },
     "execution_count": 75,
     "metadata": {},
     "output_type": "execute_result"
    }
   ],
   "source": [
    "col = col.drop(['Lead Origin_Landing Page Submission','Lead Source_Direct Traffic','Lead Quality_Worst','Lead Source_google'],1)\n",
    "col"
   ]
  },
  {
   "cell_type": "code",
   "execution_count": 76,
   "id": "587b0206",
   "metadata": {},
   "outputs": [
    {
     "data": {
      "text/html": [
       "<table class=\"simpletable\">\n",
       "<caption>Generalized Linear Model Regression Results</caption>\n",
       "<tr>\n",
       "  <th>Dep. Variable:</th>       <td>Converted</td>    <th>  No. Observations:  </th>  <td>  6468</td> \n",
       "</tr>\n",
       "<tr>\n",
       "  <th>Model:</th>                  <td>GLM</td>       <th>  Df Residuals:      </th>  <td>  6444</td> \n",
       "</tr>\n",
       "<tr>\n",
       "  <th>Model Family:</th>        <td>Binomial</td>     <th>  Df Model:          </th>  <td>    23</td> \n",
       "</tr>\n",
       "<tr>\n",
       "  <th>Link Function:</th>         <td>Logit</td>      <th>  Scale:             </th> <td>  1.0000</td>\n",
       "</tr>\n",
       "<tr>\n",
       "  <th>Method:</th>                <td>IRLS</td>       <th>  Log-Likelihood:    </th> <td> -2698.2</td>\n",
       "</tr>\n",
       "<tr>\n",
       "  <th>Date:</th>            <td>Thu, 23 Feb 2023</td> <th>  Deviance:          </th> <td>  5396.4</td>\n",
       "</tr>\n",
       "<tr>\n",
       "  <th>Time:</th>                <td>11:52:15</td>     <th>  Pearson chi2:      </th> <td>7.50e+03</td>\n",
       "</tr>\n",
       "<tr>\n",
       "  <th>No. Iterations:</th>         <td>21</td>        <th>  Pseudo R-squ. (CS):</th>  <td>0.3905</td> \n",
       "</tr>\n",
       "<tr>\n",
       "  <th>Covariance Type:</th>     <td>nonrobust</td>    <th>                     </th>     <td> </td>   \n",
       "</tr>\n",
       "</table>\n",
       "<table class=\"simpletable\">\n",
       "<tr>\n",
       "                            <td></td>                              <th>coef</th>     <th>std err</th>      <th>z</th>      <th>P>|z|</th>  <th>[0.025</th>    <th>0.975]</th>  \n",
       "</tr>\n",
       "<tr>\n",
       "  <th>const</th>                                                <td>   -1.5735</td> <td>    0.101</td> <td>  -15.520</td> <td> 0.000</td> <td>   -1.772</td> <td>   -1.375</td>\n",
       "</tr>\n",
       "<tr>\n",
       "  <th>Do Not Email</th>                                         <td>   -1.3326</td> <td>    0.164</td> <td>   -8.148</td> <td> 0.000</td> <td>   -1.653</td> <td>   -1.012</td>\n",
       "</tr>\n",
       "<tr>\n",
       "  <th>Total Time Spent on Website</th>                          <td>    0.9222</td> <td>    0.036</td> <td>   25.608</td> <td> 0.000</td> <td>    0.852</td> <td>    0.993</td>\n",
       "</tr>\n",
       "<tr>\n",
       "  <th>Lead Origin_Lead Add Form</th>                            <td>    2.9377</td> <td>    0.189</td> <td>   15.517</td> <td> 0.000</td> <td>    2.567</td> <td>    3.309</td>\n",
       "</tr>\n",
       "<tr>\n",
       "  <th>Lead Source_Google</th>                                   <td>   -0.0818</td> <td>    0.078</td> <td>   -1.046</td> <td> 0.296</td> <td>   -0.235</td> <td>    0.072</td>\n",
       "</tr>\n",
       "<tr>\n",
       "  <th>Lead Source_Organic Search</th>                           <td>   -0.1816</td> <td>    0.108</td> <td>   -1.684</td> <td> 0.092</td> <td>   -0.393</td> <td>    0.030</td>\n",
       "</tr>\n",
       "<tr>\n",
       "  <th>Lead Source_Press_Release</th>                            <td>  -20.0394</td> <td> 2.98e+04</td> <td>   -0.001</td> <td> 0.999</td> <td>-5.85e+04</td> <td> 5.85e+04</td>\n",
       "</tr>\n",
       "<tr>\n",
       "  <th>Lead Source_Referral Sites</th>                           <td>   -0.8377</td> <td>    0.316</td> <td>   -2.654</td> <td> 0.008</td> <td>   -1.456</td> <td>   -0.219</td>\n",
       "</tr>\n",
       "<tr>\n",
       "  <th>Lead Source_Welingak Website</th>                         <td>    2.3829</td> <td>    0.742</td> <td>    3.213</td> <td> 0.001</td> <td>    0.929</td> <td>    3.836</td>\n",
       "</tr>\n",
       "<tr>\n",
       "  <th>Specialization_E-COMMERCE</th>                            <td>    0.1127</td> <td>    0.279</td> <td>    0.404</td> <td> 0.686</td> <td>   -0.434</td> <td>    0.659</td>\n",
       "</tr>\n",
       "<tr>\n",
       "  <th>Specialization_Hospitality Management</th>                <td>   -0.8982</td> <td>    0.316</td> <td>   -2.843</td> <td> 0.004</td> <td>   -1.517</td> <td>   -0.279</td>\n",
       "</tr>\n",
       "<tr>\n",
       "  <th>Specialization_Retail Management</th>                     <td>   -0.2901</td> <td>    0.328</td> <td>   -0.884</td> <td> 0.377</td> <td>   -0.934</td> <td>    0.353</td>\n",
       "</tr>\n",
       "<tr>\n",
       "  <th>Specialization_Rural and Agribusiness</th>                <td>    0.4007</td> <td>    0.388</td> <td>    1.032</td> <td> 0.302</td> <td>   -0.360</td> <td>    1.161</td>\n",
       "</tr>\n",
       "<tr>\n",
       "  <th>Specialization_Unknown</th>                               <td>   -0.1622</td> <td>    0.143</td> <td>   -1.136</td> <td> 0.256</td> <td>   -0.442</td> <td>    0.118</td>\n",
       "</tr>\n",
       "<tr>\n",
       "  <th>What is your current occupation_Housewife</th>            <td>   21.9508</td> <td> 1.41e+04</td> <td>    0.002</td> <td> 0.999</td> <td>-2.76e+04</td> <td> 2.76e+04</td>\n",
       "</tr>\n",
       "<tr>\n",
       "  <th>What is your current occupation_Other</th>                <td>    0.3405</td> <td>    0.864</td> <td>    0.394</td> <td> 0.694</td> <td>   -1.353</td> <td>    2.034</td>\n",
       "</tr>\n",
       "<tr>\n",
       "  <th>What is your current occupation_Student</th>              <td>    0.9964</td> <td>    0.294</td> <td>    3.388</td> <td> 0.001</td> <td>    0.420</td> <td>    1.573</td>\n",
       "</tr>\n",
       "<tr>\n",
       "  <th>What is your current occupation_Unemployed</th>           <td>    0.8914</td> <td>    0.109</td> <td>    8.172</td> <td> 0.000</td> <td>    0.678</td> <td>    1.105</td>\n",
       "</tr>\n",
       "<tr>\n",
       "  <th>What is your current occupation_Working Professional</th> <td>    2.7374</td> <td>    0.217</td> <td>   12.595</td> <td> 0.000</td> <td>    2.311</td> <td>    3.163</td>\n",
       "</tr>\n",
       "<tr>\n",
       "  <th>Lead Profile_Other Leads</th>                             <td>   -0.7589</td> <td>    0.169</td> <td>   -4.489</td> <td> 0.000</td> <td>   -1.090</td> <td>   -0.428</td>\n",
       "</tr>\n",
       "<tr>\n",
       "  <th>Lead Profile_Student of SomeSchool</th>                   <td>   -2.5172</td> <td>    0.437</td> <td>   -5.762</td> <td> 0.000</td> <td>   -3.373</td> <td>   -1.661</td>\n",
       "</tr>\n",
       "<tr>\n",
       "  <th>Lead Quality_Low in Relevance</th>                        <td>    1.8760</td> <td>    0.166</td> <td>   11.323</td> <td> 0.000</td> <td>    1.551</td> <td>    2.201</td>\n",
       "</tr>\n",
       "<tr>\n",
       "  <th>Lead Quality_Might be</th>                                <td>    1.2155</td> <td>    0.099</td> <td>   12.299</td> <td> 0.000</td> <td>    1.022</td> <td>    1.409</td>\n",
       "</tr>\n",
       "<tr>\n",
       "  <th>Lead Quality_Not Sure</th>                                <td>   -0.6300</td> <td>    0.112</td> <td>   -5.625</td> <td> 0.000</td> <td>   -0.850</td> <td>   -0.411</td>\n",
       "</tr>\n",
       "</table>"
      ],
      "text/plain": [
       "<class 'statsmodels.iolib.summary.Summary'>\n",
       "\"\"\"\n",
       "                 Generalized Linear Model Regression Results                  \n",
       "==============================================================================\n",
       "Dep. Variable:              Converted   No. Observations:                 6468\n",
       "Model:                            GLM   Df Residuals:                     6444\n",
       "Model Family:                Binomial   Df Model:                           23\n",
       "Link Function:                  Logit   Scale:                          1.0000\n",
       "Method:                          IRLS   Log-Likelihood:                -2698.2\n",
       "Date:                Thu, 23 Feb 2023   Deviance:                       5396.4\n",
       "Time:                        11:52:15   Pearson chi2:                 7.50e+03\n",
       "No. Iterations:                    21   Pseudo R-squ. (CS):             0.3905\n",
       "Covariance Type:            nonrobust                                         \n",
       "========================================================================================================================\n",
       "                                                           coef    std err          z      P>|z|      [0.025      0.975]\n",
       "------------------------------------------------------------------------------------------------------------------------\n",
       "const                                                   -1.5735      0.101    -15.520      0.000      -1.772      -1.375\n",
       "Do Not Email                                            -1.3326      0.164     -8.148      0.000      -1.653      -1.012\n",
       "Total Time Spent on Website                              0.9222      0.036     25.608      0.000       0.852       0.993\n",
       "Lead Origin_Lead Add Form                                2.9377      0.189     15.517      0.000       2.567       3.309\n",
       "Lead Source_Google                                      -0.0818      0.078     -1.046      0.296      -0.235       0.072\n",
       "Lead Source_Organic Search                              -0.1816      0.108     -1.684      0.092      -0.393       0.030\n",
       "Lead Source_Press_Release                              -20.0394   2.98e+04     -0.001      0.999   -5.85e+04    5.85e+04\n",
       "Lead Source_Referral Sites                              -0.8377      0.316     -2.654      0.008      -1.456      -0.219\n",
       "Lead Source_Welingak Website                             2.3829      0.742      3.213      0.001       0.929       3.836\n",
       "Specialization_E-COMMERCE                                0.1127      0.279      0.404      0.686      -0.434       0.659\n",
       "Specialization_Hospitality Management                   -0.8982      0.316     -2.843      0.004      -1.517      -0.279\n",
       "Specialization_Retail Management                        -0.2901      0.328     -0.884      0.377      -0.934       0.353\n",
       "Specialization_Rural and Agribusiness                    0.4007      0.388      1.032      0.302      -0.360       1.161\n",
       "Specialization_Unknown                                  -0.1622      0.143     -1.136      0.256      -0.442       0.118\n",
       "What is your current occupation_Housewife               21.9508   1.41e+04      0.002      0.999   -2.76e+04    2.76e+04\n",
       "What is your current occupation_Other                    0.3405      0.864      0.394      0.694      -1.353       2.034\n",
       "What is your current occupation_Student                  0.9964      0.294      3.388      0.001       0.420       1.573\n",
       "What is your current occupation_Unemployed               0.8914      0.109      8.172      0.000       0.678       1.105\n",
       "What is your current occupation_Working Professional     2.7374      0.217     12.595      0.000       2.311       3.163\n",
       "Lead Profile_Other Leads                                -0.7589      0.169     -4.489      0.000      -1.090      -0.428\n",
       "Lead Profile_Student of SomeSchool                      -2.5172      0.437     -5.762      0.000      -3.373      -1.661\n",
       "Lead Quality_Low in Relevance                            1.8760      0.166     11.323      0.000       1.551       2.201\n",
       "Lead Quality_Might be                                    1.2155      0.099     12.299      0.000       1.022       1.409\n",
       "Lead Quality_Not Sure                                   -0.6300      0.112     -5.625      0.000      -0.850      -0.411\n",
       "========================================================================================================================\n",
       "\"\"\""
      ]
     },
     "execution_count": 76,
     "metadata": {},
     "output_type": "execute_result"
    }
   ],
   "source": [
    "# Let's re-run the model using the selected variables\n",
    "X_train_sm = sm.add_constant(X_train[col])\n",
    "logm4 = sm.GLM(y_train,X_train_sm, family = sm.families.Binomial())\n",
    "res = logm4.fit()\n",
    "res.summary()"
   ]
  },
  {
   "cell_type": "code",
   "execution_count": 77,
   "id": "3d2568b4",
   "metadata": {},
   "outputs": [],
   "source": [
    "y_train_pred = res.predict(X_train_sm).values.reshape(-1)"
   ]
  },
  {
   "cell_type": "code",
   "execution_count": 78,
   "id": "a2216510",
   "metadata": {},
   "outputs": [
    {
     "data": {
      "text/plain": [
       "array([0.10635235, 0.33697081, 0.2108701 , 0.84690731, 0.18264283,\n",
       "       0.98365524, 0.14603877, 0.97937794, 0.11766508, 0.90656719])"
      ]
     },
     "execution_count": 78,
     "metadata": {},
     "output_type": "execute_result"
    }
   ],
   "source": [
    "y_train_pred[:10]"
   ]
  },
  {
   "cell_type": "code",
   "execution_count": 79,
   "id": "4976258d",
   "metadata": {},
   "outputs": [],
   "source": [
    "y_train_pred_final['Converted_prob'] = y_train_pred"
   ]
  },
  {
   "cell_type": "code",
   "execution_count": 80,
   "id": "3baf6e69",
   "metadata": {},
   "outputs": [
    {
     "data": {
      "text/html": [
       "<div>\n",
       "<style scoped>\n",
       "    .dataframe tbody tr th:only-of-type {\n",
       "        vertical-align: middle;\n",
       "    }\n",
       "\n",
       "    .dataframe tbody tr th {\n",
       "        vertical-align: top;\n",
       "    }\n",
       "\n",
       "    .dataframe thead th {\n",
       "        text-align: right;\n",
       "    }\n",
       "</style>\n",
       "<table border=\"1\" class=\"dataframe\">\n",
       "  <thead>\n",
       "    <tr style=\"text-align: right;\">\n",
       "      <th></th>\n",
       "      <th>Converted</th>\n",
       "      <th>Converted_prob</th>\n",
       "      <th>Lead Number</th>\n",
       "      <th>predicted</th>\n",
       "    </tr>\n",
       "  </thead>\n",
       "  <tbody>\n",
       "    <tr>\n",
       "      <th>0</th>\n",
       "      <td>0</td>\n",
       "      <td>0.106352</td>\n",
       "      <td>1871</td>\n",
       "      <td>0</td>\n",
       "    </tr>\n",
       "    <tr>\n",
       "      <th>1</th>\n",
       "      <td>0</td>\n",
       "      <td>0.336971</td>\n",
       "      <td>6795</td>\n",
       "      <td>0</td>\n",
       "    </tr>\n",
       "    <tr>\n",
       "      <th>2</th>\n",
       "      <td>0</td>\n",
       "      <td>0.210870</td>\n",
       "      <td>3516</td>\n",
       "      <td>0</td>\n",
       "    </tr>\n",
       "    <tr>\n",
       "      <th>3</th>\n",
       "      <td>0</td>\n",
       "      <td>0.846907</td>\n",
       "      <td>8105</td>\n",
       "      <td>1</td>\n",
       "    </tr>\n",
       "    <tr>\n",
       "      <th>4</th>\n",
       "      <td>0</td>\n",
       "      <td>0.182643</td>\n",
       "      <td>3934</td>\n",
       "      <td>0</td>\n",
       "    </tr>\n",
       "  </tbody>\n",
       "</table>\n",
       "</div>"
      ],
      "text/plain": [
       "   Converted  Converted_prob  Lead Number  predicted\n",
       "0          0        0.106352         1871          0\n",
       "1          0        0.336971         6795          0\n",
       "2          0        0.210870         3516          0\n",
       "3          0        0.846907         8105          1\n",
       "4          0        0.182643         3934          0"
      ]
     },
     "execution_count": 80,
     "metadata": {},
     "output_type": "execute_result"
    }
   ],
   "source": [
    "# Creating new column 'predicted' with 1 if Churn_Prob > 0.5 else 0\n",
    "y_train_pred_final['predicted'] = y_train_pred_final.Converted_prob.map(lambda x: 1 if x > 0.5 else 0)\n",
    "y_train_pred_final.head()"
   ]
  },
  {
   "cell_type": "code",
   "execution_count": 81,
   "id": "f45d8790",
   "metadata": {},
   "outputs": [
    {
     "name": "stdout",
     "output_type": "stream",
     "text": [
      "0.8126159554730983\n"
     ]
    }
   ],
   "source": [
    "# Let's check the overall accuracy.\n",
    "print(metrics.accuracy_score(y_train_pred_final.Converted, y_train_pred_final.predicted))"
   ]
  },
  {
   "cell_type": "code",
   "execution_count": 82,
   "id": "76cb9b9c",
   "metadata": {},
   "outputs": [
    {
     "data": {
      "text/html": [
       "<div>\n",
       "<style scoped>\n",
       "    .dataframe tbody tr th:only-of-type {\n",
       "        vertical-align: middle;\n",
       "    }\n",
       "\n",
       "    .dataframe tbody tr th {\n",
       "        vertical-align: top;\n",
       "    }\n",
       "\n",
       "    .dataframe thead th {\n",
       "        text-align: right;\n",
       "    }\n",
       "</style>\n",
       "<table border=\"1\" class=\"dataframe\">\n",
       "  <thead>\n",
       "    <tr style=\"text-align: right;\">\n",
       "      <th></th>\n",
       "      <th>Features</th>\n",
       "      <th>VIF</th>\n",
       "    </tr>\n",
       "  </thead>\n",
       "  <tbody>\n",
       "    <tr>\n",
       "      <th>16</th>\n",
       "      <td>What is your current occupation_Unemployed</td>\n",
       "      <td>2.66</td>\n",
       "    </tr>\n",
       "    <tr>\n",
       "      <th>21</th>\n",
       "      <td>Lead Quality_Might be</td>\n",
       "      <td>1.71</td>\n",
       "    </tr>\n",
       "    <tr>\n",
       "      <th>17</th>\n",
       "      <td>What is your current occupation_Working Profes...</td>\n",
       "      <td>1.61</td>\n",
       "    </tr>\n",
       "    <tr>\n",
       "      <th>3</th>\n",
       "      <td>Lead Source_Google</td>\n",
       "      <td>1.56</td>\n",
       "    </tr>\n",
       "    <tr>\n",
       "      <th>2</th>\n",
       "      <td>Lead Origin_Lead Add Form</td>\n",
       "      <td>1.54</td>\n",
       "    </tr>\n",
       "    <tr>\n",
       "      <th>22</th>\n",
       "      <td>Lead Quality_Not Sure</td>\n",
       "      <td>1.39</td>\n",
       "    </tr>\n",
       "    <tr>\n",
       "      <th>20</th>\n",
       "      <td>Lead Quality_Low in Relevance</td>\n",
       "      <td>1.31</td>\n",
       "    </tr>\n",
       "    <tr>\n",
       "      <th>7</th>\n",
       "      <td>Lead Source_Welingak Website</td>\n",
       "      <td>1.25</td>\n",
       "    </tr>\n",
       "    <tr>\n",
       "      <th>4</th>\n",
       "      <td>Lead Source_Organic Search</td>\n",
       "      <td>1.22</td>\n",
       "    </tr>\n",
       "    <tr>\n",
       "      <th>15</th>\n",
       "      <td>What is your current occupation_Student</td>\n",
       "      <td>1.20</td>\n",
       "    </tr>\n",
       "    <tr>\n",
       "      <th>19</th>\n",
       "      <td>Lead Profile_Student of SomeSchool</td>\n",
       "      <td>1.20</td>\n",
       "    </tr>\n",
       "    <tr>\n",
       "      <th>1</th>\n",
       "      <td>Total Time Spent on Website</td>\n",
       "      <td>1.17</td>\n",
       "    </tr>\n",
       "    <tr>\n",
       "      <th>12</th>\n",
       "      <td>Specialization_Unknown</td>\n",
       "      <td>1.16</td>\n",
       "    </tr>\n",
       "    <tr>\n",
       "      <th>18</th>\n",
       "      <td>Lead Profile_Other Leads</td>\n",
       "      <td>1.15</td>\n",
       "    </tr>\n",
       "    <tr>\n",
       "      <th>0</th>\n",
       "      <td>Do Not Email</td>\n",
       "      <td>1.08</td>\n",
       "    </tr>\n",
       "    <tr>\n",
       "      <th>13</th>\n",
       "      <td>What is your current occupation_Housewife</td>\n",
       "      <td>1.03</td>\n",
       "    </tr>\n",
       "    <tr>\n",
       "      <th>6</th>\n",
       "      <td>Lead Source_Referral Sites</td>\n",
       "      <td>1.03</td>\n",
       "    </tr>\n",
       "    <tr>\n",
       "      <th>9</th>\n",
       "      <td>Specialization_Hospitality Management</td>\n",
       "      <td>1.02</td>\n",
       "    </tr>\n",
       "    <tr>\n",
       "      <th>11</th>\n",
       "      <td>Specialization_Rural and Agribusiness</td>\n",
       "      <td>1.02</td>\n",
       "    </tr>\n",
       "    <tr>\n",
       "      <th>14</th>\n",
       "      <td>What is your current occupation_Other</td>\n",
       "      <td>1.01</td>\n",
       "    </tr>\n",
       "    <tr>\n",
       "      <th>10</th>\n",
       "      <td>Specialization_Retail Management</td>\n",
       "      <td>1.01</td>\n",
       "    </tr>\n",
       "    <tr>\n",
       "      <th>8</th>\n",
       "      <td>Specialization_E-COMMERCE</td>\n",
       "      <td>1.01</td>\n",
       "    </tr>\n",
       "    <tr>\n",
       "      <th>5</th>\n",
       "      <td>Lead Source_Press_Release</td>\n",
       "      <td>1.01</td>\n",
       "    </tr>\n",
       "  </tbody>\n",
       "</table>\n",
       "</div>"
      ],
      "text/plain": [
       "                                             Features   VIF\n",
       "16         What is your current occupation_Unemployed  2.66\n",
       "21                              Lead Quality_Might be  1.71\n",
       "17  What is your current occupation_Working Profes...  1.61\n",
       "3                                  Lead Source_Google  1.56\n",
       "2                           Lead Origin_Lead Add Form  1.54\n",
       "22                              Lead Quality_Not Sure  1.39\n",
       "20                      Lead Quality_Low in Relevance  1.31\n",
       "7                        Lead Source_Welingak Website  1.25\n",
       "4                          Lead Source_Organic Search  1.22\n",
       "15            What is your current occupation_Student  1.20\n",
       "19                 Lead Profile_Student of SomeSchool  1.20\n",
       "1                         Total Time Spent on Website  1.17\n",
       "12                             Specialization_Unknown  1.16\n",
       "18                           Lead Profile_Other Leads  1.15\n",
       "0                                        Do Not Email  1.08\n",
       "13          What is your current occupation_Housewife  1.03\n",
       "6                          Lead Source_Referral Sites  1.03\n",
       "9               Specialization_Hospitality Management  1.02\n",
       "11              Specialization_Rural and Agribusiness  1.02\n",
       "14              What is your current occupation_Other  1.01\n",
       "10                   Specialization_Retail Management  1.01\n",
       "8                           Specialization_E-COMMERCE  1.01\n",
       "5                           Lead Source_Press_Release  1.01"
      ]
     },
     "execution_count": 82,
     "metadata": {},
     "output_type": "execute_result"
    }
   ],
   "source": [
    "vif = pd.DataFrame()\n",
    "vif['Features'] = X_train[col].columns\n",
    "vif['VIF'] = [variance_inflation_factor(X_train[col].values, i) for i in range(X_train[col].shape[1])]\n",
    "vif['VIF'] = round(vif['VIF'], 2)\n",
    "vif = vif.sort_values(by = \"VIF\", ascending = False)\n",
    "vif"
   ]
  },
  {
   "cell_type": "code",
   "execution_count": 83,
   "id": "e8b1812a",
   "metadata": {},
   "outputs": [
    {
     "data": {
      "text/plain": [
       "Index(['Do Not Email', 'Total Time Spent on Website',\n",
       "       'Lead Origin_Lead Add Form', 'Lead Source_Google',\n",
       "       'Lead Source_Organic Search', 'Lead Source_Press_Release',\n",
       "       'Lead Source_Referral Sites', 'Lead Source_Welingak Website',\n",
       "       'Specialization_E-COMMERCE', 'Specialization_Hospitality Management',\n",
       "       'Specialization_Retail Management',\n",
       "       'Specialization_Rural and Agribusiness', 'Specialization_Unknown',\n",
       "       'What is your current occupation_Housewife',\n",
       "       'What is your current occupation_Other',\n",
       "       'What is your current occupation_Student',\n",
       "       'What is your current occupation_Unemployed',\n",
       "       'What is your current occupation_Working Professional',\n",
       "       'Lead Profile_Other Leads', 'Lead Profile_Student of SomeSchool',\n",
       "       'Lead Quality_Low in Relevance', 'Lead Quality_Might be',\n",
       "       'Lead Quality_Not Sure'],\n",
       "      dtype='object')"
      ]
     },
     "execution_count": 83,
     "metadata": {},
     "output_type": "execute_result"
    }
   ],
   "source": [
    "col"
   ]
  },
  {
   "cell_type": "markdown",
   "id": "9fab895b",
   "metadata": {},
   "source": [
    "#### All variables have a good value of VIF. So we need not drop any more variables and we can proceed with making predictions using this model only"
   ]
  },
  {
   "cell_type": "code",
   "execution_count": 84,
   "id": "f6bde04c",
   "metadata": {},
   "outputs": [
    {
     "data": {
      "text/plain": [
       "array([[3559,  443],\n",
       "       [ 769, 1697]], dtype=int64)"
      ]
     },
     "execution_count": 84,
     "metadata": {},
     "output_type": "execute_result"
    }
   ],
   "source": [
    "# Let's take a look at the confusion matrix again \n",
    "confusion = metrics.confusion_matrix(y_train_pred_final.Converted, y_train_pred_final.predicted )\n",
    "confusion"
   ]
  },
  {
   "cell_type": "code",
   "execution_count": 85,
   "id": "30bf69b3",
   "metadata": {},
   "outputs": [
    {
     "data": {
      "text/plain": [
       "0.8126159554730983"
      ]
     },
     "execution_count": 85,
     "metadata": {},
     "output_type": "execute_result"
    }
   ],
   "source": [
    "# Let's check the overall accuracy.\n",
    "metrics.accuracy_score(y_train_pred_final.Converted, y_train_pred_final.predicted)"
   ]
  },
  {
   "cell_type": "markdown",
   "id": "803a1fcc",
   "metadata": {},
   "source": [
    "### Metrics beyond simply accuracy"
   ]
  },
  {
   "cell_type": "code",
   "execution_count": 86,
   "id": "1e142cf5",
   "metadata": {},
   "outputs": [],
   "source": [
    "TP = confusion[1,1] # true positive \n",
    "TN = confusion[0,0] # true negatives\n",
    "FP = confusion[0,1] # false positives\n",
    "FN = confusion[1,0] # false negatives"
   ]
  },
  {
   "cell_type": "code",
   "execution_count": 87,
   "id": "5a1a5426",
   "metadata": {},
   "outputs": [
    {
     "data": {
      "text/plain": [
       "0.6881589618815896"
      ]
     },
     "execution_count": 87,
     "metadata": {},
     "output_type": "execute_result"
    }
   ],
   "source": [
    "# Let's see the sensitivity of our logistic regression model\n",
    "TP / float(TP+FN)"
   ]
  },
  {
   "cell_type": "code",
   "execution_count": 88,
   "id": "91e85b79",
   "metadata": {},
   "outputs": [
    {
     "data": {
      "text/plain": [
       "0.8893053473263368"
      ]
     },
     "execution_count": 88,
     "metadata": {},
     "output_type": "execute_result"
    }
   ],
   "source": [
    "# Let us calculate specificity\n",
    "TN / float(TN+FP)"
   ]
  },
  {
   "cell_type": "code",
   "execution_count": 89,
   "id": "2fe3a6a3",
   "metadata": {},
   "outputs": [
    {
     "name": "stdout",
     "output_type": "stream",
     "text": [
      "0.11069465267366317\n"
     ]
    }
   ],
   "source": [
    "# Calculate false postive rate - predicting converted rate when customer does not have converted\n",
    "print(FP/ float(TN+FP))"
   ]
  },
  {
   "cell_type": "code",
   "execution_count": 90,
   "id": "daeffd38",
   "metadata": {},
   "outputs": [
    {
     "name": "stdout",
     "output_type": "stream",
     "text": [
      "0.7929906542056074\n"
     ]
    }
   ],
   "source": [
    "# positive predictive value \n",
    "print (TP / float(TP+FP))"
   ]
  },
  {
   "cell_type": "code",
   "execution_count": 91,
   "id": "0cde8281",
   "metadata": {},
   "outputs": [
    {
     "name": "stdout",
     "output_type": "stream",
     "text": [
      "0.8223197781885397\n"
     ]
    }
   ],
   "source": [
    "# Negative predictive value\n",
    "print (TN / float(TN+ FN))"
   ]
  },
  {
   "cell_type": "markdown",
   "id": "800e8002",
   "metadata": {},
   "source": [
    "Precision and Recall"
   ]
  },
  {
   "cell_type": "code",
   "execution_count": 96,
   "id": "ff30f283",
   "metadata": {},
   "outputs": [],
   "source": [
    "from sklearn.metrics import precision_recall_curve"
   ]
  },
  {
   "cell_type": "code",
   "execution_count": 97,
   "id": "b1c86d1e",
   "metadata": {},
   "outputs": [
    {
     "data": {
      "text/plain": [
       "array([[3559,  443],\n",
       "       [ 769, 1697]], dtype=int64)"
      ]
     },
     "execution_count": 97,
     "metadata": {},
     "output_type": "execute_result"
    }
   ],
   "source": [
    "confusion = metrics.confusion_matrix(y_train_pred_final.Converted, y_train_pred_final.predicted )\n",
    "confusion"
   ]
  },
  {
   "cell_type": "code",
   "execution_count": 98,
   "id": "45b4f090",
   "metadata": {},
   "outputs": [
    {
     "data": {
      "text/plain": [
       "0.7929906542056074"
      ]
     },
     "execution_count": 98,
     "metadata": {},
     "output_type": "execute_result"
    }
   ],
   "source": [
    "confusion[1,1]/(confusion[0,1]+confusion[1,1])"
   ]
  },
  {
   "cell_type": "code",
   "execution_count": 99,
   "id": "e13d48a7",
   "metadata": {},
   "outputs": [
    {
     "data": {
      "text/plain": [
       "0.6881589618815896"
      ]
     },
     "execution_count": 99,
     "metadata": {},
     "output_type": "execute_result"
    }
   ],
   "source": [
    "confusion[1,1]/(confusion[1,0]+confusion[1,1])"
   ]
  },
  {
   "cell_type": "code",
   "execution_count": 100,
   "id": "e48fd5d1",
   "metadata": {},
   "outputs": [],
   "source": [
    "from sklearn.metrics import precision_score, recall_score"
   ]
  },
  {
   "cell_type": "code",
   "execution_count": 101,
   "id": "ecc0e7c4",
   "metadata": {},
   "outputs": [
    {
     "data": {
      "text/plain": [
       "0.7929906542056074"
      ]
     },
     "execution_count": 101,
     "metadata": {},
     "output_type": "execute_result"
    }
   ],
   "source": [
    "precision_score(y_train_pred_final.Converted, y_train_pred_final.predicted)"
   ]
  },
  {
   "cell_type": "code",
   "execution_count": 102,
   "id": "81a60dd2",
   "metadata": {},
   "outputs": [
    {
     "data": {
      "text/plain": [
       "0.6881589618815896"
      ]
     },
     "execution_count": 102,
     "metadata": {},
     "output_type": "execute_result"
    }
   ],
   "source": [
    "recall_score(y_train_pred_final.Converted, y_train_pred_final.predicted)"
   ]
  },
  {
   "cell_type": "markdown",
   "id": "356025bb",
   "metadata": {},
   "source": [
    "### Step 9: Plotting the ROC Curve¶"
   ]
  },
  {
   "cell_type": "code",
   "execution_count": 103,
   "id": "3ef4959e",
   "metadata": {},
   "outputs": [],
   "source": [
    "def draw_roc( actual, probs ):\n",
    "    fpr, tpr, thresholds = metrics.roc_curve( actual, probs,\n",
    "                                              drop_intermediate = False )\n",
    "    auc_score = metrics.roc_auc_score( actual, probs )\n",
    "    plt.figure(figsize=(5, 5))\n",
    "    plt.plot( fpr, tpr, label='ROC curve (area = %0.2f)' % auc_score )\n",
    "    plt.plot([0, 1], [0, 1], 'k--')\n",
    "    plt.xlim([0.0, 1.0])\n",
    "    plt.ylim([0.0, 1.05])\n",
    "    plt.xlabel('False Positive Rate or [1 - True Negative Rate]')\n",
    "    plt.ylabel('True Positive Rate')\n",
    "    plt.title('Receiver operating characteristic example')\n",
    "    plt.legend(loc=\"lower right\")\n",
    "    plt.show()\n",
    "\n",
    "    return None"
   ]
  },
  {
   "cell_type": "code",
   "execution_count": 105,
   "id": "159e5557",
   "metadata": {},
   "outputs": [],
   "source": [
    "fpr, tpr, thresholds = metrics.roc_curve( y_train_pred_final.Converted, y_train_pred_final.Converted_prob, drop_intermediate = False )"
   ]
  },
  {
   "cell_type": "code",
   "execution_count": 107,
   "id": "0fdc39fb",
   "metadata": {},
   "outputs": [
    {
     "data": {
      "image/png": "[encoded data removed]",
      "text/plain": [
       "<Figure size 360x360 with 1 Axes>"
      ]
     },
     "metadata": {
      "needs_background": "light"
     },
     "output_type": "display_data"
    }
   ],
   "source": [
    "draw_roc(y_train_pred_final.Converted, y_train_pred_final.Converted_prob)"
   ]
  },
  {
   "cell_type": "markdown",
   "id": "8912b9cb",
   "metadata": {},
   "source": [
    "# Step 10: Finding Optimal Cutoff Point"
   ]
  },
  {
   "cell_type": "code",
   "execution_count": 109,
   "id": "ff308186",
   "metadata": {},
   "outputs": [
    {
     "data": {
      "text/html": [
       "<div>\n",
       "<style scoped>\n",
       "    .dataframe tbody tr th:only-of-type {\n",
       "        vertical-align: middle;\n",
       "    }\n",
       "\n",
       "    .dataframe tbody tr th {\n",
       "        vertical-align: top;\n",
       "    }\n",
       "\n",
       "    .dataframe thead th {\n",
       "        text-align: right;\n",
       "    }\n",
       "</style>\n",
       "<table border=\"1\" class=\"dataframe\">\n",
       "  <thead>\n",
       "    <tr style=\"text-align: right;\">\n",
       "      <th></th>\n",
       "      <th>Converted</th>\n",
       "      <th>Converted_prob</th>\n",
       "      <th>Lead Number</th>\n",
       "      <th>predicted</th>\n",
       "      <th>0.0</th>\n",
       "      <th>0.1</th>\n",
       "      <th>0.2</th>\n",
       "      <th>0.3</th>\n",
       "      <th>0.4</th>\n",
       "      <th>0.5</th>\n",
       "      <th>0.6</th>\n",
       "      <th>0.7</th>\n",
       "      <th>0.8</th>\n",
       "      <th>0.9</th>\n",
       "    </tr>\n",
       "  </thead>\n",
       "  <tbody>\n",
       "    <tr>\n",
       "      <th>0</th>\n",
       "      <td>0</td>\n",
       "      <td>0.106352</td>\n",
       "      <td>1871</td>\n",
       "      <td>0</td>\n",
       "      <td>1</td>\n",
       "      <td>1</td>\n",
       "      <td>0</td>\n",
       "      <td>0</td>\n",
       "      <td>0</td>\n",
       "      <td>0</td>\n",
       "      <td>0</td>\n",
       "      <td>0</td>\n",
       "      <td>0</td>\n",
       "      <td>0</td>\n",
       "    </tr>\n",
       "    <tr>\n",
       "      <th>1</th>\n",
       "      <td>0</td>\n",
       "      <td>0.336971</td>\n",
       "      <td>6795</td>\n",
       "      <td>0</td>\n",
       "      <td>1</td>\n",
       "      <td>1</td>\n",
       "      <td>1</td>\n",
       "      <td>1</td>\n",
       "      <td>0</td>\n",
       "      <td>0</td>\n",
       "      <td>0</td>\n",
       "      <td>0</td>\n",
       "      <td>0</td>\n",
       "      <td>0</td>\n",
       "    </tr>\n",
       "    <tr>\n",
       "      <th>2</th>\n",
       "      <td>0</td>\n",
       "      <td>0.210870</td>\n",
       "      <td>3516</td>\n",
       "      <td>0</td>\n",
       "      <td>1</td>\n",
       "      <td>1</td>\n",
       "      <td>1</td>\n",
       "      <td>0</td>\n",
       "      <td>0</td>\n",
       "      <td>0</td>\n",
       "      <td>0</td>\n",
       "      <td>0</td>\n",
       "      <td>0</td>\n",
       "      <td>0</td>\n",
       "    </tr>\n",
       "    <tr>\n",
       "      <th>3</th>\n",
       "      <td>0</td>\n",
       "      <td>0.846907</td>\n",
       "      <td>8105</td>\n",
       "      <td>1</td>\n",
       "      <td>1</td>\n",
       "      <td>1</td>\n",
       "      <td>1</td>\n",
       "      <td>1</td>\n",
       "      <td>1</td>\n",
       "      <td>1</td>\n",
       "      <td>1</td>\n",
       "      <td>1</td>\n",
       "      <td>1</td>\n",
       "      <td>0</td>\n",
       "    </tr>\n",
       "    <tr>\n",
       "      <th>4</th>\n",
       "      <td>0</td>\n",
       "      <td>0.182643</td>\n",
       "      <td>3934</td>\n",
       "      <td>0</td>\n",
       "      <td>1</td>\n",
       "      <td>1</td>\n",
       "      <td>0</td>\n",
       "      <td>0</td>\n",
       "      <td>0</td>\n",
       "      <td>0</td>\n",
       "      <td>0</td>\n",
       "      <td>0</td>\n",
       "      <td>0</td>\n",
       "      <td>0</td>\n",
       "    </tr>\n",
       "  </tbody>\n",
       "</table>\n",
       "</div>"
      ],
      "text/plain": [
       "   Converted  Converted_prob  Lead Number  predicted  0.0  0.1  0.2  0.3  0.4  \\\n",
       "0          0        0.106352         1871          0    1    1    0    0    0   \n",
       "1          0        0.336971         6795          0    1    1    1    1    0   \n",
       "2          0        0.210870         3516          0    1    1    1    0    0   \n",
       "3          0        0.846907         8105          1    1    1    1    1    1   \n",
       "4          0        0.182643         3934          0    1    1    0    0    0   \n",
       "\n",
       "   0.5  0.6  0.7  0.8  0.9  \n",
       "0    0    0    0    0    0  \n",
       "1    0    0    0    0    0  \n",
       "2    0    0    0    0    0  \n",
       "3    1    1    1    1    0  \n",
       "4    0    0    0    0    0  "
      ]
     },
     "execution_count": 109,
     "metadata": {},
     "output_type": "execute_result"
    }
   ],
   "source": [
    "# Let's create columns with different probability cutoffs \n",
    "numbers = [float(x)/10 for x in range(10)]\n",
    "for i in numbers:\n",
    "    y_train_pred_final[i]= y_train_pred_final.Converted_prob.map(lambda x: 1 if x > i else 0)\n",
    "y_train_pred_final.head()"
   ]
  },
  {
   "cell_type": "code",
   "execution_count": 110,
   "id": "aa6968bf",
   "metadata": {},
   "outputs": [
    {
     "name": "stdout",
     "output_type": "stream",
     "text": [
      "     prob  accuracy     sensi     speci\n",
      "0.0   0.0  0.381262  1.000000  0.000000\n",
      "0.1   0.1  0.588899  0.965126  0.357071\n",
      "0.2   0.2  0.743970  0.868613  0.667166\n",
      "0.3   0.3  0.799938  0.817924  0.788856\n",
      "0.4   0.4  0.815244  0.774534  0.840330\n",
      "0.5   0.5  0.812616  0.688159  0.889305\n",
      "0.6   0.6  0.802876  0.597729  0.929285\n",
      "0.7   0.7  0.792362  0.527170  0.955772\n",
      "0.8   0.8  0.775819  0.452960  0.974763\n",
      "0.9   0.9  0.726036  0.297242  0.990255\n"
     ]
    }
   ],
   "source": [
    "# Now let's calculate accuracy sensitivity and specificity for various probability cutoffs.\n",
    "cutoff_df = pd.DataFrame( columns = ['prob','accuracy','sensi','speci'])\n",
    "from sklearn.metrics import confusion_matrix\n",
    "\n",
    "\n",
    "num = [0.0,0.1,0.2,0.3,0.4,0.5,0.6,0.7,0.8,0.9]\n",
    "for i in num:\n",
    "    cm1 = metrics.confusion_matrix(y_train_pred_final.Converted, y_train_pred_final[i] )\n",
    "    total1=sum(sum(cm1))\n",
    "    accuracy = (cm1[0,0]+cm1[1,1])/total1\n",
    "    \n",
    "    speci = cm1[0,0]/(cm1[0,0]+cm1[0,1])\n",
    "    sensi = cm1[1,1]/(cm1[1,0]+cm1[1,1])\n",
    "    cutoff_df.loc[i] =[ i ,accuracy,sensi,speci]\n",
    "print(cutoff_df)"
   ]
  },
  {
   "cell_type": "code",
   "execution_count": 111,
   "id": "10fdccb6",
   "metadata": {},
   "outputs": [
    {
     "data": {
      "image/png": "[encoded data removed]",
      "text/plain": [
       "<Figure size 432x288 with 1 Axes>"
      ]
     },
     "metadata": {
      "needs_background": "light"
     },
     "output_type": "display_data"
    }
   ],
   "source": [
    "# Let's plot accuracy sensitivity and specificity for various probabilities.\n",
    "cutoff_df.plot.line(x='prob', y=['accuracy','sensi','speci'])\n",
    "plt.show()"
   ]
  },
  {
   "cell_type": "markdown",
   "id": "40b0c6a0",
   "metadata": {},
   "source": [
    "From the curve above, 0.3 is the optimum point to take it as a cutoff probability."
   ]
  },
  {
   "cell_type": "markdown",
   "id": "e3bd420f",
   "metadata": {},
   "source": [
    "By this we have completed building model Logistic reg model,accuracy, precision, recall,roc curve is included."
   ]
  },
  {
   "cell_type": "code",
   "execution_count": null,
   "id": "460d1f07",
   "metadata": {},
   "outputs": [],
   "source": []
  },
  {
   "cell_type": "code",
   "execution_count": null,
   "id": "410f9c85",
   "metadata": {},
   "outputs": [],
   "source": []
  },
  {
   "cell_type": "code",
   "execution_count": null,
   "id": "8309bb9b",
   "metadata": {},
   "outputs": [],
   "source": []
  },
  {
   "cell_type": "code",
   "execution_count": null,
   "id": "722524b0",
   "metadata": {},
   "outputs": [],
   "source": []
  },
  {
   "cell_type": "code",
   "execution_count": null,
   "id": "63c4394c",
   "metadata": {},
   "outputs": [],
   "source": []
  },
  {
   "cell_type": "code",
   "execution_count": null,
   "id": "b3020632",
   "metadata": {},
   "outputs": [],
   "source": []
  },
  {
   "cell_type": "code",
   "execution_count": null,
   "id": "f0756c4d",
   "metadata": {},
   "outputs": [],
   "source": []
  },
  {
   "cell_type": "code",
   "execution_count": null,
   "id": "46b65086",
   "metadata": {},
   "outputs": [],
   "source": []
  },
  {
   "cell_type": "code",
   "execution_count": null,
   "id": "7df33950",
   "metadata": {},
   "outputs": [],
   "source": []
  },
  {
   "cell_type": "code",
   "execution_count": null,
   "id": "3bb98100",
   "metadata": {},
   "outputs": [],
   "source": []
  },
  {
   "cell_type": "code",
   "execution_count": null,
   "id": "6e50bcac",
   "metadata": {},
   "outputs": [],
   "source": []
  },
  {
   "cell_type": "code",
   "execution_count": null,
   "id": "29bd6392",
   "metadata": {},
   "outputs": [],
   "source": []
  },
  {
   "cell_type": "code",
   "execution_count": null,
   "id": "a7932db5",
   "metadata": {},
   "outputs": [],
   "source": []
  }
 ],
 "metadata": {
  "kernelspec": {
   "display_name": "Python 3 (ipykernel)",
   "language": "python",
   "name": "python3"
  },
  "language_info": {
   "codemirror_mode": {
    "name": "ipython",
    "version": 3
   },
   "file_extension": ".py",
   "mimetype": "text/x-python",
   "name": "python",
   "nbconvert_exporter": "python",
   "pygments_lexer": "ipython3",
   "version": "3.9.12"
  }
 },
 "nbformat": 4,
 "nbformat_minor": 5
}
